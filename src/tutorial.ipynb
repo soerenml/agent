{
 "cells": [
  {
   "cell_type": "markdown",
   "metadata": {},
   "source": [
    "# Langchain tutorial"
   ]
  },
  {
   "cell_type": "code",
   "execution_count": 74,
   "metadata": {},
   "outputs": [],
   "source": [
    "import os\n",
    "from dotenv import load_dotenv\n",
    "\n",
    "# Load the environment variables\n",
    "load_dotenv()\n",
    "\n",
    "from langchain_openai import ChatOpenAI\n",
    "llm = ChatOpenAI(api_key=os.getenv(\"OPENAI_API_KEY\"))"
   ]
  },
  {
   "cell_type": "markdown",
   "metadata": {},
   "source": [
    "## 1 - Most basic model query"
   ]
  },
  {
   "cell_type": "code",
   "execution_count": 75,
   "metadata": {},
   "outputs": [
    {
     "data": {
      "text/plain": [
       "AIMessage(content='Langsmith can help with testing by providing automated testing tools and frameworks that can be used to quickly and efficiently test code for bugs and errors. It can also assist in creating test cases, running tests, and analyzing the results to identify areas of improvement. Additionally, Langsmith can help with performance testing, security testing, and regression testing to ensure that the software is functioning as expected and meeting the requirements. Overall, Langsmith can streamline the testing process and help developers deliver high-quality, reliable software.')"
      ]
     },
     "execution_count": 75,
     "metadata": {},
     "output_type": "execute_result"
    }
   ],
   "source": [
    "# 1 - Invoke the model\n",
    "llm.invoke(\"how can langsmith help with testing?\")"
   ]
  },
  {
   "cell_type": "markdown",
   "metadata": {},
   "source": [
    "## 2 - Chains"
   ]
  },
  {
   "cell_type": "code",
   "execution_count": 76,
   "metadata": {},
   "outputs": [],
   "source": [
    "# 2.1 - Use a prompt template\n",
    "from langchain_core.prompts import ChatPromptTemplate\n",
    "prompt = ChatPromptTemplate.from_messages([\n",
    "    (\"system\", \"You are a world class technical documentation writer.\"),\n",
    "    (\"user\", \"{input}\")\n",
    "])"
   ]
  },
  {
   "cell_type": "code",
   "execution_count": 77,
   "metadata": {},
   "outputs": [],
   "source": [
    "# 2.2 - (Optional) Output parser\n",
    "from langchain_core.output_parsers import StrOutputParser\n",
    "output_parser = StrOutputParser()"
   ]
  },
  {
   "cell_type": "code",
   "execution_count": 78,
   "metadata": {},
   "outputs": [
    {
     "data": {
      "text/plain": [
       "\"Langsmith is a versatile tool that can greatly assist with testing in a number of ways. Here are some key ways in which Langsmith can be useful in the testing process:\\n\\n1. **Automated Testing**: Langsmith can be used to automate various testing tasks, such as running test suites, performing regression testing, and executing test scripts. By automating these repetitive tasks, Langsmith can help improve efficiency and accuracy in the testing process.\\n\\n2. **Test Data Generation**: Langsmith can generate synthetic test data that can be used to simulate different scenarios and edge cases during testing. This can help ensure thorough test coverage and enhance the reliability of the testing process.\\n\\n3. **Test Case Management**: Langsmith can assist in organizing and managing test cases effectively. It allows testers to create, track, and maintain test cases in a structured manner, making it easier to execute and monitor tests.\\n\\n4. **Integration Testing**: Langsmith can be integrated with other testing tools and frameworks, enabling seamless integration testing across different components or systems. This can help identify any issues related to communication or data exchange between different parts of the system.\\n\\n5. **Performance Testing**: Langsmith can be used to conduct performance testing by simulating a large number of concurrent users or generating heavy workloads on the system. This can help evaluate the system's performance under different load conditions and identify any bottlenecks or performance issues.\\n\\n6. **Continuous Testing**: Langsmith supports continuous testing practices by enabling automated testing at various stages of the development pipeline. This ensures early detection of defects and facilitates faster feedback loops, leading to higher quality software releases.\\n\\nOverall, Langsmith can play a crucial role in enhancing the efficiency, coverage, and reliability of the testing process, ultimately helping to deliver high-quality software products.\""
      ]
     },
     "execution_count": 78,
     "metadata": {},
     "output_type": "execute_result"
    }
   ],
   "source": [
    "chain = prompt | llm | output_parser\n",
    "chain.invoke({\"input\": \"how can langsmith help with testing?\"})"
   ]
  },
  {
   "cell_type": "markdown",
   "metadata": {},
   "source": [
    "## 3 - Retrieval chains"
   ]
  },
  {
   "cell_type": "code",
   "execution_count": 80,
   "metadata": {},
   "outputs": [],
   "source": [
    "# 3.1 Retrieve information from website using beautifulsoup (single URL)\n",
    "from langchain_community.document_loaders import WebBaseLoader\n",
    "loader = WebBaseLoader(\"https://docs.smith.langchain.com/user_guide\")\n",
    "docs = loader.load()"
   ]
  },
  {
   "cell_type": "code",
   "execution_count": 112,
   "metadata": {},
   "outputs": [
    {
     "data": {
      "text/plain": [
       "['Traders say Bitcoin price fights “last resistance” at $69K before new all-time highs',\n",
       " 'Bitcoin price today: steady at $68k as inflation, rate jitters weigh on sentiment By Investing.com',\n",
       " \"Goldman Sachs Issues 'Astonishing' Bitcoin And Ethereum ETF Prediction After Price 'Turning Point'\",\n",
       " \"Is The MEV Monster Under Bitcoin's Bed?\",\n",
       " 'Bitcoin, Ether Prices Ease as SHIB Drives Gains in Meme Tokens',\n",
       " 'Paradigm leads $70 million raise for Bitcoin staking protocol Babylon',\n",
       " \"BlackRock's $20 Billion IBIT Fund Is World's Biggest Bitcoin (BTC) ETF\",\n",
       " 'BlackRock’s IBIT continues to lead net inflows in spot bitcoin ETFs',\n",
       " 'BlackRock’s bitcoin ETF on verge of eclipsing Grayscale’s fund',\n",
       " 'Risky New Experiments Attract Billions of Dollars in Bitcoin',\n",
       " \"Researchers 'hack time' to recover $3 million bitcoin wallet\",\n",
       " 'Researchers find lost password to crypto wallet holding 43.6 BTC: Wired',\n",
       " 'Hackers finally unlock $3 million Bitcoin wallet after man forgot password for 11 years',\n",
       " 'Prediction: The Bitcoin Halving Could Be a Millionaire Maker',\n",
       " 'Mt Gox distributions may not be all doom and gloom for bitcoin',\n",
       " 'Bitcoin Retreats as Traders Mull Risk of Sales Linked to Mt. Gox',\n",
       " 'Bitcoin price falls below $68,000 following transfer worth $9.6 billion from Mt. Gox cold wallet',\n",
       " 'Semler Scientific® Announces Bitcoin Treasury Strategy',\n",
       " \"Is Semler Scientific Adopting MicroStrategy's Bitcoin Treasury Playbook?\",\n",
       " 'Healthcare tech company shares surge 27% after announcing plans to buy bitcoin with cash reserves',\n",
       " 'Elon Musk, Donald Trump Discuss Bitcoin (BTC), Crypto Policy Ahead of Election',\n",
       " \"Bitcoin in 42-day 'boredom zone' — traders debate next move\",\n",
       " \"BlackRock's ETF becomes largest bitcoin fund in world, Bloomberg News reports\",\n",
       " 'This guy got $3 million in Bitcoin back after he lost an 11-year-old password',\n",
       " \"Med tech stock Semler Scientific takes bitcoin play from MicroStrategy's book, surges 37%\",\n",
       " 'Do Exchange-Traded Products Improve Bitcoin Trading? - Liberty Street Economics',\n",
       " 'Prediction: Bitcoin Will Reach $80,000 in 2024',\n",
       " \"World's Largest Bitcoin Conference Launches CLE Program in Nashville\",\n",
       " \"Bitcoin needs '3.3% or lower' CPI print to reach new ATH\",\n",
       " 'What Is Bitcoin And How Does It Work?',\n",
       " \"Goldman Sachs: Bitcoin ETFs Are an 'Astonishing Success'\",\n",
       " 'Trump Interested in Using Bitcoin to Solve the US National Debt Problem – Economics Bitcoin News',\n",
       " 'Bitcoin blockchain size 2009-2024',\n",
       " 'First Mover Americas: Bitcoin Falls Below $68K After $9B Mt. Gox Transfer',\n",
       " '10 Best Cryptocurrencies of May 2024 – Forbes Advisor',\n",
       " 'Janet Yellen Issues Serious $34 Trillion Warning As Bitcoin Predicted To Surge To $1 Million Price',\n",
       " 'Luxor Bitcoin Hashrate Futures Now Live On Bitnomial After Regulatory Approval',\n",
       " \"Bitcoin price aims for $69K as 'hot' US macro data pressures dollar\",\n",
       " 'Jack Dorsey-backed Bitcoin mining pool opens headquarters in El Salvador',\n",
       " 'Ether Spot ETFs to See Much Lower Demand Than Bitcoin Versions, JPMorgan Says',\n",
       " 'Mastercard Crypto Credential Launches with \"First Peer-to-Peer Pilot Transactions\"',\n",
       " 'Bitcoin Inflation Now 75% Less Than Current US Rate Post-Halving',\n",
       " \"BlackRock Now Runs the World's Largest Bitcoin Fund\",\n",
       " 'Mt. Gox Bitcoin Dump Looms: Opportunity for Altcoins, Bloodbath for BTC?',\n",
       " 'European bitcoin ETPs suffer mounting outflows',\n",
       " \"This type of coin is 'among the riskiest of cryptocurrencies,' investing expert says—here's what to know\",\n",
       " 'El Salvador Attracts A New Bitcoin Mining Company To The Country',\n",
       " 'Prediction: The Bitcoin Halving Will Send These Cryptocurrencies Soaring',\n",
       " 'Top 3 Price Prediction Bitcoin, Ethereum, Ripple: Facing correction after ETFs led rally',\n",
       " \"BlackRock's $20 Billion IBIT Becomes The World's Largest Bitcoin ETF\",\n",
       " 'Bitcoin ETPs Begin Trading on the London Stock Exchange',\n",
       " 'Inflation Tango: Bitcoin’s Bullish Dance with US CPI Data',\n",
       " '41% of Voters Looking at Bitcoin and Crypto Due to Weakening Dollar and Political Tensions: Grayscale Survey',\n",
       " 'Bitcoin traders brace for US macro data with BTC price stuck at $67K',\n",
       " 'Mt.Gox Transfers $9B Bitcoin to Single Address as Part of Repayment Plans',\n",
       " 'Bitcoin Miner Marathon Partner With Kenya On Renewable Energy Projects',\n",
       " 'Bitcoin-Based DOG Token Climbs to 9th Largest Meme Coin, Sees 216% Rise in 30 Days – Markets and Prices Bitcoin ...',\n",
       " 'What Is Bitcoin?',\n",
       " \"Japan's path to bitcoin-linked ETF trading pocked with obstacles\",\n",
       " 'Bitcoin ETFs boost TradFi Investments: Binance France president',\n",
       " 'Bitcoin price today: flat at $67.7k amid rate fears; MT Gox risk eases By Investing.com',\n",
       " 'Analyst Who Nailed 2018 Bitcoin Bottom Says FLOKI Primed To Hit ‘Escape Velocity’ Soon – Here Are His Targets',\n",
       " 'Bitcoin Startup Babylon Raises $70 Million to Bring BTC Staking to Ethereum and Solana',\n",
       " \"Bitcoin Meme Coins Surge as DOG's 85% Jump Calms Fears That 'Runes Are Dead'\",\n",
       " 'Bitcoin falls below $68,000 after Mt.Gox transfers $9 billion',\n",
       " 'Mt. Gox moves at least $2.9 billion in bitcoin for first time in five years',\n",
       " '$3 Million in Lost Bitcoin RECOVERED! Researchers Hack 11-Year-Old Crypto Wallet',\n",
       " 'Pepe (PEPE) Dumps 14% After Recent ATH, Bitcoin (BTC) Loses $68K (Market Watch)',\n",
       " 'Feds, Chainalysis reveal $169m in Bitcoin controlled by 911 S5 botnet',\n",
       " 'Bitcoin Traders Warn of Pullback as U.S. Inflation Data Looms; Dogecoin Leads Majors Slide',\n",
       " 'Bitcoin boosters fear crypto world is getting ‘rug pulled’ by Congress',\n",
       " 'Breaking: Bitcoin Price Soars After US GDP & Job Data',\n",
       " \"State is 'underinvested' in bitcoin EFTs despite recent purchase, says UW-Whitewater professor\",\n",
       " 'Eye On $91,500: Key Bitcoin Level Could Trigger Massive Surge, Analyst Warns',\n",
       " 'Bitcoin Staking Project Babylon Raises $70M Led by Paradigm',\n",
       " 'Jack Dorsey Backed Bitcoin Miner OCEAN Opens El Salvador Hub',\n",
       " \"Hong Kong's Grace Period for Crypto Exchanges Ending — Trading Platforms Must Obtain License by June 1 ...\",\n",
       " 'Cryptocurrency Market News: Ether Fumbles After ETF Nod, Bitcoin Briefly Slides Below $68K',\n",
       " \"Here's When Bitcoin (BTC) Will Explode\",\n",
       " 'Bitcoin Price Prediction: 4 Catalysts That Could Spur Next Crypto Rally',\n",
       " 'Hackers who finally unlocked $3 million Bitcoin wallet after 11 years explain how they did',\n",
       " 'Bitcoin: A New Hope for Innovators in Corrupt Economies',\n",
       " 'Ether And Bitcoin: The Next Leg Up',\n",
       " 'What Is Bitcoin Cash (BCH), and How Does It Work?',\n",
       " 'NYSE To Launch Products Tracking Spot Bitcoin Prices',\n",
       " 'Bitcoin Consolidation Continues: Is the BTC Price Preparing for a Huge Move?',\n",
       " \"BlackRock's IBIT overtakes GBTC as the world's largest Bitcoin ETF\",\n",
       " 'Bitcoin (BTC) Price Ahead of Big Move, Ripple (XRP) Predictions, and More: Bits Recap May 30',\n",
       " 'Trump Inquired if Bitcoin Could Aid in Solving the $35 Trillion US National Debt Problem – News Bytes Bitcoin News',\n",
       " 'Healthcare Company Semler Scientific Buys $40 Million Bitcoin, Adopts As Treasury Reserve Asset',\n",
       " 'Fold Will Be Your Bitcoin Bank With CEO Will Reeves',\n",
       " \"Bullish Bitcoin options dominate May's $6.5 billion expiry\",\n",
       " 'Bitcoin Technical Analysis: BTC Shows Consolidation Phase Amid Recent Volatility – Markets and Prices Bitcoin News',\n",
       " 'Bitcoin addresses with positive balances surpass 52.5 million amid strong growth since 2020',\n",
       " 'Ether will continue to outperform bitcoin in near term, says crypto asset manager',\n",
       " 'Mt. Gox Bitcoin Transfer: CryptoQuant Analyzes Potential Market Effects Of The $9.4B Movement',\n",
       " 'Bitcoin Price Struggles: Can the Leading Cryptocurrency Start Fresh Increase?',\n",
       " 'Building the Future of Bitcoin Education',\n",
       " 'Bitcoin drops to $67,000 level, and Gemini returns more than $2 billion to users',\n",
       " \"Donald Trump Pledges to Stop Biden's Anti-Crypto Agenda, Protect Bitcoin, Free Ross Ulbricht – Featured Bitcoin News\",\n",
       " 'Riot Platforms Pursues Takeover of Rival Bitcoin Miner Bitfarms']"
      ]
     },
     "execution_count": 112,
     "metadata": {},
     "output_type": "execute_result"
    }
   ],
   "source": [
    "import requests\n",
    "from bs4 import BeautifulSoup\n",
    "\n",
    "# Define the URL of the Google News page\n",
    "url = \"https://news.google.com/search?q=bitcoin&hl=en-US&gl=US&ceid=US%3Aen\"\n",
    "\n",
    "# Fetch the HTML content of the page\n",
    "response = requests.get(url)\n",
    "html_content = response.content\n",
    "\n",
    "# Parse the HTML content with BeautifulSoup\n",
    "soup = BeautifulSoup(html_content, 'html.parser')\n",
    "\n",
    "headlines = soup.find_all('a', class_='JtKRv')\n",
    "\n",
    "# Print all the headlines\n",
    "all_headlines = []\n",
    "for headline in headlines:\n",
    "    all_headlines.append(headline.text)\n",
    "\n",
    "all_headlines\n",
    "# Optionally, extract URLs of the news articles\n",
    "#for headline in headlines:\n",
    "#    print(f\"https://news.google.com{headline['href'][1:]}\")"
   ]
  },
  {
   "cell_type": "code",
   "execution_count": 132,
   "metadata": {},
   "outputs": [],
   "source": [
    "from langchain_core.prompts.prompt import PromptTemplate\n",
    "\n",
    "llm = ChatOpenAI(api_key=os.getenv(\"OPENAI_API_KEY\"))\n",
    "\n",
    "template = \"\"\"\n",
    "You are the best financial analyst in the world. You were educated at Harvard and have been working in the industry for 20 years.\n",
    "These are the headlines of Google News articles about Bitcoin:\n",
    "Headlines: {string}\n",
    "Task: Provide me with an analysis how the bitcoin is going to move in the next three days.\"\"\"\n",
    "\n",
    "prompt_custom = PromptTemplate.from_template(template)\n",
    "\n",
    "from langchain_core.runnables import RunnablePassthrough\n",
    "\n",
    "rag_chain = (\n",
    "    {\"string\": RunnablePassthrough()}\n",
    "    | prompt_custom\n",
    "    | llm\n",
    "    | StrOutputParser()\n",
    ")\n",
    "result_1 = rag_chain.invoke({\"string\": all_headlines})\n",
    "\n",
    "# for chunk in rag_chain.stream(all_headlines):\n",
    "#     print(chunk, end=\"\", flush=True)\n",
    "\n"
   ]
  },
  {
   "cell_type": "code",
   "execution_count": 133,
   "metadata": {},
   "outputs": [
    {
     "data": {
      "text/plain": [
       "\"Based on the headlines provided, it is clear that the Bitcoin market is currently experiencing a mix of positive and negative news. Traders are optimistic about new all-time highs, while concerns about inflation, rate jitters, and Mt. Gox transfers are weighing on sentiment. Additionally, there are discussions around the potential impact of macro data, ETF predictions, and staking protocols on the price of Bitcoin.\\n\\nTaking all these factors into consideration, it is likely that Bitcoin will continue to face volatility in the coming days. The resistance at $69K may be a key level to watch, as traders assess the market sentiment and news developments. The outcome of the U.S. inflation data, Mt. Gox transfers, and ETF predictions could have a significant impact on Bitcoin's price movement.\\n\\nOverall, it is important to monitor the market closely and stay informed about any new developments that could influence the price of Bitcoin. The next three days are likely to be crucial in determining the direction of Bitcoin's movement. Investors and traders should be prepared for potential fluctuations and adjust their strategies accordingly.\""
      ]
     },
     "execution_count": 133,
     "metadata": {},
     "output_type": "execute_result"
    }
   ],
   "source": [
    "result_1"
   ]
  },
  {
   "cell_type": "markdown",
   "metadata": {},
   "source": [
    "# Bitcoin"
   ]
  },
  {
   "cell_type": "code",
   "execution_count": 134,
   "metadata": {},
   "outputs": [
    {
     "name": "stderr",
     "output_type": "stream",
     "text": [
      "[*********************100%%**********************]  1 of 1 completed"
     ]
    },
    {
     "name": "stdout",
     "output_type": "stream",
     "text": [
      "                                   Open          High           Low  \\\n",
      "Datetime                                                              \n",
      "2024-05-27 21:00:00+00:00  69587.390625  69768.046875  69545.406250   \n",
      "2024-05-27 22:00:00+00:00  69731.265625  69731.265625  69498.507812   \n",
      "2024-05-27 23:00:00+00:00  69515.000000  69515.000000  69273.187500   \n",
      "2024-05-28 00:00:00+00:00  69382.226562  69397.531250  69082.804688   \n",
      "2024-05-28 01:00:00+00:00  69312.070312  69500.710938  68548.710938   \n",
      "\n",
      "                                  Close     Adj Close     Volume  \n",
      "Datetime                                                          \n",
      "2024-05-27 21:00:00+00:00  69768.046875  69768.046875          0  \n",
      "2024-05-27 22:00:00+00:00  69512.945312  69512.945312  141010944  \n",
      "2024-05-27 23:00:00+00:00  69392.781250  69392.781250   53606400  \n",
      "2024-05-28 00:00:00+00:00  69279.367188  69279.367188  311988224  \n",
      "2024-05-28 01:00:00+00:00  68548.710938  68548.710938  535746560  \n"
     ]
    },
    {
     "name": "stderr",
     "output_type": "stream",
     "text": [
      "\n"
     ]
    }
   ],
   "source": [
    "import yfinance as yf\n",
    "import pandas as pd\n",
    "from datetime import datetime, timedelta\n",
    "\n",
    "def download_bitcoin_data():\n",
    "    # Define the ticker symbol for Bitcoin\n",
    "    ticker_symbol = 'BTC-USD'\n",
    "\n",
    "    # Calculate the start and end dates\n",
    "    end_date = datetime.now()\n",
    "    start_date = end_date - timedelta(days=3)\n",
    "\n",
    "    # Download the data\n",
    "    bitcoin_data = yf.download(ticker_symbol, start=start_date, end=end_date, interval='1h')\n",
    "\n",
    "    return bitcoin_data\n",
    "\n",
    "bitcoin_data = download_bitcoin_data()\n",
    "\n",
    "# Display the first few rows of the dataframe\n",
    "print(bitcoin_data.head())"
   ]
  },
  {
   "cell_type": "code",
   "execution_count": 135,
   "metadata": {},
   "outputs": [],
   "source": [
    "from langchain_core.prompts.prompt import PromptTemplate\n",
    "\n",
    "llm = ChatOpenAI(api_key=os.getenv(\"OPENAI_API_KEY\"))\n",
    "\n",
    "template = \"\"\"\n",
    "You are the best chart analyst in the world. You were educated at Harvard and have been working in the industry for 20 years.\n",
    "These is the market data for bitcoin at an hourly interval for the past three days:\n",
    "Data: {string}\n",
    "Task: Provide me with an chart analysis how the bitcoin is going to move in the next three days.\"\"\"\n",
    "\n",
    "prompt_custom = PromptTemplate.from_template(template)\n",
    "\n",
    "from langchain_core.runnables import RunnablePassthrough\n",
    "\n",
    "rag_chain = (\n",
    "    {\"string\": RunnablePassthrough()}\n",
    "    | prompt_custom\n",
    "    | llm\n",
    "    | StrOutputParser()\n",
    ")\n",
    "result_2 = rag_chain.invoke({\"string\": bitcoin_data})\n",
    "\n",
    "# for chunk in rag_chain.stream(all_headlines):\n",
    "#     print(chunk, end=\"\", flush=True)"
   ]
  },
  {
   "cell_type": "code",
   "execution_count": 139,
   "metadata": {},
   "outputs": [
    {
     "data": {
      "text/plain": [
       "\"Based on the market data provided for Bitcoin at an hourly interval for the past three days, it appears that Bitcoin has been experiencing some volatility. \\n\\nLooking at the chart, we can see that Bitcoin's price has been fluctuating between highs and lows, with some periods of consolidation. The volume also seems to vary, indicating fluctuations in trading activity.\\n\\nIn the next three days, based on the current trend, it is likely that Bitcoin will continue to experience volatility. However, there are a few key levels to watch for potential price movements. \\n\\nIf Bitcoin manages to break above the recent high levels, it could indicate a bullish trend continuation, potentially leading to further price increases. On the other hand, if Bitcoin fails to sustain its momentum and breaks below recent support levels, it could signal a bearish trend reversal, leading to price declines.\\n\\nOverall, it is important to closely monitor Bitcoin's price movements and key support/resistance levels in the next three days to get a better idea of where the price may be heading. As a chart analyst with 20 years of experience, I recommend keeping a close eye on the market data and adjusting your trading strategy accordingly.\""
      ]
     },
     "execution_count": 139,
     "metadata": {},
     "output_type": "execute_result"
    }
   ],
   "source": [
    "result_2"
   ]
  },
  {
   "cell_type": "markdown",
   "metadata": {},
   "source": [
    "# Manager"
   ]
  },
  {
   "cell_type": "code",
   "execution_count": 140,
   "metadata": {},
   "outputs": [],
   "source": [
    "from langchain_core.prompts.prompt import PromptTemplate\n",
    "\n",
    "llm = ChatOpenAI(api_key=os.getenv(\"OPENAI_API_KEY\"))\n",
    "\n",
    "template = \"\"\"\n",
    "You are the best financial analyst in the world. You were educated at Harvard and have been working in the industry for 60 years.\n",
    "You have been a math prodigy as a kid. You did research with Daniel Kahneman and won the Nobel Prize in Economics.\n",
    "Two of your analysts have come up with predictions for the Bitcoin price in the next three days.\n",
    "Analyst 1: {string_1}\n",
    "Analyst 2: {string_2}\n",
    "Task: You have to decide if we are going to buy or sell Bitcoin in the next three days.\"\"\"\n",
    "\n",
    "prompt_custom = PromptTemplate.from_template(template)\n",
    "\n",
    "from langchain_core.runnables import RunnablePassthrough\n",
    "\n",
    "rag_chain = (\n",
    "    {\"string_1\": RunnablePassthrough(), \"string_2\": RunnablePassthrough()}\n",
    "    | prompt_custom\n",
    "    | llm\n",
    "    | StrOutputParser()\n",
    ")\n",
    "result = rag_chain.invoke({\"string_1\": result_1, \"string_2\": result_2})\n",
    "\n",
    "# for chunk in rag_chain.stream(all_headlines):\n",
    "#     print(chunk, end=\"\", flush=True)"
   ]
  },
  {
   "cell_type": "code",
   "execution_count": 141,
   "metadata": {},
   "outputs": [
    {
     "data": {
      "text/plain": [
       "'As the best financial analyst in the world with 60 years of experience in the industry, I would recommend closely monitoring the market data and key support/resistance levels in the next three days before making a decision to buy or sell Bitcoin. Both analysts have highlighted the potential for continued volatility in the market, with key levels to watch for potential price movements.\\n\\nGiven the mixed sentiments in the market and the uncertainty surrounding factors such as inflation, rate jitters, Mt. Gox transfers, and ETF predictions, it may be prudent to wait and observe how the market evolves in the next few days before making a decision.\\n\\nI would advise exercising caution and not rushing into any buying or selling decisions without a clear understanding of the market trends and potential price movements. It is important to stay informed, analyze the data carefully, and adjust trading strategies accordingly based on the evolving market conditions.\\n\\nIn conclusion, I would recommend holding off on any immediate buying or selling of Bitcoin in the next three days and instead focus on closely monitoring the market developments to make a more informed decision.'"
      ]
     },
     "execution_count": 141,
     "metadata": {},
     "output_type": "execute_result"
    }
   ],
   "source": [
    "result"
   ]
  },
  {
   "cell_type": "code",
   "execution_count": 41,
   "metadata": {},
   "outputs": [
    {
     "name": "stdout",
     "output_type": "stream",
     "text": [
      "[Document(page_content=\"\\n\\n\\n\\n\\nLangSmith User Guide | 🦜️🛠️ LangSmith\\n\\n\\n\\n\\n\\n\\n\\nSkip to main contentLangSmith API DocsSearchGo to AppQuick StartUser GuideTracingEvaluationProduction Monitoring & AutomationsPrompt HubProxyPricingSelf-HostingCookbookThis is outdated documentation for 🦜️🛠️ LangSmith, which is no longer actively maintained.For up-to-date documentation, see the latest version.User GuideOn this pageLangSmith User GuideLangSmith is a platform for LLM application development, monitoring, and testing. In this guide, we’ll highlight the breadth of workflows LangSmith supports and how they fit into each stage of the application development lifecycle. We hope this will inform users how to best utilize this powerful platform or give them something to consider if they’re just starting their journey.Prototyping\\u200bPrototyping LLM applications often involves quick experimentation between prompts, model types, retrieval strategy and other parameters.\\nThe ability to rapidly understand how the model is performing — and debug where it is failing — is incredibly important for this phase.Debugging\\u200bWhen developing new LLM applications, we suggest having LangSmith tracing enabled by default.\\nOftentimes, it isn’t necessary to look at every single trace. However, when things go wrong (an unexpected end result, infinite agent loop, slower than expected execution, higher than expected token usage), it’s extremely helpful to debug by looking through the application traces. LangSmith gives clear visibility and debugging information at each step of an LLM sequence, making it much easier to identify and root-cause issues.\\nWe provide native rendering of chat messages, functions, and retrieve documents.Initial Test Set\\u200bWhile many developers still ship an initial version of their application based on “vibe checks”, we’ve seen an increasing number of engineering teams start to adopt a more test driven approach. LangSmith allows developers to create datasets, which are collections of inputs and reference outputs, and use these to run tests on their LLM applications.\\nThese test cases can be uploaded in bulk, created on the fly, or exported from application traces. LangSmith also makes it easy to run custom evaluations (both LLM and heuristic based) to score test results.Comparison View\\u200bWhen prototyping different versions of your applications and making changes, it’s important to see whether or not you’ve regressed with respect to your initial test cases.\\nOftentimes, changes in the prompt, retrieval strategy, or model choice can have huge implications in responses produced by your application.\\nIn order to get a sense for which variant is performing better, it’s useful to be able to view results for different configurations on the same datapoints side-by-side. We’ve invested heavily in a user-friendly comparison view for test runs to track and diagnose regressions in test scores across multiple revisions of your application.Playground\\u200bLangSmith provides a playground environment for rapid iteration and experimentation.\\nThis allows you to quickly test out different prompts and models. You can open the playground from any prompt or model run in your trace.\\nEvery playground run is logged in the system and can be used to create test cases or compare with other runs.Beta Testing\\u200bBeta testing allows developers to collect more data on how their LLM applications are performing in real-world scenarios. In this phase, it’s important to develop an understanding for the types of inputs the app is performing well or poorly on and how exactly it’s breaking down in those cases. Both feedback collection and run annotation are critical for this workflow. This will help in curation of test cases that can help track regressions/improvements and development of automatic evaluations.Capturing Feedback\\u200bWhen launching your application to an initial set of users, it’s important to gather human feedback on the responses it’s producing. This helps draw attention to the most interesting runs and highlight edge cases that are causing problematic responses. LangSmith allows you to attach feedback scores to logged traces (oftentimes, this is hooked up to a feedback button in your app), then filter on traces that have a specific feedback tag and score. A common workflow is to filter on traces that receive a poor user feedback score, then drill down into problematic points using the detailed trace view.Annotating Traces\\u200bLangSmith also supports sending runs to annotation queues, which allow annotators to closely inspect interesting traces and annotate them with respect to different criteria. Annotators can be PMs, engineers, or even subject matter experts. This allows users to catch regressions across important evaluation criteria.Adding Runs to a Dataset\\u200bAs your application progresses through the beta testing phase, it's essential to continue collecting data to refine and improve its performance. LangSmith enables you to add runs as examples to datasets (from both the project page and within an annotation queue), expanding your test coverage on real-world scenarios. This is a key benefit in having your logging system and your evaluation/testing system in the same platform.Production\\u200bClosely inspecting key data points, growing benchmarking datasets, annotating traces, and drilling down into important data in trace view are workflows you’ll also want to do once your app hits production.However, especially at the production stage, it’s crucial to get a high-level overview of application performance with respect to latency, cost, and feedback scores. This ensures that it's delivering desirable results at scale.Online evaluations and automations allow you to process and score production traces in near real-time.Additionally, threads provide a seamless way to group traces from a single conversation, making it easier to track the performance of your application across multiple turns.Monitoring and A/B Testing\\u200bLangSmith provides monitoring charts that allow you to track key metrics over time. You can expand to view metrics for a given period and drill down into a specific data point to get a trace table for that time period — this is especially handy for debugging production issues.LangSmith also allows for tag and metadata grouping, which allows users to mark different versions of their applications with different identifiers and view how they are performing side-by-side within each chart. This is helpful for A/B testing changes in prompt, model, or retrieval strategy.Automations\\u200bAutomations are a powerful feature in LangSmith that allow you to perform actions on traces in near real-time. This can be used to automatically score traces, send them to annotation queues, or send them to datasets.To define an automation, simply provide a filter condition, a sampling rate, and an action to perform. Automations are particularly helpful for processing traces at production scale.Threads\\u200bMany LLM applications are multi-turn, meaning that they involve a series of interactions between the user and the application. LangSmith provides a threads view that groups traces from a single conversation together, making it easier to track the performance of and annotate your application across multiple turns.Was this page helpful?You can leave detailed feedback on GitHub.PreviousQuick StartNextOverviewPrototypingBeta TestingProductionCommunityDiscordTwitterGitHubDocs CodeLangSmith SDKPythonJS/TSMoreHomepageBlogLangChain Python DocsLangChain JS/TS DocsCopyright © 2024 LangChain, Inc.\\n\\n\\n\\n\", metadata={'source': 'https://docs.smith.langchain.com/user_guide', 'title': 'LangSmith User Guide | 🦜️🛠️ LangSmith', 'description': 'LangSmith is a platform for LLM application development, monitoring, and testing. In this guide, we’ll highlight the breadth of workflows LangSmith supports and how they fit into each stage of the application development lifecycle. We hope this will inform users how to best utilize this powerful platform or give them something to consider if they’re just starting their journey.', 'language': 'en'}), Document(page_content='\\n\\n\\n\\n\\nGet started with LangSmith | 🦜️🛠️ LangSmith\\n\\n\\n\\n\\n\\n\\n\\nSkip to main contentLangSmith API DocsSearchGo to AppQuick startTutorialsHow-to guidesConceptsReferencePricingSelf-hostingQuick startOn this pageGet started with LangSmithLangSmith is a platform for building production-grade LLM applications. It allows you to closely monitor and evaluate your application, so you can ship quickly and with confidence. Use of LangChain is not necessary - LangSmith works on its own!1. Install LangSmith\\u200bPythonTypeScriptpip install -U langsmithyarn add langchain langsmith2. Create an API key\\u200bTo create an API key head to the Settings page. Then click Create API Key.3. Set up your environment\\u200bShellexport LANGCHAIN_TRACING_V2=trueexport LANGCHAIN_API_KEY=<your-api-key># The below examples use the OpenAI API, though it\\'s not necessary in generalexport OPENAI_API_KEY=<your-openai-api-key>4. Log your first trace\\u200bWe provide multiple ways to log traces to LangSmith. Below, we\\'ll highlight\\nhow to use traceable. See more on the Annotate code for tracing page.PythonTypeScriptimport openaifrom langsmith.wrappers import wrap_openaifrom langsmith import traceable# Auto-trace LLM calls in-contextclient = wrap_openai(openai.Client())@traceable # Auto-trace this functiondef pipeline(user_input: str):    result = client.chat.completions.create(        messages=[{\"role\": \"user\", \"content\": user_input}],        model=\"gpt-3.5-turbo\"    )    return result.choices[0].message.contentpipeline(\"Hello, world!\")# Out:  Hello there! How can I assist you today?import { OpenAI } from \"openai\";import { traceable } from \"langsmith/traceable\";import { wrapOpenAI } from \"langsmith/wrappers\";// Auto-trace LLM calls in-contextconst client = wrapOpenAI(new OpenAI());// Auto-trace this functionconst pipeline = traceable(async (user_input) => {    const result = await client.chat.completions.create({        messages: [{ role: \"user\", content: user_input }],        model: \"gpt-3.5-turbo\",    });    return result.choices[0].message.content;});await pipeline(\"Hello, world!\")// Out: Hello there! How can I assist you today?View a sample output trace.Learn more about tracing in the how-to guides.5. Run your first evaluation\\u200bEvaluation requires a system to test, data to serve as test cases, and optionally evaluators to grade the results. Here we use a built-in accuracy evaluator.PythonTypeScriptfrom langsmith import Clientfrom langsmith.evaluation import evaluateclient = Client()# Define dataset: these are your test casesdataset_name = \"Sample Dataset\"dataset = client.create_dataset(dataset_name, description=\"A sample dataset in LangSmith.\")client.create_examples(    inputs=[        {\"postfix\": \"to LangSmith\"},        {\"postfix\": \"to Evaluations in LangSmith\"},    ],    outputs=[        {\"output\": \"Welcome to LangSmith\"},        {\"output\": \"Welcome to Evaluations in LangSmith\"},    ],    dataset_id=dataset.id,)# Define your evaluatordef exact_match(run, example):    return {\"score\": run.outputs[\"output\"] == example.outputs[\"output\"]}experiment_results = evaluate(    lambda input: \"Welcome \" + input[\\'postfix\\'], # Your AI system goes here    data=dataset_name, # The data to predict and grade over    evaluators=[exact_match], # The evaluators to score the results    experiment_prefix=\"sample-experiment\", # The name of the experiment    metadata={      \"version\": \"1.0.0\",      \"revision_id\": \"beta\"    },)import { Client, Run, Example } from \"langsmith\";import { evaluate } from \"langsmith/evaluation\";import { EvaluationResult } from \"langsmith/evaluation\";const client = new Client();// Define dataset: these are your test casesconst datasetName = \"Sample Dataset\";const dataset = await client.createDataset(datasetName, {  description: \"A sample dataset in LangSmith.\",});await client.createExamples({  inputs: [    { postfix: \"to LangSmith\" },    { postfix: \"to Evaluations in LangSmith\" },  ],  outputs: [    { output: \"Welcome to LangSmith\" },    { output: \"Welcome to Evaluations in LangSmith\" },  ],  datasetId: dataset.id,});// Define your evaluatorconst exactMatch = async (  run: Run,  example: Example): Promise<EvaluationResult> => {  return {    key: \"exact_match\",    score: run.outputs?.output === example?.outputs?.output,  };};await evaluate(  (input: { postfix: string }) => ({ output: `Welcome ${input.postfix}` }),  {    data: datasetName,    evaluators: [exactMatch],    metadata: {      version: \"1.0.0\",      revision_id: \"beta\",    },  });Learn more about evaluation in the how-to guides.Was this page helpful?You can leave detailed feedback on GitHub.NextTutorials1. Install LangSmith2. Create an API key3. Set up your environment4. Log your first trace5. Run your first evaluationCommunityDiscordTwitterGitHubDocs CodeLangSmith SDKPythonJS/TSMoreHomepageBlogLangChain Python DocsLangChain JS/TS DocsCopyright © 2024 LangChain, Inc.\\n\\n\\n\\n', metadata={'source': 'https://docs.smith.langchain.com', 'title': 'Get started with LangSmith | 🦜️🛠️ LangSmith', 'description': 'LangSmith is a platform for building production-grade LLM applications. It allows you to closely monitor and evaluate your application, so you can ship quickly and with confidence. Use of LangChain is not necessary - LangSmith works on its own!', 'language': 'en'})]\n"
     ]
    }
   ],
   "source": [
    "# Multiple URLs\n",
    "website_urls = [\n",
    "    \"https://docs.smith.langchain.com/user_guide\",\n",
    "    \"https://docs.smith.langchain.com\",\n",
    "]\n",
    "\n",
    "# Initialize an empty list to store all documents\n",
    "all_documents = []\n",
    "\n",
    "# Loop through website URLs and use WebBaseLoader for each\n",
    "for url in website_urls:\n",
    "  loader = WebBaseLoader(url)\n",
    "  website_documents = loader.load()\n",
    "  all_documents.extend(website_documents)\n",
    "\n",
    "# Process the all_documents list further (e.g., vectorization)\n",
    "\n",
    "print(all_documents)"
   ]
  },
  {
   "cell_type": "code",
   "execution_count": 42,
   "metadata": {},
   "outputs": [],
   "source": [
    "# 3.2 Load openAI embedding model to get the embeddings of the documents\n",
    "from langchain_openai import OpenAIEmbeddings\n",
    "embeddings = OpenAIEmbeddings()"
   ]
  },
  {
   "cell_type": "code",
   "execution_count": 43,
   "metadata": {},
   "outputs": [],
   "source": [
    "# 3.3 Add vector store\n",
    "from langchain_community.vectorstores import FAISS\n",
    "from langchain_text_splitters import RecursiveCharacterTextSplitter\n",
    "\n",
    "\n",
    "text_splitter = RecursiveCharacterTextSplitter()\n",
    "documents = text_splitter.split_documents(all_documents)\n",
    "vector_store = FAISS.from_documents(documents, embeddings)"
   ]
  },
  {
   "cell_type": "code",
   "execution_count": 44,
   "metadata": {},
   "outputs": [
    {
     "name": "stdout",
     "output_type": "stream",
     "text": [
      "<faiss.swigfaiss.IndexFlatL2; proxy of <Swig Object of type 'faiss::IndexFlatL2 *' at 0x7fc2726fb360> >\n",
      "Vector 0: [-0.0080638   0.01916084  0.01222096 ... -0.00213274  0.02612103\n",
      " -0.01153036]\n",
      "Vector 1: [-0.02374188  0.01507666  0.00888921 ...  0.01401275  0.00637293\n",
      " -0.01765243]\n",
      "Vector 2: [-0.01742077  0.01093862  0.01232167 ...  0.00759277 -0.00432376\n",
      " -0.01816119]\n",
      "Vector 3: [-0.021696    0.01003824  0.01190209 ... -0.00271375 -0.0079929\n",
      " -0.03096637]\n",
      "Vector 4: [ 0.00756025  0.01780557  0.01517474 ...  0.00688559  0.0135542\n",
      " -0.00869937]\n",
      "Vector 5: [ 0.00599423  0.00548193  0.00797372 ...  0.01548741  0.00085122\n",
      " -0.02121678]\n",
      "Vector 6: [-0.00539542  0.00660179  0.00760884 ... -0.00329915 -0.01941373\n",
      " -0.05169536]\n"
     ]
    }
   ],
   "source": [
    "# Retrieve vectors from the vector store\n",
    "\n",
    "# This is the underlying FAISS index\n",
    "faiss_index = vector_store.index\n",
    "print(faiss_index)\n",
    "\n",
    "# 0 is the starting index and faiss_index.ntotal is the ending index\n",
    "vectors = faiss_index.reconstruct_n(0, faiss_index.ntotal)\n",
    "for i, vector in enumerate(vectors):\n",
    "    print(f\"Vector {i}: {vector}\")"
   ]
  },
  {
   "cell_type": "code",
   "execution_count": 88,
   "metadata": {},
   "outputs": [
    {
     "name": "stdout",
     "output_type": "stream",
     "text": [
      "input_variables=['context', 'question'] template='Use the following pieces of context to answer the question at the end.\\nIf you don\\'t know the answer, just say that you don\\'t know. Use three sentences maximum and keep the answer as concise as possible.\\nAlways say \"thanks for asking!\" at the end of the answer.\\n{context}\\nQuestion: {question}\\nHelpful Answer:'\n"
     ]
    }
   ],
   "source": [
    "from langchain import hub\n",
    "\n",
    "#We can use PromptTemplate to add more instructions to our input for the LLM, (instructions, context from retriever and the question user wants to ask)\n",
    "from langchain_core.prompts.prompt import PromptTemplate\n",
    "\n",
    "template = \"\"\"Use the following pieces of context to answer the question at the end.\n",
    "If you don't know the answer, just say that you don't know. Use three sentences maximum and keep the answer as concise as possible.\n",
    "Always say \"thanks for asking!\" at the end of the answer.\n",
    "{context}\n",
    "Question: {question}\n",
    "Helpful Answer:\"\"\"\n",
    "prompt_custom = PromptTemplate.from_template(template)\n",
    "\n",
    "print(prompt_custom)"
   ]
  },
  {
   "cell_type": "code",
   "execution_count": 73,
   "metadata": {},
   "outputs": [
    {
     "name": "stdout",
     "output_type": "stream",
     "text": [
      "Task Decomposition is the process of breaking down a task into smaller, more manageable subtasks. It helps in organizing and tracking the performance of an application across multiple interactions. This approach can assist in identifying areas for improvement and enhancing overall efficiency."
     ]
    }
   ],
   "source": [
    "retriever = vector_store.as_retriever()\n",
    "\n",
    "from langchain_core.output_parsers import StrOutputParser\n",
    "from langchain_core.runnables import RunnablePassthrough\n",
    "\n",
    "\n",
    "def format_docs(docs):\n",
    "    return \"\\n\\n\".join(doc.page_content for doc in docs)\n",
    "\n",
    "\n",
    "rag_chain = (\n",
    "    {\"context\": retriever | format_docs, \"question\": RunnablePassthrough()}\n",
    "    | prompt\n",
    "    | llm\n",
    "    | StrOutputParser()\n",
    ")\n",
    "\n",
    "#print(rag_chain)\n",
    "\n",
    "for chunk in rag_chain.stream(\"What is Task Decomposition?\"):\n",
    "    print(chunk, end=\"\", flush=True)\n",
    "\n"
   ]
  },
  {
   "cell_type": "code",
   "execution_count": null,
   "metadata": {},
   "outputs": [],
   "source": [
    "import matplotlib.pyplot as plt\n",
    "data = {'string': # insert the data here }\\n\\nplt.figure(figsize=(12, 6))\\nplt.plot(data.index, data['Close'], color='blue', label='Closing Price')\\nplt.title('Bitcoin Price Analysis for the Next Three Days')\\nplt.xlabel('Date')\\nplt.ylabel('Price (USD)')\\nplt.legend()\\nplt.grid()\\nplt.show()\\n```\\n\\n"
   ]
  }
 ],
 "metadata": {
  "kernelspec": {
   "display_name": "openai",
   "language": "python",
   "name": "python3"
  },
  "language_info": {
   "codemirror_mode": {
    "name": "ipython",
    "version": 3
   },
   "file_extension": ".py",
   "mimetype": "text/x-python",
   "name": "python",
   "nbconvert_exporter": "python",
   "pygments_lexer": "ipython3",
   "version": "3.9.18"
  }
 },
 "nbformat": 4,
 "nbformat_minor": 2
}
