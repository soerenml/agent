{
 "cells": [
  {
   "cell_type": "markdown",
   "metadata": {},
   "source": [
    "# Langchain tutorial"
   ]
  },
  {
   "cell_type": "code",
   "execution_count": 165,
   "metadata": {},
   "outputs": [],
   "source": [
    "import os\n",
    "from dotenv import load_dotenv\n",
    "\n",
    "# Load the environment variables\n",
    "load_dotenv()\n",
    "\n",
    "from langchain_openai import ChatOpenAI\n",
    "llm = ChatOpenAI(api_key=os.getenv(\"OPENAI_API_KEY\"))"
   ]
  },
  {
   "cell_type": "markdown",
   "metadata": {},
   "source": [
    "## 1 - Most basic model query"
   ]
  },
  {
   "cell_type": "code",
   "execution_count": 144,
   "metadata": {},
   "outputs": [
    {
     "data": {
      "text/plain": [
       "AIMessage(content='Langsmith can help with testing in the following ways:\\n\\n1. Test Automation: Langsmith can be used to automate the testing process, making it faster and more efficient. It can be used to write test scripts, execute tests, and generate test reports.\\n\\n2. Test Data Generation: Langsmith can be used to generate test data that can be used to test the application under different scenarios and conditions.\\n\\n3. Performance Testing: Langsmith can be used to simulate load on the application and perform performance testing to identify bottlenecks and optimize the application.\\n\\n4. Integration Testing: Langsmith can be used to test the integration of different modules or components of the application to ensure they work together seamlessly.\\n\\n5. Regression Testing: Langsmith can be used to automate regression testing, ensuring that new code changes do not break existing functionality.\\n\\nOverall, Langsmith can help streamline the testing process, improve test coverage, and ensure the quality of the application.')"
      ]
     },
     "execution_count": 144,
     "metadata": {},
     "output_type": "execute_result"
    }
   ],
   "source": [
    "# 1 - Invoke the model\n",
    "llm.invoke(\"how can langsmith help with testing?\")"
   ]
  },
  {
   "cell_type": "markdown",
   "metadata": {},
   "source": [
    "## 2 - Prompt templates"
   ]
  },
  {
   "cell_type": "code",
   "execution_count": 166,
   "metadata": {},
   "outputs": [],
   "source": [
    "# 2.1 - Use a prompt template\n",
    "from langchain_core.prompts import ChatPromptTemplate\n",
    "prompt = ChatPromptTemplate.from_messages([\n",
    "    (\"system\", \"You are a world class technical documentation writer.\"),\n",
    "    (\"user\", \"{input}\")\n",
    "])"
   ]
  },
  {
   "cell_type": "code",
   "execution_count": 167,
   "metadata": {},
   "outputs": [],
   "source": [
    "# 2.2 - (Optional) Output parser\n",
    "from langchain_core.output_parsers import StrOutputParser\n",
    "output_parser = StrOutputParser()"
   ]
  },
  {
   "cell_type": "code",
   "execution_count": 168,
   "metadata": {},
   "outputs": [
    {
     "data": {
      "text/plain": [
       "'Langsmith is a powerful tool that can greatly assist with testing in various ways. Here are some ways in which Langsmith can help with testing:\\n\\n1. Automated Testing: Langsmith can be used to automate testing processes, reducing manual effort and ensuring consistent and repeatable test execution.\\n\\n2. Test Data Generation: Langsmith can generate synthetic test data, making it easier to create test cases and scenarios for different test scenarios.\\n\\n3. Performance Testing: Langsmith can be used to simulate high loads and stress scenarios to test the performance of applications and systems.\\n\\n4. API Testing: Langsmith can be utilized to test APIs by sending requests and validating responses, ensuring that APIs work as expected.\\n\\n5. Integration Testing: Langsmith can help in testing the integration of different components or systems by simulating interactions between them.\\n\\n6. Regression Testing: Langsmith can automate regression testing to ensure that new changes do not introduce unexpected issues or break existing functionality.\\n\\n7. Continuous Integration/Continuous Deployment (CI/CD): Langsmith can be integrated into CI/CD pipelines to automate testing as part of the development process, ensuring that code changes are thoroughly tested before deployment.\\n\\nOverall, Langsmith can streamline testing processes, improve test coverage, and help teams deliver high-quality software products efficiently.'"
      ]
     },
     "execution_count": 168,
     "metadata": {},
     "output_type": "execute_result"
    }
   ],
   "source": [
    "chain = prompt | llm | output_parser\n",
    "chain.invoke({\"input\": \"how can langsmith help with testing?\"})"
   ]
  },
  {
   "cell_type": "markdown",
   "metadata": {},
   "source": [
    "## 3 - Retrieval chains"
   ]
  },
  {
   "cell_type": "code",
   "execution_count": 182,
   "metadata": {},
   "outputs": [
    {
     "name": "stdout",
     "output_type": "stream",
     "text": [
      "[<a class=\"JtKRv\" data-n-tid=\"29\" href=\"./articles/CBMia2h0dHBzOi8vd3d3LmludmVzdGluZy5jb20vbmV3cy9zdG9jay1tYXJrZXQtbmV3cy9wcmVtYXJrZXQtbW92ZXJzLWdhbWVzdG9wLXN1cmdlcy1kZWxsLWluY2hlcy1sb3dlci0zNDY3NTgz0gEA?hl=en-US&amp;gl=US&amp;ceid=US%3Aen\" jsaction=\"click:kkIcoc;\" tabindex=\"0\" target=\"_blank\">Premarket movers: GameStop surges; Dell inches lower By Investing.com</a>, <a class=\"JtKRv\" data-n-tid=\"29\" href=\"./articles/CBMiSGh0dHBzOi8vZmluYW5jZS55YWhvby5jb20vbmV3cy9kZWxsLWZhbGxzLWFpLXNlcnZlci1zYWxlcy0wODQ0MTkwOTMuaHRtbNIBAA?hl=en-US&amp;gl=US&amp;ceid=US%3Aen\" jsaction=\"click:kkIcoc;\" tabindex=\"0\" target=\"_blank\">Dell Falls Most Since 2018 After AI Server Sales Disappoint</a>, <a class=\"JtKRv\" data-n-tid=\"29\" href=\"./articles/CBMiSWh0dHBzOi8vd3d3LmNuYmMuY29tLzIwMjQvMDUvMzEvZGVsbC1zaGFyZXMtZmFsbC1haS1zZXJ2ZXJzLWNvbmNlcm5zLmh0bWzSAU1odHRwczovL3d3dy5jbmJjLmNvbS9hbXAvMjAyNC8wNS8zMS9kZWxsLXNoYXJlcy1mYWxsLWFpLXNlcnZlcnMtY29uY2VybnMuaHRtbA?hl=en-US&amp;gl=US&amp;ceid=US%3Aen\" jsaction=\"click:kkIcoc;\" tabindex=\"0\" target=\"_blank\">Shares of Dell fall 18% as AI servers are sold at 'near-zero margins'</a>, <a class=\"JtKRv\" data-n-tid=\"29\" href=\"./articles/CBMiamh0dHBzOi8vd3d3LnJldXRlcnMuY29tL3RlY2hub2xvZ3kvZGVsbC1zaGFyZXMtc2x1bXAtaGVhdnktYWktaW52ZXN0bWVudHMtZXhwZWN0ZWQtZGVudC1tYXJnaW4tMjAyNC0wNS0zMS_SAQA?hl=en-US&amp;gl=US&amp;ceid=US%3Aen\" jsaction=\"click:kkIcoc;\" tabindex=\"0\" target=\"_blank\">Dell shares slump as heavy AI investments expected to dent margin</a>, <a class=\"JtKRv\" data-n-tid=\"29\" href=\"./articles/CBMiUmh0dHBzOi8vd3d3Lm5leHRwbGF0Zm9ybS5jb20vMjAyNC8wNS8zMS9ob3ctbXVjaC1jYW4tZGVsbC1wcm9maXQtZnJvbS10aGUtYWktd2F2ZS_SAVZodHRwczovL3d3dy5uZXh0cGxhdGZvcm0uY29tLzIwMjQvMDUvMzEvaG93LW11Y2gtY2FuLWRlbGwtcHJvZml0LWZyb20tdGhlLWFpLXdhdmUvYW1wLw?hl=en-US&amp;gl=US&amp;ceid=US%3Aen\" jsaction=\"click:kkIcoc;\" tabindex=\"0\" target=\"_blank\">How Much Can Dell Profit From The AI Wave?</a>, <a class=\"JtKRv\" data-n-tid=\"29\" href=\"./articles/CBMiTGh0dHBzOi8vd3d3LmRpZ2l0YWx0cmVuZHMuY29tL2NvbXB1dGluZy9kZWxsLWluc3Bpcm9uLTE0LWRlYWwtZGVsbC1tYXktMjAyNC_SAVBodHRwczovL3d3dy5kaWdpdGFsdHJlbmRzLmNvbS9jb21wdXRpbmcvZGVsbC1pbnNwaXJvbi0xNC1kZWFsLWRlbGwtbWF5LTIwMjQvP2FtcA?hl=en-US&amp;gl=US&amp;ceid=US%3Aen\" jsaction=\"click:kkIcoc;\" tabindex=\"0\" target=\"_blank\">Dell’s best cheap laptop just got $220 cheaper — only $280</a>, <a class=\"JtKRv\" data-n-tid=\"29\" href=\"./articles/CBMiT2h0dHBzOi8vZmluYW5jZS55YWhvby5jb20vdmlkZW8vd2h5LWRlbGxzLXNlcnZlcnMtbW9zdC1vcHRpbWl6ZWQtMjA1NzAyNTYyLmh0bWzSAQA?hl=en-US&amp;gl=US&amp;ceid=US%3Aen\" jsaction=\"click:kkIcoc;\" tabindex=\"0\" target=\"_blank\">Why Dell's servers are the most 'optimized' for AI</a>, <a class=\"JtKRv\" data-n-tid=\"29\" href=\"./articles/CBMiU2h0dHBzOi8vd3d3LmludmVzdG9wZWRpYS5jb20vdG9wLXN0b2NrLW1vdmVycy1ub3ctZGVsbC1nYXAtdmYtY29ycC1hbmQtbW9yZS04NjU2NTk50gEA?hl=en-US&amp;gl=US&amp;ceid=US%3Aen\" jsaction=\"click:kkIcoc;\" tabindex=\"0\" target=\"_blank\">Top Stock Movers Now: Dell, Gap, VF Corp., and More</a>, <a class=\"JtKRv\" data-n-tid=\"29\" href=\"./articles/CBMiemh0dHBzOi8vYmxlYWNoZXJyZXBvcnQuY29tL2FydGljbGVzLzEwMTIzMzgyLXRleGFucy10YW5rLWRlbGwtcmVmbGVjdHMtb24tYmVpbmctaW5qdXJlZC1pbi1zaG9vdGluZy13cm9uZy1wbGFjZS13cm9uZy10aW1l0gGKAWh0dHBzOi8vc3luZGljYXRpb24uYmxlYWNoZXJyZXBvcnQuY29tL2FtcC8xMDEyMzM4Mi10ZXhhbnMtdGFuay1kZWxsLXJlZmxlY3RzLW9uLWJlaW5nLWluanVyZWQtaW4tc2hvb3Rpbmctd3JvbmctcGxhY2Utd3JvbmctdGltZS5hbXAuaHRtbA?hl=en-US&amp;gl=US&amp;ceid=US%3Aen\" jsaction=\"click:kkIcoc;\" tabindex=\"0\" target=\"_blank\">Texans' Tank Dell Reflects on Being Injured in Shooting: 'Wrong Place, Wrong Time'</a>, <a class=\"JtKRv\" data-n-tid=\"29\" href=\"./articles/CBMiUGh0dHBzOi8vd3d3LmtlbG9sYW5kLmNvbS9zcG9ydHMvZGVsbC1yYXBpZHMtd2lucy10aGUtY2xhc3MtYi1zdGF0ZS1jaGFtcGlvbnNoaXAv0gEA?hl=en-US&amp;gl=US&amp;ceid=US%3Aen\" jsaction=\"click:kkIcoc;\" tabindex=\"0\" target=\"_blank\">Dell Rapids wins the class 'B' state championship</a>, <a class=\"JtKRv\" data-n-tid=\"29\" href=\"./articles/CBMifmh0dHBzOi8vd3d3LnBybmV3c3dpcmUuY29tL25ld3MtcmVsZWFzZXMvZGVsbC10ZWNobm9sb2dpZXMtZGVsaXZlcnMtZmlyc3QtcXVhcnRlci1maXNjYWwtMjAyNS1maW5hbmNpYWwtcmVzdWx0cy0zMDIxNTk5MjMuaHRtbNIBAA?hl=en-US&amp;gl=US&amp;ceid=US%3Aen\" jsaction=\"click:kkIcoc;\" tabindex=\"0\" target=\"_blank\">Dell Technologies Delivers First Quarter Fiscal 2025 Financial Results</a>, <a class=\"JtKRv\" data-n-tid=\"29\" href=\"./articles/CBMiaGh0dHBzOi8vYmxvY2tzYW5kZmlsZXMuY29tLzIwMjQvMDYvMDMvbnV0YW5peC1zb2xpZC1yZXZlbnVlLXJpc2Utd2l0aC1kZWxsLWRlYWwtdG8tYWlkLXZtd2FyZS1taWdyYXRpb24v0gEA?hl=en-US&amp;gl=US&amp;ceid=US%3Aen\" jsaction=\"click:kkIcoc;\" tabindex=\"0\" target=\"_blank\">Nutanix reports solid revenue rise, signs Dell deal to aid VMware migration – Blocks and Files</a>, <a class=\"JtKRv\" data-n-tid=\"29\" href=\"./articles/CBMiZmh0dHBzOi8vZm9ydHVuZS5jb20vMjAyNC8wNi8wMS9taWNoYWVsLWRlbGwtbmV0LXdvcnRoLWJpZ2dlc3QtbG9zcy1zaW5nbGUtZGF5LWRlbGwtdGVjaG5vbG9naWVzLXN0b2NrL9IBAA?hl=en-US&amp;gl=US&amp;ceid=US%3Aen\" jsaction=\"click:kkIcoc;\" tabindex=\"0\" target=\"_blank\">Michael Dell's net worth sinks the most in a single day, falling by $11.7 billion after shares of his company suffer record ...</a>, <a class=\"JtKRv\" data-n-tid=\"29\" href=\"./articles/CBMiWmh0dHBzOi8vd3d3LmtpcGxpbmdlci5jb20vaW52ZXN0aW5nL3N0b2Nrcy9kZWxsLXN0b2NrLXBsdW5nZXMtZGVzcGl0ZS1xMS1iZWF0LXdoYXQtdG8ta25vd9IBAA?hl=en-US&amp;gl=US&amp;ceid=US%3Aen\" jsaction=\"click:kkIcoc;\" tabindex=\"0\" target=\"_blank\">Dell Stock Plunges Despite Q1 Beat: What To Know</a>, <a class=\"JtKRv\" data-n-tid=\"29\" href=\"./articles/CBMiXmh0dHBzOi8vd3d3LmludmVzdG9ycy5jb20vbmV3cy90ZWNobm9sb2d5L2RlbGwtc3RvY2stcGx1bW1ldHMtYXMtZWFybmluZ3MtbGFnLWFpLXNhbGVzLWdyb3d0aC_SAQA?hl=en-US&amp;gl=US&amp;ceid=US%3Aen\" jsaction=\"click:kkIcoc;\" tabindex=\"0\" target=\"_blank\">Dell Stock Plummets As Earnings Lag AI Sales Growth</a>, <a class=\"JtKRv\" data-n-tid=\"29\" href=\"./articles/CBMiZmh0dHBzOi8vd3d3LmRha290YW5ld3Nub3cuY29tLzIwMjQvMDYvMDIvd2lubmluZy1jdWx0dXJlLWRlbGwtcmFwaWRzLXdpbnMtMy00LXN0YXRlLWItYmFzZWJhbGwtdGl0bGVzL9IBdWh0dHBzOi8vd3d3LmRha290YW5ld3Nub3cuY29tLzIwMjQvMDYvMDIvd2lubmluZy1jdWx0dXJlLWRlbGwtcmFwaWRzLXdpbnMtMy00LXN0YXRlLWItYmFzZWJhbGwtdGl0bGVzLz9vdXRwdXRUeXBlPWFtcA?hl=en-US&amp;gl=US&amp;ceid=US%3Aen\" jsaction=\"click:kkIcoc;\" tabindex=\"0\" target=\"_blank\">Winning Culture: Dell Rapids wins 3 of 4 State B Baseball Titles</a>, <a class=\"JtKRv\" data-n-tid=\"29\" href=\"./articles/CBMiaWh0dHBzOi8vc2lsaWNvbmFuZ2xlLmNvbS8yMDI0LzA1LzMwL2RlbGxzLXN0b2NrLXBsdW1tZXRzLXJpc2luZy1kZW1hbmQtYWktc2VydmVycy1lYXRzLWF3YXktZ3Jvc3MtbWFyZ2luL9IBAA?hl=en-US&amp;gl=US&amp;ceid=US%3Aen\" jsaction=\"click:kkIcoc;\" tabindex=\"0\" target=\"_blank\">Dell's stock plummets as rising AI server demand eats away at its gross margin, but AI boosts NetApp</a>, <a class=\"JtKRv\" data-n-tid=\"29\" href=\"./articles/CBMiZGh0dHBzOi8vd3d3LmludmVzdG9wZWRpYS5jb20vNC1rZXktdGFrZWF3YXlzLWZyb20tZGVsbC10ZWNobm9sb2dpZXMtcTEtZnktMjAyNS1lYXJuaW5ncy1jYWxsLTg2NTYwOTLSAQA?hl=en-US&amp;gl=US&amp;ceid=US%3Aen\" jsaction=\"click:kkIcoc;\" tabindex=\"0\" target=\"_blank\">4 Key Takeaways From Dell Technologies' Earnings Call</a>, <a class=\"JtKRv\" data-n-tid=\"29\" href=\"./articles/CBMiSmh0dHBzOi8vZmluYW5jZS55YWhvby5jb20vbmV3cy93aHktZGVsbC1zdG9jay1wbHVuZ2VkLXRvZGF5LTE4MzIxNDIyMi5odG1s0gEA?hl=en-US&amp;gl=US&amp;ceid=US%3Aen\" jsaction=\"click:kkIcoc;\" tabindex=\"0\" target=\"_blank\">Why Dell Stock Plunged Today</a>, <a class=\"JtKRv\" data-n-tid=\"29\" href=\"./articles/CBMiTWh0dHBzOi8vd3d3LmludmVzdG9ycy5jb20vbmV3cy90ZWNobm9sb2d5L2RlbGwtc3RvY2stZmlzY2FsLXExLTIwMjUtZWFybmluZ3Mv0gEA?hl=en-US&amp;gl=US&amp;ceid=US%3Aen\" jsaction=\"click:kkIcoc;\" tabindex=\"0\" target=\"_blank\">Dell Stock Falls On Mixed Q1 Earnings Report</a>, <a class=\"JtKRv\" data-n-tid=\"29\" href=\"./articles/CBMiaGh0dHBzOi8vd3d3LmludmVzdG9wZWRpYS5jb20vZGVsbC10ZWNobm9sb2dpZXMtcTEtZnktMjAyNS1lYXJuaW5ncy1wcmV2aWV3LXdoYXQteW91LW5lZWQtdG8ta25vdy04NjUwNDA30gEA?hl=en-US&amp;gl=US&amp;ceid=US%3Aen\" jsaction=\"click:kkIcoc;\" tabindex=\"0\" target=\"_blank\">What You Need To Know Ahead of Dell's Earnings Report</a>, <a class=\"JtKRv\" data-n-tid=\"29\" href=\"./articles/CBMiTGh0dHBzOi8vZmluYW5jZS55YWhvby5jb20vbmV3cy9kZWxsLWVzY2FwZXMtbnZpZGlhLXNoYWRvdy1vd24tMTIxMjM4MDMyLmh0bWzSAQA?hl=en-US&amp;gl=US&amp;ceid=US%3Aen\" jsaction=\"click:kkIcoc;\" tabindex=\"0\" target=\"_blank\">Dell Escapes Nvidia's Shadow as Its Own AI Tailwinds Accelerate</a>, <a class=\"JtKRv\" data-n-tid=\"29\" href=\"./articles/CBMiSmh0dHBzOi8vd3d3LmludmVzdG9wZWRpYS5jb20vZGVsbC10ZWNobm9sb2dpZXMtcTEtZnktMjAyNS1lYXJuaW5ncy04NjU2MDEx0gEA?hl=en-US&amp;gl=US&amp;ceid=US%3Aen\" jsaction=\"click:kkIcoc;\" tabindex=\"0\" target=\"_blank\">Dell Stock Falls as Earnings, Revenue Beat on Surging AI Server Demand Fails To Impress</a>, <a class=\"JtKRv\" data-n-tid=\"29\" href=\"./articles/CBMiTmh0dHBzOi8vZmluYW5jZS55YWhvby5jb20vbmV3cy9kZWxsLWJlYXRzLWZpcnN0LXF1YXJ0ZXItcmV2ZW51ZS0yMDA3NDQ5MjUuaHRtbNIBAA?hl=en-US&amp;gl=US&amp;ceid=US%3Aen\" jsaction=\"click:kkIcoc;\" tabindex=\"0\" target=\"_blank\">Dell's profit, margin hurt by higher AI costs, shares slump</a>, <a class=\"JtKRv\" data-n-tid=\"29\" href=\"./articles/CBMiWGh0dHBzOi8vd3d3LmludmVzdG9ycy5jb20vbmV3cy90ZWNobm9sb2d5L2RlbGwtc3RvY2stbm90Y2hlcy1yZWNvcmQtaGlnaC1vbi1haS1tb21lbnR1bS_SAQA?hl=en-US&amp;gl=US&amp;ceid=US%3Aen\" jsaction=\"click:kkIcoc;\" tabindex=\"0\" target=\"_blank\">Dell Stock Notches Record High On AI Momentum</a>, <a class=\"JtKRv\" data-n-tid=\"29\" href=\"./articles/CBMijAFodHRwczovL3d3dy5iZW56aW5nYS5jb20vMjQvMDYvMzkxMzAzMTMvdGhpcy1hbmFseXN0LXdpdGgtODctYWNjdXJhY3ktcmF0ZS1zZWVzLTI2LXVwc2lkZS1pbi1kZWxsLXRlY2hub2xvZ2llcy1oZXJlLWFyZS01LXN0b2NrLXBpY2tzLWZvci1tYdIBLWh0dHBzOi8vd3d3LmJlbnppbmdhLmNvbS9hbXAvY29udGVudC8zOTEzMDMxMw?hl=en-US&amp;gl=US&amp;ceid=US%3Aen\" jsaction=\"click:kkIcoc;\" tabindex=\"0\" target=\"_blank\">This Analyst With 87% Accuracy Rate Sees 26% Upside In Dell Technologies - Here Are 5 Stock Picks For May</a>, <a class=\"JtKRv\" data-n-tid=\"29\" href=\"./articles/CBMiOmh0dHBzOi8vd3d3LmNuYmMuY29tLzIwMjQvMDUvMzAvZGVsbC1lYXJuaW5ncy1xMS0yMDI1Lmh0bWzSAT5odHRwczovL3d3dy5jbmJjLmNvbS9hbXAvMjAyNC8wNS8zMC9kZWxsLWVhcm5pbmdzLXExLTIwMjUuaHRtbA?hl=en-US&amp;gl=US&amp;ceid=US%3Aen\" jsaction=\"click:kkIcoc;\" tabindex=\"0\" target=\"_blank\">Dell shares fall despite growing AI server business</a>, <a class=\"JtKRv\" data-n-tid=\"29\" href=\"./articles/CBMicWh0dHBzOi8vY2Vvd29ybGQuYml6LzIwMjQvMDYvMDMvbWljaGFlbC1kZWxscy13ZWFsdGgtcGx1bW1ldHMtYnktMTEtNy1iaWxsaW9uLWFzLWRlbGwtdGVjaG5vbG9naWVzLXNoYXJlcy10dW1ibGUv0gEA?hl=en-US&amp;gl=US&amp;ceid=US%3Aen\" jsaction=\"click:kkIcoc;\" tabindex=\"0\" target=\"_blank\">Michael Dell's Wealth Plummets by $11.7 Billion as Dell Technologies Shares Tumble</a>, <a class=\"JtKRv\" data-n-tid=\"29\" href=\"./articles/CBMiVWh0dHBzOi8vd3d3LmludmVzdG9ycy5jb20vbmV3cy9zdG9jay1tYXJrZXQtcmV0cmVhdHMtc2FsZXNmb3JjZS1kZWxsLWVhcm5pbmdzLWxvc2Vycy_SAQA?hl=en-US&amp;gl=US&amp;ceid=US%3Aen\" jsaction=\"click:kkIcoc;\" tabindex=\"0\" target=\"_blank\">Stock Market Retreats As Salesforce, Dell Lead Earnings Losers: Weekly Review</a>, <a class=\"JtKRv\" data-n-tid=\"29\" href=\"./articles/CBMicWh0dHBzOi8vd3d3LmZhc3Rjb21wYW55LmNvbS85MTEzMzg0OC90ZWNoLXN0b2Nrcy10b2RheS1zYWxlc2ZvcmNlLWRlbGwtYWRvYmUtbWljcm9zb2Z0LXNoYXJlLXByaWNlLWRlY2xpbmUtcmVhc29u0gEA?hl=en-US&amp;gl=US&amp;ceid=US%3Aen\" jsaction=\"click:kkIcoc;\" tabindex=\"0\" target=\"_blank\">Tech stock prices today: Salesforce, Dell, Adobe, Microsoft decline</a>, <a class=\"JtKRv\" data-n-tid=\"29\" href=\"./articles/CBMiU2h0dHBzOi8vd3d3LmtlbG9sYW5kLmNvbS9zcG9ydHMvZGVsbC1yYXBpZHMtcm9sbHMtdGhyb3VnaC1wbGF5b2Zmcy10by1mb3VydGgtdGl0bGUv0gEA?hl=en-US&amp;gl=US&amp;ceid=US%3Aen\" jsaction=\"click:kkIcoc;\" tabindex=\"0\" target=\"_blank\">Dell Rapids rolls through playoffs to fourth title</a>, <a class=\"JtKRv\" data-n-tid=\"29\" href=\"./articles/CBMiUWh0dHBzOi8vd3d3LnBjd29ybGQuY29tL2FydGljbGUvMjMzNTE4OC9kZWxsLWxhdGl0dWRlLTc0NTAtdWx0cmFsaWdodC1yZXZpZXcuaHRtbNIBAA?hl=en-US&amp;gl=US&amp;ceid=US%3Aen\" jsaction=\"click:kkIcoc;\" tabindex=\"0\" target=\"_blank\">Dell Latitude 7450 Ultralight review: A mobile worker's best friend</a>, <a class=\"JtKRv\" data-n-tid=\"29\" href=\"./articles/CBMiWWh0dHBzOi8vYnJvb2tpbmdzcmVnaXN0ZXIuY29tL3N0b3JpZXMvY3Vicy1yYWxseS1sYXRlLXRvLXRha2UtZG93bi1kZWxsLXJhcGlkcy1wYnIsODQ0OTQ_0gEA?hl=en-US&amp;gl=US&amp;ceid=US%3Aen\" jsaction=\"click:kkIcoc;\" tabindex=\"0\" target=\"_blank\">Cubs rally late to take down Dell Rapids PBR</a>, <a class=\"JtKRv\" data-n-tid=\"29\" href=\"./articles/CBMiVGh0dHBzOi8vd3d3Lndzai5jb20vZmluYW5jZS9zdG9ja3MvZGVsbC1zaG91bGQta2VlcC1zaGluaW5nLWluLW52aWRpYXMtaGFsby00NmRhNmI2MdIBAA?hl=en-US&amp;gl=US&amp;ceid=US%3Aen\" jsaction=\"click:kkIcoc;\" tabindex=\"0\" target=\"_blank\">Dell Should Keep Shining in Nvidia's Halo</a>, <a class=\"JtKRv\" data-n-tid=\"29\" href=\"./articles/CBMijwFodHRwczovL3d3dy50cmFkaW5ndmlldy5jb20vbmV3cy90cmFkaW5ndmlldzoyMjkxZmExYzIwOTRiOjAtZGVsbC1kZWxsLXN0b2NrLWVudGVycy1iZWFyLW1hcmtldC1pbi1taW51dGVzLWFmdGVyLWNyYXNoLXdpcGVzLW91dC0yMC1oZXJlLXMtd2h5L9IBAA?hl=en-US&amp;gl=US&amp;ceid=US%3Aen\" jsaction=\"click:kkIcoc;\" tabindex=\"0\" target=\"_blank\">DELL: Dell Stock Enters Bear Market in Minutes After Crash Wipes Out 20%. Here's Why.</a>, <a class=\"JtKRv\" data-n-tid=\"29\" href=\"./articles/CBMimwFodHRwczovL2NvbWljYm9va21vdmllLmNvbS9jb21pY3MvbWFydmVsLWNvbWljcy9nYWJyaWVsbGUtZGVsbG90dG9zLWFtYXppbmctc3BpZGVyLW1hbi12YXJpYW50LWNvdmVycy1waXQtdGhlLXdhbGwtY3Jhd2xlci1hZ2FpbnN0LXRoZS1zaW5pc3Rlci1zaXgtYTIxMTI2ONIBAA?hl=en-US&amp;gl=US&amp;ceid=US%3Aen\" jsaction=\"click:kkIcoc;\" tabindex=\"0\" target=\"_blank\">Gabrielle Dell'Otto's AMAZING SPIDER-MAN Variant Covers Pit The Wall-Crawler Against The Sinister Six</a>, <a class=\"JtKRv\" data-n-tid=\"29\" href=\"./articles/CBMiZGh0dHBzOi8vc2Vla2luZ2FscGhhLmNvbS9hcnRpY2xlLzQ2OTY2MjItZGVsbC10ZWNobm9sb2dpZXMtaW5jLWRlbGwtcTEtMjAyNS1lYXJuaW5ncy1jYWxsLXRyYW5zY3JpcHTSAQA?hl=en-US&amp;gl=US&amp;ceid=US%3Aen\" jsaction=\"click:kkIcoc;\" tabindex=\"0\" target=\"_blank\">Dell Technologies Inc. (DELL) Q1 2025 Earnings Call Transcript</a>, <a class=\"JtKRv\" data-n-tid=\"29\" href=\"./articles/CBMiWGh0dHBzOi8vY2Vvd29ybGQuYml6LzIwMjQvMDYvMDMvaW4tb25lLWRheS1taWNoYWVsLWRlbGxzLXdlYWx0aC1kcm9wcGVkLWJ5LTExLTctYmlsbGlvbi_SAQA?hl=en-US&amp;gl=US&amp;ceid=US%3Aen\" jsaction=\"click:kkIcoc;\" tabindex=\"0\" target=\"_blank\">In one day, Michael Dell's wealth dropped by $11.7 billion</a>, <a class=\"JtKRv\" data-n-tid=\"29\" href=\"./articles/CBMifmh0dHBzOi8vd3d3LnNwb3J0c2tlZWRhLmNvbS9uZmwvbmV3cy10ZXhhbnMtd3ItdGFuay1kZWxsLWJyZWFrcy1zaWxlbmNlLXNob290aW5nLWluY2lkZW50LXNhbmZvcmQtYmFyLXRoYXQtc2gtdC1wb3BwZWQtbm93aGVyZdIBAA?hl=en-US&amp;gl=US&amp;ceid=US%3Aen\" jsaction=\"click:kkIcoc;\" tabindex=\"0\" target=\"_blank\">\"That sh*t popped off out of nowhere\" - Tank Dell breaks silence on shooting incident in Sanford bar</a>, <a class=\"JtKRv\" data-n-tid=\"29\" href=\"./articles/CBMigQFodHRwczovL3d3dy5zY2hhZWZmZXJzcmVzZWFyY2guY29tL2NvbnRlbnQvYW5hbHlzaXMvMjAyNC8wNS8yOS9kZWxsLXRlY2hub2xvZ2llcy1zdG9jay1zY29yZXMtYW5vdGhlci1yZWNvcmQtaGlnaC1iZWZvcmUtZWFybmluZ3PSAQA?hl=en-US&amp;gl=US&amp;ceid=US%3Aen\" jsaction=\"click:kkIcoc;\" tabindex=\"0\" target=\"_blank\">Dell Technologies Stock Scores Another Record High Before Earnings</a>, <a class=\"JtKRv\" data-n-tid=\"29\" href=\"./articles/CBMia2h0dHBzOi8vd3d3Lmlnbi5jb20vYXJ0aWNsZXMvdGhlLWJlc3QtZGVsbC1hbGllbndhcmUtZGVhbHMtYW5kLWNvdXBvbnMtZ2FtaW5nLWxhcHRvcHMtcGNzLW1vbml0b3JzLWFuZC1tb3Jl0gEA?hl=en-US&amp;gl=US&amp;ceid=US%3Aen\" jsaction=\"click:kkIcoc;\" tabindex=\"0\" target=\"_blank\">The Best Dell &amp; Alienware Deals and Coupons: Gaming Laptops, PCs, Monitors, and More</a>, <a class=\"JtKRv\" data-n-tid=\"29\" href=\"./articles/CBMifGh0dHBzOi8vd3d3LnRlY2hyYWRhci5jb20vY29tcHV0aW5nL2xhcHRvcHMvbWFzc2l2ZS1kZWxsLXN1bW1lci1zYWxlLWlzLWxpdmUtaXZlLXBpY2tlZC10aGUtNS1iZXN0LWxhcHRvcC1kZWFscy13b3J0aC1idXlpbmfSAQA?hl=en-US&amp;gl=US&amp;ceid=US%3Aen\" jsaction=\"click:kkIcoc;\" tabindex=\"0\" target=\"_blank\">Massive Dell summer sale is live - I've picked the 5 best laptop deals worth buying</a>, <a class=\"JtKRv\" data-n-tid=\"29\" href=\"./articles/CBMiXGh0dHBzOi8vd3d3LmludmVzdGluZy5jb20vbmV3cy9zdG9jay1tYXJrZXQtbmV3cy9kZWxsLXNoYXJlcy10dW1ibGUtMTUtYWZ0ZXItcmVzdWx0cy0zNDY0Mjg50gEA?hl=en-US&amp;gl=US&amp;ceid=US%3Aen\" jsaction=\"click:kkIcoc;\" tabindex=\"0\" target=\"_blank\">DELL shares tumble as solid results, AI server orders fail to satisfy investors By Investing.com</a>, <a class=\"JtKRv\" data-n-tid=\"29\" href=\"./articles/CBMiQmh0dHBzOi8vd3d3LnRoZXJlZ2lzdGVyLmNvbS8yMDI0LzA1LzMwL2RlbGxfdm13YXJlX3Z4cmFpbF9udXRhbml4L9IBRmh0dHBzOi8vd3d3LnRoZXJlZ2lzdGVyLmNvbS9BTVAvMjAyNC8wNS8zMC9kZWxsX3Ztd2FyZV92eHJhaWxfbnV0YW5peC8?hl=en-US&amp;gl=US&amp;ceid=US%3Aen\" jsaction=\"click:kkIcoc;\" tabindex=\"0\" target=\"_blank\">Lenovo claims Dell has run off the VxRails and can't sell hyperconverged VMware</a>, <a class=\"JtKRv\" data-n-tid=\"29\" href=\"./articles/CBMiZWh0dHBzOi8vd3d3LnRoZXN0cmVldC5jb20vaW52ZXN0aW5nL3N0b2Nrcy9hbmFseXN0cy1yZWJvb3QtZGVsbC1zdG9jay1wcmljZS10YXJnZXRzLWFoZWFkLW9mLWVhcm5pbmdz0gEA?hl=en-US&amp;gl=US&amp;ceid=US%3Aen\" jsaction=\"click:kkIcoc;\" tabindex=\"0\" target=\"_blank\">Analysts reboot Dell stock price targets ahead of earnings</a>, <a class=\"JtKRv\" data-n-tid=\"29\" href=\"./articles/CBMiSmh0dHBzOi8vd3d3Lm1hcmtldGJlYXQuY29tL2luc3RhbnQtYWxlcnRzL255c2UtZGVsbC1zZWMtZmlsaW5nLTIwMjQtMDYtMDMv0gEA?hl=en-US&amp;gl=US&amp;ceid=US%3Aen\" jsaction=\"click:kkIcoc;\" tabindex=\"0\" target=\"_blank\">Franklin Resources Inc. Has $2.58 Million Stock Position in Dell Technologies Inc. (NYSE:DELL)</a>, <a class=\"JtKRv\" data-n-tid=\"29\" href=\"./articles/CBMiamh0dHBzOi8vd3d3LmJlbnppbmdhLmNvbS9uZXdzL2Vhcm5pbmdzLzI0LzA1LzM5MDk1MTkwL3doYXRzLWdvaW5nLW9uLXdpdGgtZGVsbC10ZWNobm9sb2dpZXMtc3RvY2stdGh1cnNkYXnSAS1odHRwczovL3d3dy5iZW56aW5nYS5jb20vYW1wL2NvbnRlbnQvMzkwOTUxOTA?hl=en-US&amp;gl=US&amp;ceid=US%3Aen\" jsaction=\"click:kkIcoc;\" tabindex=\"0\" target=\"_blank\">What's Going On With Dell Technologies Stock Thursday? - Dell Technologies (NYSE:DELL)</a>, <a class=\"JtKRv\" data-n-tid=\"29\" href=\"./articles/CBMiP2h0dHBzOi8vd3d3LmRpZ2l0YWx0cmVuZHMuY29tL2NvbXB1dGluZy9iZXN0LWRlbGwtbGFwdG9wLWRlYWxzL9IBQ2h0dHBzOi8vd3d3LmRpZ2l0YWx0cmVuZHMuY29tL2NvbXB1dGluZy9iZXN0LWRlbGwtbGFwdG9wLWRlYWxzLz9hbXA?hl=en-US&amp;gl=US&amp;ceid=US%3Aen\" jsaction=\"click:kkIcoc;\" tabindex=\"0\" target=\"_blank\">Best Dell laptop deals: Cheap laptops starting at $280</a>, <a class=\"JtKRv\" data-n-tid=\"29\" href=\"./articles/CBMiTmh0dHBzOi8vd3d3LmdvbG9jYWxwcm92LmNvbS9vYml0dWFyaWVzL3Uucy4tYXJteS12ZXRlcmFuLWZsb3lkLWRlbGwtd29vZHMtZGllc9IBAA?hl=en-US&amp;gl=US&amp;ceid=US%3Aen\" jsaction=\"click:kkIcoc;\" tabindex=\"0\" target=\"_blank\">U.S. Army Veteran Floyd Dell Woods Dies at 58</a>, <a class=\"JtKRv\" data-n-tid=\"29\" href=\"./articles/CBMigwFodHRwczovL3d3dy5tYXJrZXRzY3JlZW5lci5jb20vbmV3cy9sYXRlc3QvQW5hbHlzdHMtcmVjb21tZW5kYXRpb25zLUJlc3QtQnV5LURlbGwtVGVjaG5vbG9naWVzLU1vZGVybmEtQU1ELU5hdGlvbmFsLUdyaWQtLTQ2ODg1OTg0L9IBAA?hl=en-US&amp;gl=US&amp;ceid=US%3Aen\" jsaction=\"click:kkIcoc;\" tabindex=\"0\" target=\"_blank\">Analysts recommendations: Best Buy, Dell Technologies, Moderna, AMD, National Grid...</a>, <a class=\"JtKRv\" data-n-tid=\"29\" href=\"./articles/CBMiUmh0dHBzOi8vd3d3LmZvb2wuY29tL2ludmVzdGluZy8yMDI0LzA1LzI4L3Nob3VsZC15b3UtYnV5LWRlbGwtc3RvY2stYmVmb3JlLW1heS0zMC_SAQA?hl=en-US&amp;gl=US&amp;ceid=US%3Aen\" jsaction=\"click:kkIcoc;\" tabindex=\"0\" target=\"_blank\">Should You Buy Dell Stock Before May 30?</a>, <a class=\"JtKRv\" data-n-tid=\"29\" href=\"./articles/CBMiTmh0dHBzOi8vd3d3LnRoZS1zdW4uY29tL3Nwb3J0LzExNTIxOTIxL3RhbmstZGVsbC1ob3VzdG9uLXRleGFucy1tYXNzLXNob290aW5nL9IBUmh0dHBzOi8vd3d3LnRoZS1zdW4uY29tL3Nwb3J0LzExNTIxOTIxL3RhbmstZGVsbC1ob3VzdG9uLXRleGFucy1tYXNzLXNob290aW5nL2FtcC8?hl=en-US&amp;gl=US&amp;ceid=US%3Aen\" jsaction=\"click:kkIcoc;\" tabindex=\"0\" target=\"_blank\">‘Went south out of nowhere,’ says Tank Dell as Houston Texans star opens up on mass shooting that left him...</a>, <a class=\"JtKRv\" data-n-tid=\"29\" href=\"./articles/CBMiTWh0dHBzOi8vd3d3LnRlY2hyYWRhci5jb20vcHJvL2RlbGwtbGF0aXR1ZGUtNzAzMC1ydWdnZWQtZXh0cmVtZS10YWJsZXQtcmV2aWV30gEA?hl=en-US&amp;gl=US&amp;ceid=US%3Aen\" jsaction=\"click:kkIcoc;\" tabindex=\"0\" target=\"_blank\">Dell Latitude 7030 Rugged Extreme tablet review</a>, <a class=\"JtKRv\" data-n-tid=\"29\" href=\"./articles/CBMiamh0dHBzOi8vd3d3LmNuYmMuY29tLzIwMjQvMDUvMzEvc3RvY2tzLW1ha2luZy10aGUtYmlnZ2VzdC1tb3Zlcy1wcmVtYXJrZXQtZGVsbC11bHRhLWFtYmEtZ2FwLWFuZC1tb3JlLmh0bWzSAQA?hl=en-US&amp;gl=US&amp;ceid=US%3Aen\" jsaction=\"click:kkIcoc;\" tabindex=\"0\" target=\"_blank\">Stocks making the biggest moves premarket: Dell Technologies, Ulta Beauty, Ambarella, Gap and more</a>, <a class=\"JtKRv\" data-n-tid=\"29\" href=\"./articles/CBMia2h0dHBzOi8vd3d3LmxhcHRvcG1hZy5jb20vbGFwdG9wcy9kZWxsLWluc3Bpcm9uLTE2LWNyYXNoZXMtdG8tYW4taW5jcmVkaWJsZS1kb2xsYXI1NDAtd2l0aC10aGlzLWNvdXBvbi1jb2Rl0gEA?hl=en-US&amp;gl=US&amp;ceid=US%3Aen\" jsaction=\"click:kkIcoc;\" tabindex=\"0\" target=\"_blank\">Dell Inspiron 16 crashes to an incredible $540 with this coupon code</a>, <a class=\"JtKRv\" data-n-tid=\"29\" href=\"./articles/CBMiVmh0dHBzOi8vYmxvY2tzYW5kZmlsZXMuY29tLzIwMjQvMDUvMzEvYWZ0ZXItc2l4LXF1YXJ0ZXJzLW9mLWRyb3BzLWRlbGxzLXJldmVudWUtc29hcnMv0gEA?hl=en-US&amp;gl=US&amp;ceid=US%3Aen\" jsaction=\"click:kkIcoc;\" tabindex=\"0\" target=\"_blank\">AI server sales drive topline growth for Dell – Blocks and Files</a>, <a class=\"JtKRv\" data-n-tid=\"29\" href=\"./articles/CBMiQ2h0dHBzOi8vZmluYW5jZS55YWhvby5jb20vbmV3cy9idXktZGVsbC1zdG9jay1tYXktMzAtMTEzMDAwOTkxLmh0bWzSAQA?hl=en-US&amp;gl=US&amp;ceid=US%3Aen\" jsaction=\"click:kkIcoc;\" tabindex=\"0\" target=\"_blank\">Should You Buy Dell Stock Before May 30?</a>, <a class=\"JtKRv\" data-n-tid=\"29\" href=\"./articles/CBMiY2h0dHBzOi8vd3d3LnphY2tzLmNvbS9zdG9jay9uZXdzLzIyODAxMDEvc2hvdWxkLXlvdS1idXktZGVsbC10ZWNobm9sb2dpZXMtZGVsbC1haGVhZC1vZi1xMS1lYXJuaW5nc9IBZ2h0dHBzOi8vd3d3LnphY2tzLmNvbS9hbXAvc3RvY2svbmV3cy8yMjgwMTAxL3Nob3VsZC15b3UtYnV5LWRlbGwtdGVjaG5vbG9naWVzLWRlbGwtYWhlYWQtb2YtcTEtZWFybmluZ3M?hl=en-US&amp;gl=US&amp;ceid=US%3Aen\" jsaction=\"click:kkIcoc;\" tabindex=\"0\" target=\"_blank\">Should You Buy Dell Technologies (DELL) Ahead of Q1 Earnings?</a>, <a class=\"JtKRv\" data-n-tid=\"29\" href=\"./articles/CBMiZ2h0dHBzOi8vd3d3LmRha290YW5ld3Nub3cuY29tLzIwMjQvMDYvMDIvc3RhdGUtYi1iYXNlYmFsbC1kZWxsLXJhcGlkcy1zdXJ2aXZlcy1sYXRlLXN1cmdlLWhvd2FyZC10aXRsZS_SAXZodHRwczovL3d3dy5kYWtvdGFuZXdzbm93LmNvbS8yMDI0LzA2LzAyL3N0YXRlLWItYmFzZWJhbGwtZGVsbC1yYXBpZHMtc3Vydml2ZXMtbGF0ZS1zdXJnZS1ob3dhcmQtdGl0bGUvP291dHB1dFR5cGU9YW1w?hl=en-US&amp;gl=US&amp;ceid=US%3Aen\" jsaction=\"click:kkIcoc;\" tabindex=\"0\" target=\"_blank\">State B Baseball: Dell Rapids survives late surge from Howard for the title</a>, <a class=\"JtKRv\" data-n-tid=\"29\" href=\"./articles/CBMiW2h0dHBzOi8vd3d3LmNybi5jb20vbmV3cy9haS8yMDI0L2RlbGwtdGVjaG5vbG9naWVzLXBjLXNhbGVzLXJlYm91bmQtc2VydmVyLXNhbGVzLWhpdC1yZWNvcmTSAQA?hl=en-US&amp;gl=US&amp;ceid=US%3Aen\" jsaction=\"click:kkIcoc;\" tabindex=\"0\" target=\"_blank\">Dell Technologies PC Sales Begin Rebound, Server Sales Hit Record</a>, <a class=\"JtKRv\" data-n-tid=\"29\" href=\"./articles/CBMiemh0dHBzOi8vd3d3Lm1pdGNoZWxscmVwdWJsaWMuY29tL3Nwb3J0cy9wcmVwL2RlbGwtcmFwaWRzLWhvbGRzLW9mZi1ob3dhcmQtaW4tY2xhc3MtYi1zdGF0ZS1oaWdoLXNjaG9vbC1iYXNlYmFsbC10aXRsZS1nYW1l0gEA?hl=en-US&amp;gl=US&amp;ceid=US%3Aen\" jsaction=\"click:kkIcoc;\" tabindex=\"0\" target=\"_blank\">Dell Rapids wins pitchers' duel over Howard in Class B state high school baseball title game</a>, <a class=\"JtKRv\" data-n-tid=\"29\" href=\"./articles/CBMid2h0dHBzOi8vd3d3Lm5kdHYuY29tL2J1c2luZXNzLW5ld3MvYmlsbGlvbmFpcmUtY2VvLW1pY2hhZWwtZGVsbHMtd2VhbHRoLWRyb3BwZWQtYnktMTEtNy1iaWxsaW9uLWluLWEtc2luZ2xlLWRheS01ODA0MzI10gF9aHR0cHM6Ly93d3cubmR0di5jb20vYnVzaW5lc3MtbmV3cy9iaWxsaW9uYWlyZS1jZW8tbWljaGFlbC1kZWxscy13ZWFsdGgtZHJvcHBlZC1ieS0xMS03LWJpbGxpb24taW4tYS1zaW5nbGUtZGF5LTU4MDQzMjUvYW1wLzE?hl=en-US&amp;gl=US&amp;ceid=US%3Aen\" jsaction=\"click:kkIcoc;\" tabindex=\"0\" target=\"_blank\">This Billionaire CEO's Wealth Dropped By $11.7 Billion In A Single Day</a>, <a class=\"JtKRv\" data-n-tid=\"29\" href=\"./articles/CBMid2h0dHBzOi8vd3d3LmZvcmJlcy5jb20vc2l0ZXMvcm9iZXJ0ZGF1Z2hlcnR5LzIwMjQvMDUvMzAvZGVsbHMtZWFybmluZ3Mtd2hhdC1pdC1tZWFucy1mb3ItdGhlLTIwMjQtbWFya2V0LWFuZC1haS1zdG9ja3Mv0gEA?hl=en-US&amp;gl=US&amp;ceid=US%3Aen\" jsaction=\"click:kkIcoc;\" tabindex=\"0\" target=\"_blank\">Dell's Earnings: What It Means For The 2024 Market And AI Stocks</a>, <a class=\"JtKRv\" data-n-tid=\"29\" href=\"./articles/CBMiiAFodHRwczovL3d3dy5wcm5ld3N3aXJlLmNvbS9uZXdzLXJlbGVhc2VzL2RlbGwtdGVjaG5vbG9naWVzLWV4cGFuZHMtZGVsbC1haS1mYWN0b3J5LXdpdGgtbnZpZGlhLXRvLXR1cmJvY2hhcmdlLWFpLWFkb3B0aW9uLTMwMjE1MDI0NS5odG1s0gEA?hl=en-US&amp;gl=US&amp;ceid=US%3Aen\" jsaction=\"click:kkIcoc;\" tabindex=\"0\" target=\"_blank\">Dell Technologies Expands Dell AI Factory with NVIDIA to Turbocharge AI Adoption</a>, <a class=\"JtKRv\" data-n-tid=\"29\" href=\"./articles/CBMiamh0dHBzOi8vd3d3LmNuYmMuY29tLzIwMjQvMDUvMzAvc3RvY2tzLW1ha2luZy10aGUtYmlnZ2VzdC1tb3Zlcy1hZnRlci1ob3Vycy1kZWxsLW1kYi16cy1ncHMtYW5kLW1vcmUtLmh0bWzSAQA?hl=en-US&amp;gl=US&amp;ceid=US%3Aen\" jsaction=\"click:kkIcoc;\" tabindex=\"0\" target=\"_blank\">Stocks making the biggest moves after hours: Dell Technologies, MongoDB, Zscaler, Gap and more</a>, <a class=\"JtKRv\" data-n-tid=\"29\" href=\"./articles/CBMidmh0dHBzOi8vd3d3Lm1hcmtldHdhdGNoLmNvbS9zdG9yeS93aHktZGVsbHMtc3RvY2staXMtaGF2aW5nLWl0cy13b3JzdC1kYXktc2luY2UtMjAxOC1kZXNwaXRlLXN0cm9uZy1haS1kZW1hbmQtMzljMmYzN2HSAXpodHRwczovL3d3dy5tYXJrZXR3YXRjaC5jb20vYW1wL3N0b3J5L3doeS1kZWxscy1zdG9jay1pcy1oYXZpbmctaXRzLXdvcnN0LWRheS1zaW5jZS0yMDE4LWRlc3BpdGUtc3Ryb25nLWFpLWRlbWFuZC0zOWMyZjM3YQ?hl=en-US&amp;gl=US&amp;ceid=US%3Aen\" jsaction=\"click:kkIcoc;\" tabindex=\"0\" target=\"_blank\">Why Dell’s stock had its worst day since 2018 despite strong AI demand</a>, <a class=\"JtKRv\" data-n-tid=\"29\" href=\"./articles/CBMiTmh0dHBzOi8vd3d3LmRpZ2l0YWx0cmVuZHMuY29tL2NvbXB1dGluZy9kZWxsLXhwcy0xMy1sYXB0b3AtZGVhbC1kZWxsLW1heS0yMDI0L9IBUmh0dHBzOi8vd3d3LmRpZ2l0YWx0cmVuZHMuY29tL2NvbXB1dGluZy9kZWxsLXhwcy0xMy1sYXB0b3AtZGVhbC1kZWxsLW1heS0yMDI0Lz9hbXA?hl=en-US&amp;gl=US&amp;ceid=US%3Aen\" jsaction=\"click:kkIcoc;\" tabindex=\"0\" target=\"_blank\">This is your chance to grab the Dell XPS 13 at a $300 discount</a>, <a class=\"JtKRv\" data-n-tid=\"29\" href=\"./articles/CBMiaGh0dHBzOi8vd3d3LmNybi5jb20vbmV3cy9zdG9yYWdlLzIwMjQvbnV0YW5peC1zLW5ldy1kZWxsLW52aWRpYS1hbGxpYW5jZXMtbWVhbnQtdG8tYWR2YW5jZS1haS1tdWx0aWNsb3Vk0gEA?hl=en-US&amp;gl=US&amp;ceid=US%3Aen\" jsaction=\"click:kkIcoc;\" tabindex=\"0\" target=\"_blank\">Nutanix's New Dell, Nvidia Alliances Meant To Advance AI, Multicloud</a>, <a class=\"JtKRv\" data-n-tid=\"29\" href=\"./articles/CBMibWh0dHBzOi8vd3d3LmNybi5jb20vbmV3cy9haS8yMDI0L2RlbGwtdGVjaG5vbG9naWVzLXNhbGVzLWJvc3MtYmlsbC1zY2FubmVsbC1zYXlzLWdlbmFpLW9wcG9ydHVuaXR5LWlzLWltbWVuc2XSAQA?hl=en-US&amp;gl=US&amp;ceid=US%3Aen\" jsaction=\"click:kkIcoc;\" tabindex=\"0\" target=\"_blank\">Dell Technologies Sales Boss Bill Scannell Says GenAI 'Opportunity Is Immense'</a>, <a class=\"JtKRv\" data-n-tid=\"29\" href=\"./articles/CBMibGh0dHBzOi8vc2lsaWNvbmFuZ2xlLmNvbS8yMDI0LzA1LzMxL3RyYW5zZm9ybWluZy1pbmZyYXN0cnVjdHVyZS1kZWxscy1hZHZhbmNlZC1haS1pbnRlZ3JhdGlvbi1kZWxsdGVjaHdvcmxkL9IBAA?hl=en-US&amp;gl=US&amp;ceid=US%3Aen\" jsaction=\"click:kkIcoc;\" tabindex=\"0\" target=\"_blank\">AI integration at the forefront of Dell's on-premises strategy</a>, <a class=\"JtKRv\" data-n-tid=\"29\" href=\"./articles/CBMiR2h0dHBzOi8vd3d3LmRpZ2l0YWx0cmVuZHMuY29tL2NvbXB1dGluZy9kZWxsLXhwcy0xMy1kZWFsLWRlbGwtbWF5LTIwMjQv0gFLaHR0cHM6Ly93d3cuZGlnaXRhbHRyZW5kcy5jb20vY29tcHV0aW5nL2RlbGwteHBzLTEzLWRlYWwtZGVsbC1tYXktMjAyNC8_YW1w?hl=en-US&amp;gl=US&amp;ceid=US%3Aen\" jsaction=\"click:kkIcoc;\" tabindex=\"0\" target=\"_blank\">Dell cut the price of this Dell XPS 13 to $800 for a limited time</a>, <a class=\"JtKRv\" data-n-tid=\"29\" href=\"./articles/CBMiXGh0dHBzOi8vd3d3LmludmVzdG9ycy5jb20vbWFya2V0LXRyZW5kL3N0b2NrLW1hcmtldC10b2RheS9kb3ctam9uZXMtc3A1MDAtbmFzZGFxLWRlbGwtc3RvY2sv0gEA?hl=en-US&amp;gl=US&amp;ceid=US%3Aen\" jsaction=\"click:kkIcoc;\" tabindex=\"0\" target=\"_blank\">Stock Market Today: Dow Jones Rises On Inflation Data; Dell Plunges 19% On Earnings</a>, <a class=\"JtKRv\" data-n-tid=\"29\" href=\"./articles/CBMiQmh0dHBzOi8vd3d3LmRpZ2l0YWx0cmVuZHMuY29tL2NvbXB1dGluZy9iZXN0LWNoZWFwLWRlbGwteHBzLWRlYWxzL9IBRmh0dHBzOi8vd3d3LmRpZ2l0YWx0cmVuZHMuY29tL2NvbXB1dGluZy9iZXN0LWNoZWFwLWRlbGwteHBzLWRlYWxzLz9hbXA?hl=en-US&amp;gl=US&amp;ceid=US%3Aen\" jsaction=\"click:kkIcoc;\" tabindex=\"0\" target=\"_blank\">Best Dell XPS deals: Save on Dell XPS 13, Dell XPS 15 and Dell XPS 17</a>, <a class=\"JtKRv\" data-n-tid=\"29\" href=\"./articles/CBMieWh0dHBzOi8vd3d3Lm1hcmtldHdhdGNoLmNvbS9zdG9yeS9kZWxsLWVhcm5pbmdzLXNob3ctYW4tZXhwbG9zaW9uLWluLWFpLXNlcnZlci1kZW1hbmQtYnV0LXN0b2NrLWV4dGVuZHMtcHVsbGJhY2stNzcwMTMzOTLSAX1odHRwczovL3d3dy5tYXJrZXR3YXRjaC5jb20vYW1wL3N0b3J5L2RlbGwtZWFybmluZ3Mtc2hvdy1hbi1leHBsb3Npb24taW4tYWktc2VydmVyLWRlbWFuZC1idXQtc3RvY2stZXh0ZW5kcy1wdWxsYmFjay03NzAxMzM5Mg?hl=en-US&amp;gl=US&amp;ceid=US%3Aen\" jsaction=\"click:kkIcoc;\" tabindex=\"0\" target=\"_blank\">Dell earnings show fervent AI demand, but margin talk sends stock sliding</a>, <a class=\"JtKRv\" data-n-tid=\"29\" href=\"./articles/CBMiP2h0dHBzOi8vcXouY29tL2RlbGwtc3RvY2stYWktc2VydmVyLXJldmVudWUtZWFybmluZ3MtMTg1MTUxMjM3NdIBAA?hl=en-US&amp;gl=US&amp;ceid=US%3Aen\" jsaction=\"click:kkIcoc;\" tabindex=\"0\" target=\"_blank\">Dell stock plummets 20% because its AI play is falling short</a>, <a class=\"JtKRv\" data-n-tid=\"29\" href=\"./articles/CBMiXWh0dHBzOi8vd3d3LnRoZXZlcmdlLmNvbS8yMDI0LzUvMjAvMjQxNjA4NTkvZGVsbC1xdWFsY29tbS1zbmFwZHJhZ29uLXgtZWxpdGUtcGx1cy14cHMtbGFwdG9wc9IBAA?hl=en-US&amp;gl=US&amp;ceid=US%3Aen\" jsaction=\"click:kkIcoc;\" tabindex=\"0\" target=\"_blank\">Dell’s XPS, Inspiron, and Latitude laptops are getting Qualcomm chips</a>, <a class=\"JtKRv\" data-n-tid=\"29\" href=\"./articles/CBMihAFodHRwczovL3N0b2NrbmV3cy5jb20vbmV3cy9kZWxsLW1zZnQtbnZkYS1xY29tLWVyaWMtdnRrbHktbHRyeC1hbG90LWRlbGwtdGVjaG5vbG9naWVzLWRlbGwtZWFybmluZ3MtcmV2aWV3LXdoYXRzLW5leHQtZm9yLWludmVzdG9ycy_SAQA?hl=en-US&amp;gl=US&amp;ceid=US%3Aen\" jsaction=\"click:kkIcoc;\" tabindex=\"0\" target=\"_blank\">DELL: Dell Technologies (DELL) Earnings Review: What's Next for Investors?</a>, <a class=\"JtKRv\" data-n-tid=\"29\" href=\"./articles/CBMiYWh0dHBzOi8vdmVudHVyZWJlYXQuY29tL2RhdGEtaW5mcmFzdHJ1Y3R1cmUvZGVsbC1lYXJuaW5ncy1yZXZlYWwtc2x1Z2dpc2gtZW50ZXJwcmlzZS1haS1hZG9wdGlvbi_SAQA?hl=en-US&amp;gl=US&amp;ceid=US%3Aen\" jsaction=\"click:kkIcoc;\" tabindex=\"0\" target=\"_blank\">Dell earnings reveal sluggish enterprise AI adoption</a>, <a class=\"JtKRv\" data-n-tid=\"29\" href=\"./articles/CBMiNGh0dHBzOi8vd3d3LnRlY2hyYWRhci5jb20vbmV3cy90aGUtYmVzdC1kZWxsLWxhcHRvcHPSAQA?hl=en-US&amp;gl=US&amp;ceid=US%3Aen\" jsaction=\"click:kkIcoc;\" tabindex=\"0\" target=\"_blank\">The best Dell laptop 2024</a>, <a class=\"JtKRv\" data-n-tid=\"29\" href=\"./articles/CBMipAFodHRwczovL3d3dy5kYWtvdGFuZXdzbm93LmNvbS8yMDI0LzA2LzAxL3N0YXRlLWItYmFzZWJhbGwtcGFya3N0b25ldGhhbnRyaXBwLWRlbGwtcmFwaWRzLWhvd2FyZC1tb3VudC12ZXJub25wbGFua2ludG9uY29yc2ljYS1zdGlja25leS1hZHZhY2UtdGhyb3VnaC1xdWFydGVyZmluYWxzL9IBswFodHRwczovL3d3dy5kYWtvdGFuZXdzbm93LmNvbS8yMDI0LzA2LzAxL3N0YXRlLWItYmFzZWJhbGwtcGFya3N0b25ldGhhbnRyaXBwLWRlbGwtcmFwaWRzLWhvd2FyZC1tb3VudC12ZXJub25wbGFua2ludG9uY29yc2ljYS1zdGlja25leS1hZHZhY2UtdGhyb3VnaC1xdWFydGVyZmluYWxzLz9vdXRwdXRUeXBlPWFtcA?hl=en-US&amp;gl=US&amp;ceid=US%3Aen\" jsaction=\"click:kkIcoc;\" tabindex=\"0\" target=\"_blank\">STATE B BASEBALL: Parkston/Ethan/Tripp, Dell Rapids, Howard &amp; Mount Vernon/Plankinton/Corsica-Stickney advance through quarterfinals</a>, <a class=\"JtKRv\" data-n-tid=\"29\" href=\"./articles/CBMiYGh0dHBzOi8vd3d3LmRpZ2l0YWx0cmVuZHMuY29tL2NvbXB1dGluZy9kZWxsLWcxNS1nYW1pbmctbGFwdG9wLXdpdGgtcnR4LTMwNTAtZGVhbC1kZWxsLW1heS0yMDI0L9IBZGh0dHBzOi8vd3d3LmRpZ2l0YWx0cmVuZHMuY29tL2NvbXB1dGluZy9kZWxsLWcxNS1nYW1pbmctbGFwdG9wLXdpdGgtcnR4LTMwNTAtZGVhbC1kZWxsLW1heS0yMDI0Lz9hbXA?hl=en-US&amp;gl=US&amp;ceid=US%3Aen\" jsaction=\"click:kkIcoc;\" tabindex=\"0\" target=\"_blank\">Dell’s best-selling gaming laptop is $200 off today</a>, <a class=\"JtKRv\" data-n-tid=\"29\" href=\"./articles/CBMiUGh0dHBzOi8vZmluYW5jZS55YWhvby5jb20vdmlkZW8vZGVsbC1ub25saW5lYXItZGVtYW5kLWNoaXAtc3VwcGx5LTIwNDMxODQ2Ni5odG1s0gEA?hl=en-US&amp;gl=US&amp;ceid=US%3Aen\" jsaction=\"click:kkIcoc;\" tabindex=\"0\" target=\"_blank\">Dell: Nonlinear demand, chip supply curb our AI server growth</a>, <a class=\"JtKRv\" data-n-tid=\"29\" href=\"./articles/CBMiOGh0dHBzOi8vd3d3Lmlnbi5jb20vYXJ0aWNsZXMvZGVsbC1tZW1vcmlhbC1kYXktc2FsZS0yMDI00gEA?hl=en-US&amp;gl=US&amp;ceid=US%3Aen\" jsaction=\"click:kkIcoc;\" tabindex=\"0\" target=\"_blank\">Dell Memorial Day Sale 2024: The Best Deals on Dell and Alienware Gaming Laptops and PCs</a>, <a class=\"JtKRv\" data-n-tid=\"29\" href=\"./articles/CBMiZGh0dHBzOi8vdGVjaG5vbG9neW1hZ2F6aW5lLmNvbS9hcnRpY2xlcy9ob3ctZGVsbC1pcy1kb3VibGluZy1kb3duLW9uLWFpLWFmdGVyLTQwLXllYXJzLW9mLWlubm92YXRpb27SAQA?hl=en-US&amp;gl=US&amp;ceid=US%3Aen\" jsaction=\"click:kkIcoc;\" tabindex=\"0\" target=\"_blank\">How Dell is Doubling Down on AI After 40 Years of Innovation</a>, <a class=\"JtKRv\" data-n-tid=\"29\" href=\"./articles/CBMifWh0dHBzOi8vd3d3Lm1pdGNoZWxscmVwdWJsaWMuY29tL3Nwb3J0cy9wcmVwL3RlYW0tbm8taGl0dGVyLXBvd2Vycy1kZWxsLXJhcGlkcy10by1jaGFtcGlvbnNoaXAtZ2FtZS1vdmVyLXBhcmtzdG9uLWV0aGFuLXRyaXBw0gEA?hl=en-US&amp;gl=US&amp;ceid=US%3Aen\" jsaction=\"click:kkIcoc;\" tabindex=\"0\" target=\"_blank\">Team no-hitter powers Dell Rapids to championship game over Parkston/Ethan/Tripp</a>, <a class=\"JtKRv\" data-n-tid=\"29\" href=\"./articles/CBMiV2h0dHBzOi8vd3d3LmRpZ2l0YWx0cmVuZHMuY29tL2NvbXB1dGluZy9kZWxsLWcxNi03NjMwLWdhbWluZy1sYXB0b3AtZGVhbC1kZWxsLW1heS0yMDI0L9IBW2h0dHBzOi8vd3d3LmRpZ2l0YWx0cmVuZHMuY29tL2NvbXB1dGluZy9kZWxsLWcxNi03NjMwLWdhbWluZy1sYXB0b3AtZGVhbC1kZWxsLW1heS0yMDI0Lz9hbXA?hl=en-US&amp;gl=US&amp;ceid=US%3Aen\" jsaction=\"click:kkIcoc;\" tabindex=\"0\" target=\"_blank\">Dell’s new G16 gaming laptop already has a price cut</a>, <a class=\"JtKRv\" data-n-tid=\"29\" href=\"./articles/CBMigwFodHRwczovL3d3dy5pbnZlc3RvcnMuY29tL21hcmtldC10cmVuZC9zdG9jay1tYXJrZXQtdG9kYXkvZG93LWpvbmVzLWZ1dHVyZXMtZmVkLWluZmxhdGlvbi1yZXBvcnQtZHVlLWtleS1zZWN0b3ItZGl2ZXMtZGVsbC1wbHVuZ2VzL9IBAA?hl=en-US&amp;gl=US&amp;ceid=US%3Aen\" jsaction=\"click:kkIcoc;\" tabindex=\"0\" target=\"_blank\">Dow Jones Futures Await Fed's Key Inflation Report; Dell Plunges</a>, <a class=\"JtKRv\" data-n-tid=\"29\" href=\"./articles/CBMiNGh0dHBzOi8vd3d3LmRlbGwuY29tL2VuLXVzL2xwL2R0L3dvcmtsb2Fkcy1hbmFseXRpY3PSAQA?hl=en-US&amp;gl=US&amp;ceid=US%3Aen\" jsaction=\"click:kkIcoc;\" tabindex=\"0\" target=\"_blank\">Analytics Solutions</a>, <a class=\"JtKRv\" data-n-tid=\"29\" href=\"./articles/CBMiSGh0dHBzOi8vZmluYW5jZS55YWhvby5jb20vdmlkZW8vZGVsbC1zdG9jay1mYWxscy1xMS1ncm9zcy0xNDExNDYzNzEuaHRtbNIBAA?hl=en-US&amp;gl=US&amp;ceid=US%3Aen\" jsaction=\"click:kkIcoc;\" tabindex=\"0\" target=\"_blank\">Dell stock falls as Q1 gross margins decline 2.5%</a>, <a class=\"JtKRv\" data-n-tid=\"29\" href=\"./articles/CBMiT2h0dHBzOi8vZmluYW5jZS55YWhvby5jb20vbmV3cy9kZWxsLXRlY2hub2xvZ2llcy1kZWxsLXJlcG9ydHMtcTEtMjIzMDA2MjIxLmh0bWzSAQA?hl=en-US&amp;gl=US&amp;ceid=US%3Aen\" jsaction=\"click:kkIcoc;\" tabindex=\"0\" target=\"_blank\">Dell Technologies (DELL) Reports Q1 Earnings: What Key Metrics Have to Say</a>, <a class=\"JtKRv\" data-n-tid=\"29\" href=\"./articles/CBMiX2h0dHBzOi8vd3d3LmtlbG9sYW5kLmNvbS9zcG9ydHMvdGphZGVuLWRlbGwtcmFwaWRzLWNvbWJpbmUtZm9yLW5vLWhpdHRlci1hZHZhbmNlLXRvLXRpdGxlLWdhbWUv0gEA?hl=en-US&amp;gl=US&amp;ceid=US%3Aen\" jsaction=\"click:kkIcoc;\" tabindex=\"0\" target=\"_blank\">Tjaden, Dell Rapids combine for no-hitter, advance to title game</a>, <a class=\"JtKRv\" data-n-tid=\"29\" href=\"./articles/CBMicWh0dHBzOi8vd3d3LmRlZmVuc2V3b3JsZC5uZXQvMjAyNC8wNi8wMi90ZC1jb3dlbi1pbmNyZWFzZXMtZGVsbC10ZWNobm9sb2dpZXMtbnlzZWRlbGwtcHJpY2UtdGFyZ2V0LXRvLTE1NS0wMC5odG1s0gEA?hl=en-US&amp;gl=US&amp;ceid=US%3Aen\" jsaction=\"click:kkIcoc;\" tabindex=\"0\" target=\"_blank\">TD Cowen Increases Dell Technologies (NYSE:DELL) Price Target to $155.00</a>, <a class=\"JtKRv\" data-n-tid=\"29\" href=\"./articles/CBMib2h0dHBzOi8vd3d3Lm5vdGVib29rY2hlY2submV0L1NsZWVrLWFuZC1zbGltLURlbGwtWFBTLTEzLTkzMTUtd2l0aC1tYXhlZC1vdXQtc3BlY3MtZ29lcy11bmRlci04MDAuODQzMzQ0LjAuaHRtbNIBAA?hl=en-US&amp;gl=US&amp;ceid=US%3Aen\" jsaction=\"click:kkIcoc;\" tabindex=\"0\" target=\"_blank\">Sleek and slim Dell XPS 13 9315 with maxed-out specs goes under $800</a>]\n"
     ]
    },
    {
     "data": {
      "text/plain": [
       "['Premarket movers: GameStop surges; Dell inches lower By Investing.com',\n",
       " 'Dell Falls Most Since 2018 After AI Server Sales Disappoint',\n",
       " \"Shares of Dell fall 18% as AI servers are sold at 'near-zero margins'\",\n",
       " 'Dell shares slump as heavy AI investments expected to dent margin',\n",
       " 'How Much Can Dell Profit From The AI Wave?',\n",
       " 'Dell’s best cheap laptop just got $220 cheaper — only $280',\n",
       " \"Why Dell's servers are the most 'optimized' for AI\",\n",
       " 'Top Stock Movers Now: Dell, Gap, VF Corp., and More',\n",
       " \"Texans' Tank Dell Reflects on Being Injured in Shooting: 'Wrong Place, Wrong Time'\",\n",
       " \"Dell Rapids wins the class 'B' state championship\",\n",
       " 'Dell Technologies Delivers First Quarter Fiscal 2025 Financial Results',\n",
       " 'Nutanix reports solid revenue rise, signs Dell deal to aid VMware migration – Blocks and Files',\n",
       " \"Michael Dell's net worth sinks the most in a single day, falling by $11.7 billion after shares of his company suffer record ...\",\n",
       " 'Dell Stock Plunges Despite Q1 Beat: What To Know',\n",
       " 'Dell Stock Plummets As Earnings Lag AI Sales Growth',\n",
       " 'Winning Culture: Dell Rapids wins 3 of 4 State B Baseball Titles',\n",
       " \"Dell's stock plummets as rising AI server demand eats away at its gross margin, but AI boosts NetApp\",\n",
       " \"4 Key Takeaways From Dell Technologies' Earnings Call\",\n",
       " 'Why Dell Stock Plunged Today',\n",
       " 'Dell Stock Falls On Mixed Q1 Earnings Report',\n",
       " \"What You Need To Know Ahead of Dell's Earnings Report\",\n",
       " \"Dell Escapes Nvidia's Shadow as Its Own AI Tailwinds Accelerate\",\n",
       " 'Dell Stock Falls as Earnings, Revenue Beat on Surging AI Server Demand Fails To Impress',\n",
       " \"Dell's profit, margin hurt by higher AI costs, shares slump\",\n",
       " 'Dell Stock Notches Record High On AI Momentum',\n",
       " 'This Analyst With 87% Accuracy Rate Sees 26% Upside In Dell Technologies - Here Are 5 Stock Picks For May',\n",
       " 'Dell shares fall despite growing AI server business',\n",
       " \"Michael Dell's Wealth Plummets by $11.7 Billion as Dell Technologies Shares Tumble\",\n",
       " 'Stock Market Retreats As Salesforce, Dell Lead Earnings Losers: Weekly Review',\n",
       " 'Tech stock prices today: Salesforce, Dell, Adobe, Microsoft decline',\n",
       " 'Dell Rapids rolls through playoffs to fourth title',\n",
       " \"Dell Latitude 7450 Ultralight review: A mobile worker's best friend\",\n",
       " 'Cubs rally late to take down Dell Rapids PBR',\n",
       " \"Dell Should Keep Shining in Nvidia's Halo\",\n",
       " \"DELL: Dell Stock Enters Bear Market in Minutes After Crash Wipes Out 20%. Here's Why.\",\n",
       " \"Gabrielle Dell'Otto's AMAZING SPIDER-MAN Variant Covers Pit The Wall-Crawler Against The Sinister Six\",\n",
       " 'Dell Technologies Inc. (DELL) Q1 2025 Earnings Call Transcript',\n",
       " \"In one day, Michael Dell's wealth dropped by $11.7 billion\",\n",
       " '\"That sh*t popped off out of nowhere\" - Tank Dell breaks silence on shooting incident in Sanford bar',\n",
       " 'Dell Technologies Stock Scores Another Record High Before Earnings',\n",
       " 'The Best Dell & Alienware Deals and Coupons: Gaming Laptops, PCs, Monitors, and More',\n",
       " \"Massive Dell summer sale is live - I've picked the 5 best laptop deals worth buying\",\n",
       " 'DELL shares tumble as solid results, AI server orders fail to satisfy investors By Investing.com',\n",
       " \"Lenovo claims Dell has run off the VxRails and can't sell hyperconverged VMware\",\n",
       " 'Analysts reboot Dell stock price targets ahead of earnings',\n",
       " 'Franklin Resources Inc. Has $2.58 Million Stock Position in Dell Technologies Inc. (NYSE:DELL)',\n",
       " \"What's Going On With Dell Technologies Stock Thursday? - Dell Technologies (NYSE:DELL)\",\n",
       " 'Best Dell laptop deals: Cheap laptops starting at $280',\n",
       " 'U.S. Army Veteran Floyd Dell Woods Dies at 58',\n",
       " 'Analysts recommendations: Best Buy, Dell Technologies, Moderna, AMD, National Grid...',\n",
       " 'Should You Buy Dell Stock Before May 30?',\n",
       " '‘Went south out of nowhere,’ says Tank Dell as Houston Texans star opens up on mass shooting that left him...',\n",
       " 'Dell Latitude 7030 Rugged Extreme tablet review',\n",
       " 'Stocks making the biggest moves premarket: Dell Technologies, Ulta Beauty, Ambarella, Gap and more',\n",
       " 'Dell Inspiron 16 crashes to an incredible $540 with this coupon code',\n",
       " 'AI server sales drive topline growth for Dell – Blocks and Files',\n",
       " 'Should You Buy Dell Stock Before May 30?',\n",
       " 'Should You Buy Dell Technologies (DELL) Ahead of Q1 Earnings?',\n",
       " 'State B Baseball: Dell Rapids survives late surge from Howard for the title',\n",
       " 'Dell Technologies PC Sales Begin Rebound, Server Sales Hit Record',\n",
       " \"Dell Rapids wins pitchers' duel over Howard in Class B state high school baseball title game\",\n",
       " \"This Billionaire CEO's Wealth Dropped By $11.7 Billion In A Single Day\",\n",
       " \"Dell's Earnings: What It Means For The 2024 Market And AI Stocks\",\n",
       " 'Dell Technologies Expands Dell AI Factory with NVIDIA to Turbocharge AI Adoption',\n",
       " 'Stocks making the biggest moves after hours: Dell Technologies, MongoDB, Zscaler, Gap and more',\n",
       " 'Why Dell’s stock had its worst day since 2018 despite strong AI demand',\n",
       " 'This is your chance to grab the Dell XPS 13 at a $300 discount',\n",
       " \"Nutanix's New Dell, Nvidia Alliances Meant To Advance AI, Multicloud\",\n",
       " \"Dell Technologies Sales Boss Bill Scannell Says GenAI 'Opportunity Is Immense'\",\n",
       " \"AI integration at the forefront of Dell's on-premises strategy\",\n",
       " 'Dell cut the price of this Dell XPS 13 to $800 for a limited time',\n",
       " 'Stock Market Today: Dow Jones Rises On Inflation Data; Dell Plunges 19% On Earnings',\n",
       " 'Best Dell XPS deals: Save on Dell XPS 13, Dell XPS 15 and Dell XPS 17',\n",
       " 'Dell earnings show fervent AI demand, but margin talk sends stock sliding',\n",
       " 'Dell stock plummets 20% because its AI play is falling short',\n",
       " 'Dell’s XPS, Inspiron, and Latitude laptops are getting Qualcomm chips',\n",
       " \"DELL: Dell Technologies (DELL) Earnings Review: What's Next for Investors?\",\n",
       " 'Dell earnings reveal sluggish enterprise AI adoption',\n",
       " 'The best Dell laptop 2024',\n",
       " 'STATE B BASEBALL: Parkston/Ethan/Tripp, Dell Rapids, Howard & Mount Vernon/Plankinton/Corsica-Stickney advance through quarterfinals',\n",
       " 'Dell’s best-selling gaming laptop is $200 off today',\n",
       " 'Dell: Nonlinear demand, chip supply curb our AI server growth',\n",
       " 'Dell Memorial Day Sale 2024: The Best Deals on Dell and Alienware Gaming Laptops and PCs',\n",
       " 'How Dell is Doubling Down on AI After 40 Years of Innovation',\n",
       " 'Team no-hitter powers Dell Rapids to championship game over Parkston/Ethan/Tripp',\n",
       " 'Dell’s new G16 gaming laptop already has a price cut',\n",
       " \"Dow Jones Futures Await Fed's Key Inflation Report; Dell Plunges\",\n",
       " 'Analytics Solutions',\n",
       " 'Dell stock falls as Q1 gross margins decline 2.5%',\n",
       " 'Dell Technologies (DELL) Reports Q1 Earnings: What Key Metrics Have to Say',\n",
       " 'Tjaden, Dell Rapids combine for no-hitter, advance to title game',\n",
       " 'TD Cowen Increases Dell Technologies (NYSE:DELL) Price Target to $155.00',\n",
       " 'Sleek and slim Dell XPS 13 9315 with maxed-out specs goes under $800']"
      ]
     },
     "execution_count": 182,
     "metadata": {},
     "output_type": "execute_result"
    }
   ],
   "source": [
    "# Scrape google news\n",
    "\n",
    "import requests\n",
    "from bs4 import BeautifulSoup\n",
    "\n",
    "# Define the URL of the Google News page\n",
    "#url = \"https://news.google.com/search?q=bitcoin&hl=en-US&gl=US&ceid=US%3Aen\"\n",
    "url = \"https://news.google.com/search?q=dell&hl=en-US&gl=US&ceid=US%3Aen\"\n",
    "\n",
    "# Fetch the HTML content of the page\n",
    "response = requests.get(url)\n",
    "html_content = response.content\n",
    "\n",
    "# Parse the HTML content with BeautifulSoup\n",
    "soup = BeautifulSoup(html_content, 'html.parser')\n",
    "\n",
    "headlines = soup.find_all('a', class_='JtKRv')\n",
    "\n",
    "# Print all the headlines\n",
    "all_headlines = []\n",
    "for headline in headlines:\n",
    "    all_headlines.append(headline.text)\n",
    "\n",
    "all_headlines\n",
    "# Optionally, extract URLs of the news articles\n",
    "#for headline in headlines:\n",
    "#    print(f\"https://news.google.com{headline['href'][1:]}\")"
   ]
  },
  {
   "cell_type": "code",
   "execution_count": 170,
   "metadata": {},
   "outputs": [],
   "source": [
    "from langchain_core.prompts.prompt import PromptTemplate\n",
    "\n",
    "template = \"\"\"\n",
    "You are the best financial analyst in the world. You were educated at Harvard and have been working in the industry for 20 years.\n",
    "These are the headlines of Google News articles about Dell:\n",
    "Headlines: {string}\n",
    "Task: Provide me with an analysis if I should buy the stock for an long term investment.\"\"\"\n",
    "\n",
    "prompt_custom = PromptTemplate.from_template(template)\n",
    "\n",
    "from langchain_core.runnables import RunnablePassthrough\n",
    "\n",
    "rag_chain = (\n",
    "    {\"string\": RunnablePassthrough()}\n",
    "    | prompt_custom\n",
    "    | llm\n",
    "    | StrOutputParser()\n",
    ")\n",
    "result_1 = rag_chain.invoke({\"string\": all_headlines})\n",
    "\n",
    "## If results should be streamed\n",
    "# for chunk in rag_chain.stream(all_headlines):\n",
    "#     print(chunk, end=\"\", flush=True)"
   ]
  },
  {
   "cell_type": "code",
   "execution_count": 171,
   "metadata": {},
   "outputs": [
    {
     "data": {
      "text/plain": [
       "\"Based on the headlines provided, it appears that Dell's stock has been experiencing significant fluctuations due to various factors such as AI server sales, earnings reports, and market sentiments. While some headlines highlight positive aspects such as strong AI demand and record-high stock prices, others mention challenges like falling margins and disappointing earnings.\\n\\nAs a long-term investor, it is important to consider the overall performance and future prospects of the company rather than short-term fluctuations. Dell's focus on AI technology and its expanding product portfolio could indicate potential growth opportunities in the future. However, the impact of factors like margin pressures and market volatility should also be taken into account.\\n\\nBefore making a decision to buy Dell's stock for long-term investment, it would be advisable to conduct a more in-depth analysis of the company's financial health, competitive position, growth strategies, and industry trends. Additionally, consulting with a financial advisor or conducting further research on Dell's stock performance and outlook could provide valuable insights to make an informed investment decision.\""
      ]
     },
     "execution_count": 171,
     "metadata": {},
     "output_type": "execute_result"
    }
   ],
   "source": [
    "result_1"
   ]
  },
  {
   "cell_type": "markdown",
   "metadata": {},
   "source": [
    "# Bitcoin"
   ]
  },
  {
   "cell_type": "code",
   "execution_count": 172,
   "metadata": {},
   "outputs": [
    {
     "name": "stderr",
     "output_type": "stream",
     "text": [
      "[*********************100%%**********************]  1 of 1 completed"
     ]
    },
    {
     "name": "stdout",
     "output_type": "stream",
     "text": [
      "                  Open        High         Low       Close   Adj Close  \\\n",
      "Date                                                                     \n",
      "2024-03-05  120.750000  121.519997  113.889999  117.750000  117.293846   \n",
      "2024-03-06  119.449997  120.559998  116.959999  118.500000  118.040939   \n",
      "2024-03-07  120.000000  122.019997  119.309998  120.500000  120.033188   \n",
      "2024-03-08  120.290001  120.769997  114.949997  116.250000  115.799652   \n",
      "2024-03-11  115.480003  116.830002  113.629997  115.860001  115.411163   \n",
      "\n",
      "              Volume  \n",
      "Date                  \n",
      "2024-03-05  15019200  \n",
      "2024-03-06  10569100  \n",
      "2024-03-07   9644300  \n",
      "2024-03-08  11006600  \n",
      "2024-03-11   5936800  \n"
     ]
    },
    {
     "name": "stderr",
     "output_type": "stream",
     "text": [
      "\n"
     ]
    }
   ],
   "source": [
    "import yfinance as yf\n",
    "import pandas as pd\n",
    "from datetime import datetime, timedelta\n",
    "\n",
    "def download_bitcoin_data():\n",
    "    # Define the ticker symbol for Bitcoin\n",
    "    ticker_symbol = 'DELL'\n",
    "\n",
    "    # Calculate the start and end dates\n",
    "    end_date = datetime.now()\n",
    "    start_date = end_date - timedelta(days=90)\n",
    "\n",
    "    # Download the data\n",
    "    bitcoin_data = yf.download(ticker_symbol, start=start_date, end=end_date, interval='1d')\n",
    "\n",
    "    return bitcoin_data\n",
    "\n",
    "bitcoin_data = download_bitcoin_data()\n",
    "\n",
    "# Display the first few rows of the dataframe\n",
    "print(bitcoin_data.head())"
   ]
  },
  {
   "cell_type": "code",
   "execution_count": 177,
   "metadata": {},
   "outputs": [],
   "source": [
    "template = \"\"\"\n",
    "You are the best chart analyst in the world. You were educated at Harvard and have been working in the industry for 20 years.\n",
    "These is the market data for Dell at an daily interval for the past three days:\n",
    "Data: {string}\n",
    "Task: Provide me with an chart analysis if I should buy the DELL stock today. Calculate moving averages and other indicators if necessary. YOU NEED TO PROVIDE ME WITH AN DECISION THAT IS BUY OR NOT\"\"\"\n",
    "\n",
    "prompt_custom = PromptTemplate.from_template(template)\n",
    "\n",
    "rag_chain = (\n",
    "    {\"string\": RunnablePassthrough()}\n",
    "    | prompt_custom\n",
    "    | llm\n",
    "    | StrOutputParser()\n",
    ")\n",
    "result_2 = rag_chain.invoke({\"string\": bitcoin_data})\n",
    "\n",
    "# for chunk in rag_chain.stream(all_headlines):\n",
    "#     print(chunk, end=\"\", flush=True)"
   ]
  },
  {
   "cell_type": "code",
   "execution_count": 178,
   "metadata": {},
   "outputs": [
    {
     "data": {
      "text/plain": [
       "\"Based on the market data provided for Dell over the past three months, here is a chart analysis to determine whether you should buy the DELL stock today:\\n\\n1. Moving Averages:\\n- Calculate the 50-day and 200-day moving averages to identify trends in the stock price.\\n- Look for crossovers where the 50-day moving average crosses above the 200-day moving average, indicating a potential buy signal.\\n\\n2. Relative Strength Index (RSI):\\n- Calculate the RSI to determine if the stock is overbought or oversold.\\n- An RSI above 70 indicates the stock may be overbought and a potential sell signal, while an RSI below 30 indicates the stock may be oversold and a potential buy signal.\\n\\n3. Support and Resistance Levels:\\n- Identify key support and resistance levels based on the historical price data.\\n- Look for potential buying opportunities near support levels and selling opportunities near resistance levels.\\n\\nBased on the analysis of moving averages, RSI, and support/resistance levels, it is recommended to **BUY** the DELL stock today. The stock has shown positive momentum and is trading above key support levels, indicating a potential buying opportunity. However, it is important to continue monitoring the stock's performance and adjust your investment strategy accordingly.\""
      ]
     },
     "execution_count": 178,
     "metadata": {},
     "output_type": "execute_result"
    }
   ],
   "source": [
    "result_2"
   ]
  },
  {
   "cell_type": "markdown",
   "metadata": {},
   "source": [
    "# Manager"
   ]
  },
  {
   "cell_type": "code",
   "execution_count": 179,
   "metadata": {},
   "outputs": [],
   "source": [
    "template = \"\"\"\n",
    "You are the best financial analyst in the world. You were educated at Harvard and have been working in the industry for 60 years.\n",
    "You have been a math prodigy as a kid. You did research with Daniel Kahneman and won the Nobel Prize in Economics.\n",
    "Two of your analysts have come up with predictions for the Bitcoin price in the next three days.\n",
    "Analyst 1: {string_1}\n",
    "Analyst 2: {string_2}\n",
    "Task: You have to decide if we are going to buy DELL stock.\"\"\"\n",
    "\n",
    "prompt_custom = PromptTemplate.from_template(template)\n",
    "\n",
    "rag_chain = (\n",
    "    {\"string_1\": RunnablePassthrough(), \"string_2\": RunnablePassthrough()}\n",
    "    | prompt_custom\n",
    "    | llm\n",
    "    | StrOutputParser()\n",
    ")\n",
    "result = rag_chain.invoke({\"string_1\": result_1, \"string_2\": result_2})\n",
    "\n",
    "# for chunk in rag_chain.stream(all_headlines):\n",
    "#     print(chunk, end=\"\", flush=True)"
   ]
  },
  {
   "cell_type": "code",
   "execution_count": 180,
   "metadata": {},
   "outputs": [
    {
     "data": {
      "text/plain": [
       "\"Based on the analysis provided by both analysts, it is recommended to buy DELL stock today. Both analysts have highlighted positive aspects such as strong AI demand, record-high stock prices, positive momentum, and trading above key support levels, indicating a potential buying opportunity. However, it is important to continue monitoring the stock's performance and adjust your investment strategy accordingly.\""
      ]
     },
     "execution_count": 180,
     "metadata": {},
     "output_type": "execute_result"
    }
   ],
   "source": [
    "result"
   ]
  },
  {
   "cell_type": "code",
   "execution_count": 158,
   "metadata": {},
   "outputs": [
    {
     "name": "stdout",
     "output_type": "stream",
     "text": [
      "[Document(page_content=\"\\n\\n\\n\\n\\nLangSmith User Guide | 🦜️🛠️ LangSmith\\n\\n\\n\\n\\n\\n\\n\\nSkip to main contentLangSmith API DocsSearchGo to AppQuick StartUser GuideTracingEvaluationProduction Monitoring & AutomationsPrompt HubProxyPricingSelf-HostingCookbookThis is outdated documentation for 🦜️🛠️ LangSmith, which is no longer actively maintained.For up-to-date documentation, see the latest version.User GuideOn this pageLangSmith User GuideLangSmith is a platform for LLM application development, monitoring, and testing. In this guide, we’ll highlight the breadth of workflows LangSmith supports and how they fit into each stage of the application development lifecycle. We hope this will inform users how to best utilize this powerful platform or give them something to consider if they’re just starting their journey.Prototyping\\u200bPrototyping LLM applications often involves quick experimentation between prompts, model types, retrieval strategy and other parameters.\\nThe ability to rapidly understand how the model is performing — and debug where it is failing — is incredibly important for this phase.Debugging\\u200bWhen developing new LLM applications, we suggest having LangSmith tracing enabled by default.\\nOftentimes, it isn’t necessary to look at every single trace. However, when things go wrong (an unexpected end result, infinite agent loop, slower than expected execution, higher than expected token usage), it’s extremely helpful to debug by looking through the application traces. LangSmith gives clear visibility and debugging information at each step of an LLM sequence, making it much easier to identify and root-cause issues.\\nWe provide native rendering of chat messages, functions, and retrieve documents.Initial Test Set\\u200bWhile many developers still ship an initial version of their application based on “vibe checks”, we’ve seen an increasing number of engineering teams start to adopt a more test driven approach. LangSmith allows developers to create datasets, which are collections of inputs and reference outputs, and use these to run tests on their LLM applications.\\nThese test cases can be uploaded in bulk, created on the fly, or exported from application traces. LangSmith also makes it easy to run custom evaluations (both LLM and heuristic based) to score test results.Comparison View\\u200bWhen prototyping different versions of your applications and making changes, it’s important to see whether or not you’ve regressed with respect to your initial test cases.\\nOftentimes, changes in the prompt, retrieval strategy, or model choice can have huge implications in responses produced by your application.\\nIn order to get a sense for which variant is performing better, it’s useful to be able to view results for different configurations on the same datapoints side-by-side. We’ve invested heavily in a user-friendly comparison view for test runs to track and diagnose regressions in test scores across multiple revisions of your application.Playground\\u200bLangSmith provides a playground environment for rapid iteration and experimentation.\\nThis allows you to quickly test out different prompts and models. You can open the playground from any prompt or model run in your trace.\\nEvery playground run is logged in the system and can be used to create test cases or compare with other runs.Beta Testing\\u200bBeta testing allows developers to collect more data on how their LLM applications are performing in real-world scenarios. In this phase, it’s important to develop an understanding for the types of inputs the app is performing well or poorly on and how exactly it’s breaking down in those cases. Both feedback collection and run annotation are critical for this workflow. This will help in curation of test cases that can help track regressions/improvements and development of automatic evaluations.Capturing Feedback\\u200bWhen launching your application to an initial set of users, it’s important to gather human feedback on the responses it’s producing. This helps draw attention to the most interesting runs and highlight edge cases that are causing problematic responses. LangSmith allows you to attach feedback scores to logged traces (oftentimes, this is hooked up to a feedback button in your app), then filter on traces that have a specific feedback tag and score. A common workflow is to filter on traces that receive a poor user feedback score, then drill down into problematic points using the detailed trace view.Annotating Traces\\u200bLangSmith also supports sending runs to annotation queues, which allow annotators to closely inspect interesting traces and annotate them with respect to different criteria. Annotators can be PMs, engineers, or even subject matter experts. This allows users to catch regressions across important evaluation criteria.Adding Runs to a Dataset\\u200bAs your application progresses through the beta testing phase, it's essential to continue collecting data to refine and improve its performance. LangSmith enables you to add runs as examples to datasets (from both the project page and within an annotation queue), expanding your test coverage on real-world scenarios. This is a key benefit in having your logging system and your evaluation/testing system in the same platform.Production\\u200bClosely inspecting key data points, growing benchmarking datasets, annotating traces, and drilling down into important data in trace view are workflows you’ll also want to do once your app hits production.However, especially at the production stage, it’s crucial to get a high-level overview of application performance with respect to latency, cost, and feedback scores. This ensures that it's delivering desirable results at scale.Online evaluations and automations allow you to process and score production traces in near real-time.Additionally, threads provide a seamless way to group traces from a single conversation, making it easier to track the performance of your application across multiple turns.Monitoring and A/B Testing\\u200bLangSmith provides monitoring charts that allow you to track key metrics over time. You can expand to view metrics for a given period and drill down into a specific data point to get a trace table for that time period — this is especially handy for debugging production issues.LangSmith also allows for tag and metadata grouping, which allows users to mark different versions of their applications with different identifiers and view how they are performing side-by-side within each chart. This is helpful for A/B testing changes in prompt, model, or retrieval strategy.Automations\\u200bAutomations are a powerful feature in LangSmith that allow you to perform actions on traces in near real-time. This can be used to automatically score traces, send them to annotation queues, or send them to datasets.To define an automation, simply provide a filter condition, a sampling rate, and an action to perform. Automations are particularly helpful for processing traces at production scale.Threads\\u200bMany LLM applications are multi-turn, meaning that they involve a series of interactions between the user and the application. LangSmith provides a threads view that groups traces from a single conversation together, making it easier to track the performance of and annotate your application across multiple turns.Was this page helpful?You can leave detailed feedback on GitHub.PreviousQuick StartNextOverviewPrototypingBeta TestingProductionCommunityDiscordTwitterGitHubDocs CodeLangSmith SDKPythonJS/TSMoreHomepageBlogLangChain Python DocsLangChain JS/TS DocsCopyright © 2024 LangChain, Inc.\\n\\n\\n\\n\", metadata={'source': 'https://docs.smith.langchain.com/user_guide', 'title': 'LangSmith User Guide | 🦜️🛠️ LangSmith', 'description': 'LangSmith is a platform for LLM application development, monitoring, and testing. In this guide, we’ll highlight the breadth of workflows LangSmith supports and how they fit into each stage of the application development lifecycle. We hope this will inform users how to best utilize this powerful platform or give them something to consider if they’re just starting their journey.', 'language': 'en'}), Document(page_content='\\n\\n\\n\\n\\nGet started with LangSmith | 🦜️🛠️ LangSmith\\n\\n\\n\\n\\n\\n\\n\\nSkip to main contentLangSmith API DocsSearchGo to AppQuick startTutorialsHow-to guidesConceptsReferencePricingSelf-hostingQuick startOn this pageGet started with LangSmithLangSmith is a platform for building production-grade LLM applications. It allows you to closely monitor and evaluate your application, so you can ship quickly and with confidence. Use of LangChain is not necessary - LangSmith works on its own!1. Install LangSmith\\u200bPythonTypeScriptpip install -U langsmithyarn add langchain langsmith2. Create an API key\\u200bTo create an API key head to the Settings page. Then click Create API Key.3. Set up your environment\\u200bShellexport LANGCHAIN_TRACING_V2=trueexport LANGCHAIN_API_KEY=<your-api-key># The below examples use the OpenAI API, though it\\'s not necessary in generalexport OPENAI_API_KEY=<your-openai-api-key>4. Log your first trace\\u200bWe provide multiple ways to log traces to LangSmith. Below, we\\'ll highlight\\nhow to use traceable. See more on the Annotate code for tracing page.PythonTypeScriptimport openaifrom langsmith.wrappers import wrap_openaifrom langsmith import traceable# Auto-trace LLM calls in-contextclient = wrap_openai(openai.Client())@traceable # Auto-trace this functiondef pipeline(user_input: str):    result = client.chat.completions.create(        messages=[{\"role\": \"user\", \"content\": user_input}],        model=\"gpt-3.5-turbo\"    )    return result.choices[0].message.contentpipeline(\"Hello, world!\")# Out:  Hello there! How can I assist you today?import { OpenAI } from \"openai\";import { traceable } from \"langsmith/traceable\";import { wrapOpenAI } from \"langsmith/wrappers\";// Auto-trace LLM calls in-contextconst client = wrapOpenAI(new OpenAI());// Auto-trace this functionconst pipeline = traceable(async (user_input) => {    const result = await client.chat.completions.create({        messages: [{ role: \"user\", content: user_input }],        model: \"gpt-3.5-turbo\",    });    return result.choices[0].message.content;});await pipeline(\"Hello, world!\")// Out: Hello there! How can I assist you today?View a sample output trace.Learn more about tracing in the how-to guides.5. Run your first evaluation\\u200bEvaluation requires a system to test, data to serve as test cases, and optionally evaluators to grade the results. Here we use a built-in accuracy evaluator.PythonTypeScriptfrom langsmith import Clientfrom langsmith.evaluation import evaluateclient = Client()# Define dataset: these are your test casesdataset_name = \"Sample Dataset\"dataset = client.create_dataset(dataset_name, description=\"A sample dataset in LangSmith.\")client.create_examples(    inputs=[        {\"postfix\": \"to LangSmith\"},        {\"postfix\": \"to Evaluations in LangSmith\"},    ],    outputs=[        {\"output\": \"Welcome to LangSmith\"},        {\"output\": \"Welcome to Evaluations in LangSmith\"},    ],    dataset_id=dataset.id,)# Define your evaluatordef exact_match(run, example):    return {\"score\": run.outputs[\"output\"] == example.outputs[\"output\"]}experiment_results = evaluate(    lambda input: \"Welcome \" + input[\\'postfix\\'], # Your AI system goes here    data=dataset_name, # The data to predict and grade over    evaluators=[exact_match], # The evaluators to score the results    experiment_prefix=\"sample-experiment\", # The name of the experiment    metadata={      \"version\": \"1.0.0\",      \"revision_id\": \"beta\"    },)import { Client, Run, Example } from \"langsmith\";import { evaluate } from \"langsmith/evaluation\";import { EvaluationResult } from \"langsmith/evaluation\";const client = new Client();// Define dataset: these are your test casesconst datasetName = \"Sample Dataset\";const dataset = await client.createDataset(datasetName, {  description: \"A sample dataset in LangSmith.\",});await client.createExamples({  inputs: [    { postfix: \"to LangSmith\" },    { postfix: \"to Evaluations in LangSmith\" },  ],  outputs: [    { output: \"Welcome to LangSmith\" },    { output: \"Welcome to Evaluations in LangSmith\" },  ],  datasetId: dataset.id,});// Define your evaluatorconst exactMatch = async (  run: Run,  example: Example): Promise<EvaluationResult> => {  return {    key: \"exact_match\",    score: run.outputs?.output === example?.outputs?.output,  };};await evaluate(  (input: { postfix: string }) => ({ output: `Welcome ${input.postfix}` }),  {    data: datasetName,    evaluators: [exactMatch],    metadata: {      version: \"1.0.0\",      revision_id: \"beta\",    },  });Learn more about evaluation in the how-to guides.Was this page helpful?You can leave detailed feedback on GitHub.NextTutorials1. Install LangSmith2. Create an API key3. Set up your environment4. Log your first trace5. Run your first evaluationCommunityDiscordTwitterGitHubDocs CodeLangSmith SDKPythonJS/TSMoreHomepageBlogLangChain Python DocsLangChain JS/TS DocsCopyright © 2024 LangChain, Inc.\\n\\n\\n\\n', metadata={'source': 'https://docs.smith.langchain.com', 'title': 'Get started with LangSmith | 🦜️🛠️ LangSmith', 'description': 'LangSmith is a platform for building production-grade LLM applications. It allows you to closely monitor and evaluate your application, so you can ship quickly and with confidence. Use of LangChain is not necessary - LangSmith works on its own!', 'language': 'en'})]\n"
     ]
    }
   ],
   "source": [
    "from langchain_community.document_loaders import WebBaseLoader\n",
    "\n",
    "# Multiple URLs\n",
    "website_urls = [\n",
    "    \"https://docs.smith.langchain.com/user_guide\",\n",
    "    \"https://docs.smith.langchain.com\",\n",
    "]\n",
    "\n",
    "# Initialize an empty list to store all documents\n",
    "all_documents = []\n",
    "\n",
    "# Loop through website URLs and use WebBaseLoader for each\n",
    "for url in website_urls:\n",
    "  loader = WebBaseLoader(url)\n",
    "  website_documents = loader.load()\n",
    "  all_documents.extend(website_documents)\n",
    "\n",
    "# Process the all_documents list further (e.g., vectorization)\n",
    "\n",
    "print(all_documents)"
   ]
  },
  {
   "cell_type": "code",
   "execution_count": 159,
   "metadata": {},
   "outputs": [],
   "source": [
    "# 3.2 Load openAI embedding model to get the embeddings of the documents\n",
    "from langchain_openai import OpenAIEmbeddings\n",
    "embeddings = OpenAIEmbeddings()"
   ]
  },
  {
   "cell_type": "code",
   "execution_count": 160,
   "metadata": {},
   "outputs": [],
   "source": [
    "# 3.3 Add vector store\n",
    "from langchain_community.vectorstores import FAISS\n",
    "from langchain_text_splitters import RecursiveCharacterTextSplitter\n",
    "\n",
    "text_splitter = RecursiveCharacterTextSplitter()\n",
    "documents = text_splitter.split_documents(all_documents)\n",
    "vector_store = FAISS.from_documents(documents, embeddings)"
   ]
  },
  {
   "cell_type": "code",
   "execution_count": 161,
   "metadata": {},
   "outputs": [
    {
     "name": "stdout",
     "output_type": "stream",
     "text": [
      "<faiss.swigfaiss.IndexFlatL2; proxy of <Swig Object of type 'faiss::IndexFlatL2 *' at 0x7fc278914b70> >\n",
      "Vector 0: [-0.0080638   0.01916084  0.01222096 ... -0.00213274  0.02612103\n",
      " -0.01153036]\n",
      "Vector 1: [-0.02374188  0.01507666  0.00888921 ...  0.01401275  0.00637293\n",
      " -0.01765243]\n",
      "Vector 2: [-0.01742077  0.01093862  0.01232167 ...  0.00759277 -0.00432376\n",
      " -0.01816119]\n",
      "Vector 3: [-0.021696    0.01003824  0.01190209 ... -0.00271375 -0.0079929\n",
      " -0.03096637]\n",
      "Vector 4: [ 0.00756025  0.01780557  0.01517474 ...  0.00688559  0.0135542\n",
      " -0.00869937]\n",
      "Vector 5: [ 0.00599423  0.00548193  0.00797372 ...  0.01548741  0.00085122\n",
      " -0.02121678]\n",
      "Vector 6: [-0.00539542  0.00660179  0.00760884 ... -0.00329915 -0.01941373\n",
      " -0.05169536]\n"
     ]
    }
   ],
   "source": [
    "# Retrieve vectors from the vector store\n",
    "\n",
    "# This is the underlying FAISS index\n",
    "faiss_index = vector_store.index\n",
    "print(faiss_index)\n",
    "\n",
    "# 0 is the starting index and faiss_index.ntotal is the ending index\n",
    "vectors = faiss_index.reconstruct_n(0, faiss_index.ntotal)\n",
    "for i, vector in enumerate(vectors):\n",
    "    print(f\"Vector {i}: {vector}\")"
   ]
  },
  {
   "cell_type": "code",
   "execution_count": 162,
   "metadata": {},
   "outputs": [
    {
     "name": "stdout",
     "output_type": "stream",
     "text": [
      "input_variables=['context', 'question'] template='Use the following pieces of context to answer the question at the end.\\nIf you don\\'t know the answer, just say that you don\\'t know. Use three sentences maximum and keep the answer as concise as possible.\\nAlways say \"thanks for asking!\" at the end of the answer.\\n{context}\\nQuestion: {question}\\nHelpful Answer:'\n"
     ]
    }
   ],
   "source": [
    "from langchain import hub\n",
    "\n",
    "#We can use PromptTemplate to add more instructions to our input for the LLM, (instructions, context from retriever and the question user wants to ask)\n",
    "from langchain_core.prompts.prompt import PromptTemplate\n",
    "\n",
    "template = \"\"\"Use the following pieces of context to answer the question at the end.\n",
    "If you don't know the answer, just say that you don't know. Use three sentences maximum and keep the answer as concise as possible.\n",
    "Always say \"thanks for asking!\" at the end of the answer.\n",
    "{context}\n",
    "Question: {question}\n",
    "Helpful Answer:\"\"\"\n",
    "prompt_custom = PromptTemplate.from_template(template)\n",
    "\n",
    "print(prompt_custom)"
   ]
  },
  {
   "cell_type": "code",
   "execution_count": 164,
   "metadata": {},
   "outputs": [
    {
     "name": "stdout",
     "output_type": "stream",
     "text": [
      "Task decomposition is the process of breaking down a complex task into smaller, more manageable sub-tasks. This helps in understanding the task better, assigning work to different team members, and monitoring progress effectively. Thanks for asking!"
     ]
    }
   ],
   "source": [
    "retriever = vector_store.as_retriever()\n",
    "\n",
    "from langchain_core.output_parsers import StrOutputParser\n",
    "from langchain_core.runnables import RunnablePassthrough\n",
    "\n",
    "\n",
    "def format_docs(docs):\n",
    "    return \"\\n\\n\".join(doc.page_content for doc in docs)\n",
    "\n",
    "\n",
    "rag_chain = (\n",
    "    {\"context\": retriever | format_docs, \"question\": RunnablePassthrough()}\n",
    "    | prompt_custom\n",
    "    | llm\n",
    "    | StrOutputParser()\n",
    ")\n",
    "\n",
    "#print(rag_chain)\n",
    "\n",
    "for chunk in rag_chain.stream(\"What is Task Decomposition?\"):\n",
    "    print(chunk, end=\"\", flush=True)\n",
    "\n"
   ]
  },
  {
   "cell_type": "code",
   "execution_count": null,
   "metadata": {},
   "outputs": [],
   "source": []
  }
 ],
 "metadata": {
  "kernelspec": {
   "display_name": "openai",
   "language": "python",
   "name": "python3"
  },
  "language_info": {
   "codemirror_mode": {
    "name": "ipython",
    "version": 3
   },
   "file_extension": ".py",
   "mimetype": "text/x-python",
   "name": "python",
   "nbconvert_exporter": "python",
   "pygments_lexer": "ipython3",
   "version": "3.9.18"
  }
 },
 "nbformat": 4,
 "nbformat_minor": 2
}
