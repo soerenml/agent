{
 "cells": [
  {
   "cell_type": "markdown",
   "metadata": {},
   "source": [
    "# Langchain tutorial"
   ]
  },
  {
   "cell_type": "code",
   "execution_count": 74,
   "metadata": {},
   "outputs": [],
   "source": [
    "import os\n",
    "from dotenv import load_dotenv\n",
    "\n",
    "# Load the environment variables\n",
    "load_dotenv()\n",
    "\n",
    "from langchain_openai import ChatOpenAI\n",
    "llm = ChatOpenAI(api_key=os.getenv(\"OPENAI_API_KEY\"))"
   ]
  },
  {
   "cell_type": "markdown",
   "metadata": {},
   "source": [
    "## 1 - Most basic model query"
   ]
  },
  {
   "cell_type": "code",
   "execution_count": 75,
   "metadata": {},
   "outputs": [
    {
     "data": {
      "text/plain": [
       "AIMessage(content='Langsmith can help with testing by providing automated testing tools and frameworks that can be used to quickly and efficiently test code for bugs and errors. It can also assist in creating test cases, running tests, and analyzing the results to identify areas of improvement. Additionally, Langsmith can help with performance testing, security testing, and regression testing to ensure that the software is functioning as expected and meeting the requirements. Overall, Langsmith can streamline the testing process and help developers deliver high-quality, reliable software.')"
      ]
     },
     "execution_count": 75,
     "metadata": {},
     "output_type": "execute_result"
    }
   ],
   "source": [
    "# 1 - Invoke the model\n",
    "llm.invoke(\"how can langsmith help with testing?\")"
   ]
  },
  {
   "cell_type": "markdown",
   "metadata": {},
   "source": [
    "## 2 - Chains"
   ]
  },
  {
   "cell_type": "code",
   "execution_count": 76,
   "metadata": {},
   "outputs": [],
   "source": [
    "# 2.1 - Use a prompt template\n",
    "from langchain_core.prompts import ChatPromptTemplate\n",
    "prompt = ChatPromptTemplate.from_messages([\n",
    "    (\"system\", \"You are a world class technical documentation writer.\"),\n",
    "    (\"user\", \"{input}\")\n",
    "])"
   ]
  },
  {
   "cell_type": "code",
   "execution_count": 77,
   "metadata": {},
   "outputs": [],
   "source": [
    "# 2.2 - (Optional) Output parser\n",
    "from langchain_core.output_parsers import StrOutputParser\n",
    "output_parser = StrOutputParser()"
   ]
  },
  {
   "cell_type": "code",
   "execution_count": 78,
   "metadata": {},
   "outputs": [
    {
     "data": {
      "text/plain": [
       "\"Langsmith is a versatile tool that can greatly assist with testing in a number of ways. Here are some key ways in which Langsmith can be useful in the testing process:\\n\\n1. **Automated Testing**: Langsmith can be used to automate various testing tasks, such as running test suites, performing regression testing, and executing test scripts. By automating these repetitive tasks, Langsmith can help improve efficiency and accuracy in the testing process.\\n\\n2. **Test Data Generation**: Langsmith can generate synthetic test data that can be used to simulate different scenarios and edge cases during testing. This can help ensure thorough test coverage and enhance the reliability of the testing process.\\n\\n3. **Test Case Management**: Langsmith can assist in organizing and managing test cases effectively. It allows testers to create, track, and maintain test cases in a structured manner, making it easier to execute and monitor tests.\\n\\n4. **Integration Testing**: Langsmith can be integrated with other testing tools and frameworks, enabling seamless integration testing across different components or systems. This can help identify any issues related to communication or data exchange between different parts of the system.\\n\\n5. **Performance Testing**: Langsmith can be used to conduct performance testing by simulating a large number of concurrent users or generating heavy workloads on the system. This can help evaluate the system's performance under different load conditions and identify any bottlenecks or performance issues.\\n\\n6. **Continuous Testing**: Langsmith supports continuous testing practices by enabling automated testing at various stages of the development pipeline. This ensures early detection of defects and facilitates faster feedback loops, leading to higher quality software releases.\\n\\nOverall, Langsmith can play a crucial role in enhancing the efficiency, coverage, and reliability of the testing process, ultimately helping to deliver high-quality software products.\""
      ]
     },
     "execution_count": 78,
     "metadata": {},
     "output_type": "execute_result"
    }
   ],
   "source": [
    "chain = prompt | llm | output_parser\n",
    "chain.invoke({\"input\": \"how can langsmith help with testing?\"})"
   ]
  },
  {
   "cell_type": "markdown",
   "metadata": {},
   "source": [
    "## 3 - Retrieval chains"
   ]
  },
  {
   "cell_type": "code",
   "execution_count": 80,
   "metadata": {},
   "outputs": [],
   "source": [
    "# 3.1 Retrieve information from website using beautifulsoup (single URL)\n",
    "from langchain_community.document_loaders import WebBaseLoader\n",
    "loader = WebBaseLoader(\"https://docs.smith.langchain.com/user_guide\")\n",
    "docs = loader.load()"
   ]
  },
  {
   "cell_type": "code",
   "execution_count": 95,
   "metadata": {},
   "outputs": [
    {
     "data": {
      "text/plain": [
       "[<a class=\"JtKRv\" data-n-tid=\"29\" href=\"./articles/CBMiWmh0dHBzOi8vYml0Y29pbm1hZ2F6aW5lLmNvbS9idXNpbmVzcy9nb2xkbWFuLXNhY2hzLWJpdGNvaW4tZXRmcy1hcmUtYW4tYXN0b25pc2hpbmctc3VjY2Vzc9IBAA?hl=en-US&amp;gl=US&amp;ceid=US%3Aen\" jsaction=\"click:kkIcoc;\" tabindex=\"0\" target=\"_blank\">Goldman Sachs: Bitcoin ETFs Are an 'Astonishing Success'</a>,\n",
       " <a class=\"JtKRv\" data-n-tid=\"29\" href=\"./articles/CBMiS2h0dHBzOi8vY29pbnRlbGVncmFwaC5jb20vbmV3cy9iaXRjb2luLWV0ZnMtdHJhZGl0aW9uYWwtZmluYW5jZS1pbnZlc3RtZW50c9IBAA?hl=en-US&amp;gl=US&amp;ceid=US%3Aen\" jsaction=\"click:kkIcoc;\" tabindex=\"0\" target=\"_blank\">Bitcoin ETFs boost TradFi Investments: Binance France president</a>,\n",
       " <a class=\"JtKRv\" data-n-tid=\"29\" href=\"./articles/CBMilgFodHRwczovL3d3dy5mb3JiZXMuY29tL3NpdGVzL2RpZ2l0YWwtYXNzZXRzLzIwMjQvMDUvMzAvZ29sZG1hbi1zYWNocy1pc3N1ZXMtYXN0b25pc2hpbmctYml0Y29pbi1hbmQtZXRoZXJldW0tZXRmLXByZWRpY3Rpb24tYWZ0ZXItcHJpY2UtdHVybmluZy1wb2ludC_SAQA?hl=en-US&amp;gl=US&amp;ceid=US%3Aen\" jsaction=\"click:kkIcoc;\" tabindex=\"0\" target=\"_blank\">Goldman Sachs Issues 'Astonishing' Bitcoin And Ethereum ETF Prediction After Price 'Turning Point'</a>,\n",
       " <a class=\"JtKRv\" data-n-tid=\"29\" href=\"./articles/CBMic2h0dHBzOi8vd3d3LmJsb29tYmVyZy5jb20vbmV3cy9hcnRpY2xlcy8yMDI0LTA1LTMwL211c2stY291bnNlbHMtdHJ1bXAtb24tY3J5cHRvLWluLXNpZ24tb2YtYmlsbGlvbmFpcmUtcy1pbmZsdWVuY2XSAQA?hl=en-US&amp;gl=US&amp;ceid=US%3Aen\" jsaction=\"click:kkIcoc;\" tabindex=\"0\" target=\"_blank\">Elon Musk, Donald Trump Discuss Bitcoin (BTC), Crypto Policy Ahead of Election</a>,\n",
       " <a class=\"JtKRv\" data-n-tid=\"29\" href=\"./articles/CBMiOWh0dHBzOi8vYml0Y29pbm1hZ2F6aW5lLmNvbS90ZWNobmljYWwvbWV2LW1vbnN0ZXItYml0Y29pbtIBAA?hl=en-US&amp;gl=US&amp;ceid=US%3Aen\" jsaction=\"click:kkIcoc;\" tabindex=\"0\" target=\"_blank\">Is The MEV Monster Under Bitcoin's Bed?</a>,\n",
       " <a class=\"JtKRv\" data-n-tid=\"29\" href=\"./articles/CBMiamh0dHBzOi8vd3d3LmNvaW5kZXNrLmNvbS9tYXJrZXRzLzIwMjQvMDUvMjkvYml0Y29pbi1ldGhlci1wcmljZXMtZWFzZS1hcy1zaGliLWRyaXZlcy1nYWlucy1pbi1tZW1lLXRva2Vucy_SAW5odHRwczovL3d3dy5jb2luZGVzay5jb20vbWFya2V0cy8yMDI0LzA1LzI5L2JpdGNvaW4tZXRoZXItcHJpY2VzLWVhc2UtYXMtc2hpYi1kcml2ZXMtZ2FpbnMtaW4tbWVtZS10b2tlbnMvYW1wLw?hl=en-US&amp;gl=US&amp;ceid=US%3Aen\" jsaction=\"click:kkIcoc;\" tabindex=\"0\" target=\"_blank\">Bitcoin, Ether Prices Ease as SHIB Drives Gains in Meme Tokens</a>,\n",
       " <a class=\"JtKRv\" data-n-tid=\"29\" href=\"./articles/CBMiaGh0dHBzOi8vd3d3LnRoZWJsb2NrLmNvL3Bvc3QvMjk3NjM5L3BhcmFkaWdtLWxlYWRzLTcwLW1pbGxpb24tcmFpc2UtZm9yLWJpdGNvaW4tc3Rha2luZy1wcm90b2NvbC1iYWJ5bG9u0gFsaHR0cHM6Ly93d3cudGhlYmxvY2suY28vYW1wL3Bvc3QvMjk3NjM5L3BhcmFkaWdtLWxlYWRzLTcwLW1pbGxpb24tcmFpc2UtZm9yLWJpdGNvaW4tc3Rha2luZy1wcm90b2NvbC1iYWJ5bG9u?hl=en-US&amp;gl=US&amp;ceid=US%3Aen\" jsaction=\"click:kkIcoc;\" tabindex=\"0\" target=\"_blank\">Paradigm leads $70 million raise for Bitcoin staking protocol Babylon</a>,\n",
       " <a class=\"JtKRv\" data-n-tid=\"29\" href=\"./articles/CBMicGh0dHBzOi8vY29pbnRlbGVncmFwaC5jb20vbmV3cy90cmFkZXJzLXNheS1iaXRjb2luLXByaWNlLWZpZ2h0cy1sYXN0LXJlc2lzdGFuY2UtYXQtNjlrLWJlZm9yZS1uZXctYWxsLXRpbWUtaGlnaHPSAQA?hl=en-US&amp;gl=US&amp;ceid=US%3Aen\" jsaction=\"click:kkIcoc;\" tabindex=\"0\" target=\"_blank\">Traders say Bitcoin price fights “last resistance” at $69K before new all-time highs</a>,\n",
       " <a class=\"JtKRv\" data-n-tid=\"29\" href=\"./articles/CBMimAFodHRwczovL3d3dy5mb3JiZXMuY29tL3NpdGVzL2RpZ2l0YWwtYXNzZXRzLzIwMjQvMDUvMjgvamFuZXQteWVsbGVuLWlzc3Vlcy1zZXJpb3VzLTM0LXRyaWxsaW9uLXdhcm5pbmctYXMtYml0Y29pbi1wcmVkaWN0ZWQtdG8tc3VyZ2UtdG8tMS1taWxsaW9uLXByaWNlL9IBAA?hl=en-US&amp;gl=US&amp;ceid=US%3Aen\" jsaction=\"click:kkIcoc;\" tabindex=\"0\" target=\"_blank\">Janet Yellen Issues Serious $34 Trillion Warning As Bitcoin Predicted To Surge To $1 Million Price</a>,\n",
       " <a class=\"JtKRv\" data-n-tid=\"29\" href=\"./articles/CBMiXWh0dHBzOi8vd3d3LmZvb2wuY29tL2ludmVzdGluZy8yMDI0LzA1LzI3L3ByZWRpY3Rpb24tdGhlLWJpdGNvaW4taGFsdmluZy1jb3VsZC1iZS1hLW1pbGxpb25hL9IBAA?hl=en-US&amp;gl=US&amp;ceid=US%3Aen\" jsaction=\"click:kkIcoc;\" tabindex=\"0\" target=\"_blank\">Prediction: The Bitcoin Halving Could Be a Millionaire Maker</a>,\n",
       " <a class=\"JtKRv\" data-n-tid=\"29\" href=\"./articles/CBMiRWh0dHBzOi8vYmxvY2t3b3Jrcy5jby9uZXdzL210LWdveC1kaXN0cmlidXRpb25zLWJpdGNvaW4tbWFya2V0LWltcGFjdNIBAA?hl=en-US&amp;gl=US&amp;ceid=US%3Aen\" jsaction=\"click:kkIcoc;\" tabindex=\"0\" target=\"_blank\">Mt Gox distributions may not be all doom and gloom for bitcoin</a>,\n",
       " <a class=\"JtKRv\" data-n-tid=\"29\" href=\"./articles/CBMic2h0dHBzOi8vd3d3LmJsb29tYmVyZy5jb20vbmV3cy9hcnRpY2xlcy8yMDI0LTA1LTI4L2JpdGNvaW4tYnRjLWZhbGxzLWFzLXRyYWRlcnMtbXVsbC1yaXNrLW9mLXNhbGVzLWxpbmtlZC10by1tdC1nb3jSAQA?hl=en-US&amp;gl=US&amp;ceid=US%3Aen\" jsaction=\"click:kkIcoc;\" tabindex=\"0\" target=\"_blank\">Bitcoin Retreats as Traders Mull Risk of Sales Linked to Mt. Gox</a>,\n",
       " <a class=\"JtKRv\" data-n-tid=\"29\" href=\"./articles/CBMigAFodHRwczovL3d3dy50aGVibG9jay5jby9wb3N0LzI5NzAyNi9iaXRjb2luLXByaWNlLWZhbGxzLWJlbG93LTY4MDAwLWZvbGxvd2luZy10cmFuc2Zlci13b3J0aC05LTYtYmlsbGlvbi1mcm9tLW10LWdveC1jb2xkLXdhbGxldNIBhAFodHRwczovL3d3dy50aGVibG9jay5jby9hbXAvcG9zdC8yOTcwMjYvYml0Y29pbi1wcmljZS1mYWxscy1iZWxvdy02ODAwMC1mb2xsb3dpbmctdHJhbnNmZXItd29ydGgtOS02LWJpbGxpb24tZnJvbS1tdC1nb3gtY29sZC13YWxsZXQ?hl=en-US&amp;gl=US&amp;ceid=US%3Aen\" jsaction=\"click:kkIcoc;\" tabindex=\"0\" target=\"_blank\">Bitcoin price falls below $68,000 following transfer worth $9.6 billion from Mt. Gox cold wallet</a>,\n",
       " <a class=\"JtKRv\" data-n-tid=\"29\" href=\"./articles/CBMiUGh0dHBzOi8vd3d3LmluZGVwZW5kZW50LmNvLnVrL3RlY2gvYml0Y29pbi1sb3N0LXdhbGxldC1jcnlwdG8taGFjay1iMjU1MzExNy5odG1s0gEA?hl=en-US&amp;gl=US&amp;ceid=US%3Aen\" jsaction=\"click:kkIcoc;\" tabindex=\"0\" target=\"_blank\">Researchers 'hack time' to recover $3 million bitcoin wallet</a>,\n",
       " <a class=\"JtKRv\" data-n-tid=\"29\" href=\"./articles/CBMihQFodHRwczovL3d3dy50aGVibG9jay5jby9wb3N0LzI5NzE2Mi9yZXNlYXJjaGVycy1yZWNvdmVyLW5lYXJseS0zLW1pbGxpb24taW4tYml0Y29pbi1ieS1yZXRyaWV2aW5nLWxvc3QtcGFzc3dvcmQtdG8tMjAxMy1jcnlwdG8td2FsbGV00gGJAWh0dHBzOi8vd3d3LnRoZWJsb2NrLmNvL2FtcC9wb3N0LzI5NzE2Mi9yZXNlYXJjaGVycy1yZWNvdmVyLW5lYXJseS0zLW1pbGxpb24taW4tYml0Y29pbi1ieS1yZXRyaWV2aW5nLWxvc3QtcGFzc3dvcmQtdG8tMjAxMy1jcnlwdG8td2FsbGV0?hl=en-US&amp;gl=US&amp;ceid=US%3Aen\" jsaction=\"click:kkIcoc;\" tabindex=\"0\" target=\"_blank\">Researchers find lost password to crypto wallet holding 43.6 BTC: Wired</a>,\n",
       " <a class=\"JtKRv\" data-n-tid=\"29\" href=\"./articles/CBMiXGh0dHBzOi8vd3d3LnVuaWxhZC5jb20vbmV3cy9tb25leS9qb2UtZ3JhbmQtdW5sb2Nrcy0zLW1pbGxpb24tYml0Y29pbi13YWxsZXQtMzQxODk4LTIwMjQwNTMw0gEA?hl=en-US&amp;gl=US&amp;ceid=US%3Aen\" jsaction=\"click:kkIcoc;\" tabindex=\"0\" target=\"_blank\">Hackers finally unlock $3 million Bitcoin wallet after man forgot password for 11 years</a>,\n",
       " <a class=\"JtKRv\" data-n-tid=\"29\" href=\"./articles/CBMibWh0dHBzOi8vd3d3LnBybmV3c3dpcmUuY29tL25ld3MtcmVsZWFzZXMvc2VtbGVyLXNjaWVudGlmaWMtYW5ub3VuY2VzLWJpdGNvaW4tdHJlYXN1cnktc3RyYXRlZ3ktMzAyMTU2NzE1Lmh0bWzSAQA?hl=en-US&amp;gl=US&amp;ceid=US%3Aen\" jsaction=\"click:kkIcoc;\" tabindex=\"0\" target=\"_blank\">Semler Scientific® Announces Bitcoin Treasury Strategy</a>,\n",
       " <a class=\"JtKRv\" data-n-tid=\"29\" href=\"./articles/CBMia2h0dHBzOi8vYml0Y29pbm1hZ2F6aW5lLmNvbS9idXNpbmVzcy9pcy1zZW1sZXItc2NpZW50aWZpYy1hZG9wdGluZy1taWNyb3N0cmF0ZWd5cy1iaXRjb2luLXRyZWFzdXJ5LXBsYXlib29r0gEA?hl=en-US&amp;gl=US&amp;ceid=US%3Aen\" jsaction=\"click:kkIcoc;\" tabindex=\"0\" target=\"_blank\">Is Semler Scientific Adopting MicroStrategy's Bitcoin Treasury Playbook?</a>,\n",
       " <a class=\"JtKRv\" data-n-tid=\"29\" href=\"./articles/CBMihAFodHRwczovL3d3dy50aGVibG9jay5jby9wb3N0LzI5NzA1OS9oZWFsdGhjYXJlLXRlY2gtY29tcGFueS1zaGFyZXMtc3VyZ2UtMjctYWZ0ZXItYW5ub3VuY2luZy1wbGFucy10by1idXktYml0Y29pbi13aXRoLWNhc2gtcmVzZXJ2ZXPSAYgBaHR0cHM6Ly93d3cudGhlYmxvY2suY28vYW1wL3Bvc3QvMjk3MDU5L2hlYWx0aGNhcmUtdGVjaC1jb21wYW55LXNoYXJlcy1zdXJnZS0yNy1hZnRlci1hbm5vdW5jaW5nLXBsYW5zLXRvLWJ1eS1iaXRjb2luLXdpdGgtY2FzaC1yZXNlcnZlcw?hl=en-US&amp;gl=US&amp;ceid=US%3Aen\" jsaction=\"click:kkIcoc;\" tabindex=\"0\" target=\"_blank\">Healthcare tech company shares surge 27% after announcing plans to buy bitcoin with cash reserves</a>,\n",
       " <a class=\"JtKRv\" data-n-tid=\"29\" href=\"./articles/CBMiXmh0dHBzOi8vY29pbnRlbGVncmFwaC5jb20vbmV3cy9iaXRjb2luLXByaWNlLWJvcmVkb20tem9uZS1jb25zb2xpZGF0aW9uLW9yLWJvb20tdHJhZGVycy1kZWJhdGXSAQA?hl=en-US&amp;gl=US&amp;ceid=US%3Aen\" jsaction=\"click:kkIcoc;\" tabindex=\"0\" target=\"_blank\">Bitcoin in 42-day 'boredom zone' — traders debate next move</a>,\n",
       " <a class=\"JtKRv\" data-n-tid=\"29\" href=\"./articles/CBMid2h0dHBzOi8vd3d3LnJldXRlcnMuY29tL3RlY2hub2xvZ3kvYmxhY2tyb2Nrcy1ldGYtYmVjb21lcy1sYXJnZXN0LWJpdGNvaW4tZnVuZC13b3JsZC1ibG9vbWJlcmctbmV3cy1yZXBvcnRzLTIwMjQtMDUtMjkv0gEA?hl=en-US&amp;gl=US&amp;ceid=US%3Aen\" jsaction=\"click:kkIcoc;\" tabindex=\"0\" target=\"_blank\">BlackRock's ETF becomes largest bitcoin fund in world, Bloomberg News reports</a>,\n",
       " <a class=\"JtKRv\" data-n-tid=\"29\" href=\"./articles/CBMiQ2h0dHBzOi8vcXouY29tL2JpdGNvaW4tMy1taWxsaW9uLWxvc3QtcGFzc3dvcmQtcmVjb3ZlcmVkLTE4NTE1MDg5NzfSAQA?hl=en-US&amp;gl=US&amp;ceid=US%3Aen\" jsaction=\"click:kkIcoc;\" tabindex=\"0\" target=\"_blank\">This guy got $3 million in Bitcoin back after he lost an 11-year-old password</a>,\n",
       " <a class=\"JtKRv\" data-n-tid=\"29\" href=\"./articles/CBMibWh0dHBzOi8vd3d3LmNuYmMuY29tLzIwMjQvMDUvMjgvbWVkLXRlY2gtc3RvY2stc2VtbGVyLXNjaWVudGlmaWMtc3VyZ2VzLW9uLW5ldy1iaXRjb2luLXRyZWFzdXJ5LXN0cmF0ZWd5Lmh0bWzSAXFodHRwczovL3d3dy5jbmJjLmNvbS9hbXAvMjAyNC8wNS8yOC9tZWQtdGVjaC1zdG9jay1zZW1sZXItc2NpZW50aWZpYy1zdXJnZXMtb24tbmV3LWJpdGNvaW4tdHJlYXN1cnktc3RyYXRlZ3kuaHRtbA?hl=en-US&amp;gl=US&amp;ceid=US%3Aen\" jsaction=\"click:kkIcoc;\" tabindex=\"0\" target=\"_blank\">Med tech stock Semler Scientific takes bitcoin play from MicroStrategy's book, surges 37%</a>,\n",
       " <a class=\"JtKRv\" data-n-tid=\"29\" href=\"./articles/CBMiamh0dHBzOi8vbGliZXJ0eXN0cmVldGVjb25vbWljcy5uZXd5b3JrZmVkLm9yZy8yMDI0LzA1L2RvLWV4Y2hhbmdlLXRyYWRlZC1wcm9kdWN0cy1pbXByb3ZlLWJpdGNvaW4tdHJhZGluZy_SAQA?hl=en-US&amp;gl=US&amp;ceid=US%3Aen\" jsaction=\"click:kkIcoc;\" tabindex=\"0\" target=\"_blank\">Do Exchange-Traded Products Improve Bitcoin Trading? - Liberty Street Economics</a>,\n",
       " <a class=\"JtKRv\" data-n-tid=\"29\" href=\"./articles/CBMiYWh0dHBzOi8vbmV3cy5iaXRjb2luLmNvbS90cnVtcC1pbnRlcmVzdGVkLWluLXVzaW5nLWJpdGNvaW4tdG8tc29sdmUtdGhlLXVzLW5hdGlvbmFsLWRlYnQtcHJvYmxlbS_SAQA?hl=en-US&amp;gl=US&amp;ceid=US%3Aen\" jsaction=\"click:kkIcoc;\" tabindex=\"0\" target=\"_blank\">Trump Interested in Using Bitcoin to Solve the US National Debt Problem – Economics Bitcoin News</a>,\n",
       " <a class=\"JtKRv\" data-n-tid=\"29\" href=\"./articles/CBMiVmh0dHBzOi8vd3d3LmZvb2wuY29tL2ludmVzdGluZy8yMDI0LzA1LzI4L3ByZWRpY3Rpb24tYml0Y29pbi13aWxsLXJlYWNoLTgwMDAwLWluLTIwMjQv0gEA?hl=en-US&amp;gl=US&amp;ceid=US%3Aen\" jsaction=\"click:kkIcoc;\" tabindex=\"0\" target=\"_blank\">Prediction: Bitcoin Will Reach $80,000 in 2024</a>,\n",
       " <a class=\"JtKRv\" data-n-tid=\"29\" href=\"./articles/CBMiaGh0dHBzOi8vYml0Y29pbm1hZ2F6aW5lLmNvbS9idXNpbmVzcy93b3JsZHMtbGFyZ2VzdC1iaXRjb2luLWNvbmZlcmVuY2UtbGF1bmNoZXMtY2xlLXByb2dyYW0taW4tbmFzaHZpbGxl0gEA?hl=en-US&amp;gl=US&amp;ceid=US%3Aen\" jsaction=\"click:kkIcoc;\" tabindex=\"0\" target=\"_blank\">World's Largest Bitcoin Conference Launches CLE Program in Nashville</a>,\n",
       " <a class=\"JtKRv\" data-n-tid=\"29\" href=\"./articles/CBMiZ2h0dHBzOi8vY29pbnRlbGVncmFwaC5jb20vbmV3cy9iaXRjb2luLXByaWNlLWFsbC10aW1lLWhpZ2gtY3BpLXVuaXRlZC1zdGF0ZXMtMTB4cmVzZWFyY2gtY3J5cHRvLWFuYWx5c3TSAQA?hl=en-US&amp;gl=US&amp;ceid=US%3Aen\" jsaction=\"click:kkIcoc;\" tabindex=\"0\" target=\"_blank\">Bitcoin needs '3.3% or lower' CPI print to reach new ATH</a>,\n",
       " <a class=\"JtKRv\" data-n-tid=\"29\" href=\"./articles/CBMiSGh0dHBzOi8vd3d3LmZvcmJlcy5jb20vYWR2aXNvci9pbnZlc3RpbmcvY3J5cHRvY3VycmVuY3kvd2hhdC1pcy1iaXRjb2luL9IBAA?hl=en-US&amp;gl=US&amp;ceid=US%3Aen\" jsaction=\"click:kkIcoc;\" tabindex=\"0\" target=\"_blank\">What Is Bitcoin And How Does It Work?</a>,\n",
       " <a class=\"JtKRv\" data-n-tid=\"29\" href=\"./articles/CBMid2h0dHBzOi8vd3d3LmJsb29tYmVyZy5jb20vbmV3cy9hcnRpY2xlcy8yMDI0LTA1LTI5L2JsYWNrcm9jay1zLWliaXQtbm93LXdvcmxkLXMtbGFyZ2VzdC1iaXRjb2luLWJ0Yy1ldGYtYXMtZ2J0Yy1zaHJpbmtz0gEA?hl=en-US&amp;gl=US&amp;ceid=US%3Aen\" jsaction=\"click:kkIcoc;\" tabindex=\"0\" target=\"_blank\">BlackRock's $20 Billion IBIT Fund Is World's Biggest Bitcoin (BTC) ETF</a>,\n",
       " <a class=\"JtKRv\" data-n-tid=\"29\" href=\"./articles/CBMiTWh0dHBzOi8vd3d3LnN0YXRpc3RhLmNvbS9zdGF0aXN0aWNzLzY0NzUyMy93b3JsZHdpZGUtYml0Y29pbi1ibG9ja2NoYWluLXNpemUv0gEA?hl=en-US&amp;gl=US&amp;ceid=US%3Aen\" jsaction=\"click:kkIcoc;\" tabindex=\"0\" target=\"_blank\">Bitcoin blockchain size 2009-2024</a>,\n",
       " <a class=\"JtKRv\" data-n-tid=\"29\" href=\"./articles/CBMicmh0dHBzOi8vd3d3LmNvaW5kZXNrLmNvbS9tYXJrZXRzLzIwMjQvMDUvMjgvZmlyc3QtbW92ZXItYW1lcmljYXMtYml0Y29pbi1mYWxscy1iZWxvdy02OGstYWZ0ZXItOWItbXQtZ294LXRyYW5zZmVyL9IBdmh0dHBzOi8vd3d3LmNvaW5kZXNrLmNvbS9tYXJrZXRzLzIwMjQvMDUvMjgvZmlyc3QtbW92ZXItYW1lcmljYXMtYml0Y29pbi1mYWxscy1iZWxvdy02OGstYWZ0ZXItOWItbXQtZ294LXRyYW5zZmVyL2FtcC8?hl=en-US&amp;gl=US&amp;ceid=US%3Aen\" jsaction=\"click:kkIcoc;\" tabindex=\"0\" target=\"_blank\">First Mover Americas: Bitcoin Falls Below $68K After $9B Mt. Gox Transfer</a>,\n",
       " <a class=\"JtKRv\" data-n-tid=\"29\" href=\"./articles/CBMiRGh0dHBzOi8vY29pbnRlbGVncmFwaC5jb20vbmV3cy9iaXRjb2luLXByaWNlLTY5ay1ob3QtdXMtbWFjcm8tZG9sbGFy0gEA?hl=en-US&amp;gl=US&amp;ceid=US%3Aen\" jsaction=\"click:kkIcoc;\" tabindex=\"0\" target=\"_blank\">Bitcoin price aims for $69K as 'hot' US macro data pressures dollar</a>,\n",
       " <a class=\"JtKRv\" data-n-tid=\"29\" href=\"./articles/CBMiUGh0dHBzOi8vd3d3LmZvcmJlcy5jb20vYWR2aXNvci9pbnZlc3RpbmcvY3J5cHRvY3VycmVuY3kvdG9wLTEwLWNyeXB0b2N1cnJlbmNpZXMv0gEA?hl=en-US&amp;gl=US&amp;ceid=US%3Aen\" jsaction=\"click:kkIcoc;\" tabindex=\"0\" target=\"_blank\">10 Best Cryptocurrencies of May 2024 – Forbes Advisor</a>,\n",
       " <a class=\"JtKRv\" data-n-tid=\"29\" href=\"./articles/CBMihgFodHRwczovL3d3dy5wcm5ld3N3aXJlLmNvbS9uZXdzLXJlbGVhc2VzL2x1eG9yLWJpdGNvaW4taGFzaHJhdGUtZnV0dXJlcy1ub3ctbGl2ZS1vbi1iaXRub21pYWwtYWZ0ZXItcmVndWxhdG9yeS1hcHByb3ZhbC0zMDIxNTU1NjIuaHRtbNIBAA?hl=en-US&amp;gl=US&amp;ceid=US%3Aen\" jsaction=\"click:kkIcoc;\" tabindex=\"0\" target=\"_blank\">Luxor Bitcoin Hashrate Futures Now Live On Bitnomial After Regulatory Approval</a>,\n",
       " <a class=\"JtKRv\" data-n-tid=\"29\" href=\"./articles/CBMiTWh0dHBzOi8vY29pbnRlbGVncmFwaC5jb20vbmV3cy9qYWNrLWRvcnNleS1iYWNrZWQtb2NlYW4tbWluaW5nLWhxLWVsLXNhbHZhZG9y0gEA?hl=en-US&amp;gl=US&amp;ceid=US%3Aen\" jsaction=\"click:kkIcoc;\" tabindex=\"0\" target=\"_blank\">Jack Dorsey-backed Bitcoin mining pool opens headquarters in El Salvador</a>,\n",
       " <a class=\"JtKRv\" data-n-tid=\"29\" href=\"./articles/CBMieWh0dHBzOi8vd3d3LmNvaW5kZXNrLmNvbS9tYXJrZXRzLzIwMjQvMDUvMzAvZXRoZXItc3BvdC1ldGZzLXRvLXNlZS1tdWNoLWxvd2VyLWRlbWFuZC10aGFuLWJpdGNvaW4tdmVyc2lvbnMtanBtb3JnYW4tc2F5cy_SAX1odHRwczovL3d3dy5jb2luZGVzay5jb20vbWFya2V0cy8yMDI0LzA1LzMwL2V0aGVyLXNwb3QtZXRmcy10by1zZWUtbXVjaC1sb3dlci1kZW1hbmQtdGhhbi1iaXRjb2luLXZlcnNpb25zLWpwbW9yZ2FuLXNheXMvYW1wLw?hl=en-US&amp;gl=US&amp;ceid=US%3Aen\" jsaction=\"click:kkIcoc;\" tabindex=\"0\" target=\"_blank\">Ether Spot ETFs to See Much Lower Demand Than Bitcoin Versions, JPMorgan Says</a>,\n",
       " <a class=\"JtKRv\" data-n-tid=\"29\" href=\"./articles/CBMilgFodHRwczovL3d3dy53c2ouY29tL2xpdmVjb3ZlcmFnZS9zdG9jay1tYXJrZXQtdG9kYXktZG93LWpvbmVzLTA1LTI5LTIwMjQvY2FyZC9ibGFja3JvY2stbm93LXJ1bnMtdGhlLXdvcmxkLXMtbGFyZ2VzdC1iaXRjb2luLWZ1bmQtNVBNSEc2dHlZSmxSbkhXRWNkQULSAQA?hl=en-US&amp;gl=US&amp;ceid=US%3Aen\" jsaction=\"click:kkIcoc;\" tabindex=\"0\" target=\"_blank\">BlackRock Now Runs the World's Largest Bitcoin Fund</a>,\n",
       " <a class=\"JtKRv\" data-n-tid=\"29\" href=\"./articles/CBMidWh0dHBzOi8vYml0Y29pbm1hZ2F6aW5lLmNvbS9idXNpbmVzcy9tYXN0ZXJjYXJkLWNyeXB0by1jcmVkZW50aWFsLWxhdW5jaGVzLXdpdGgtZmlyc3QtcGVlci10by1wZWVyLXBpbG90LXRyYW5zYWN0aW9uc9IBAA?hl=en-US&amp;gl=US&amp;ceid=US%3Aen\" jsaction=\"click:kkIcoc;\" tabindex=\"0\" target=\"_blank\">Mastercard Crypto Credential Launches with \"First Peer-to-Peer Pilot Transactions\"</a>,\n",
       " <a class=\"JtKRv\" data-n-tid=\"29\" href=\"./articles/CBMid2h0dHBzOi8vd3d3LmZvcmJlcy5jb20vc2l0ZXMvZGlnaXRhbC1hc3NldHMvMjAyNC8wNS8yOS9iaXRjb2luLWluZmxhdGlvbi1ub3ctNzUtbGVzcy10aGFuLWN1cnJlbnQtdXMtcmF0ZS1wb3N0LWhhbHZpbmcv0gEA?hl=en-US&amp;gl=US&amp;ceid=US%3Aen\" jsaction=\"click:kkIcoc;\" tabindex=\"0\" target=\"_blank\">Bitcoin Inflation Now 75% Less Than Current US Rate Post-Halving</a>,\n",
       " <a class=\"JtKRv\" data-n-tid=\"29\" href=\"./articles/CBMiY2h0dHBzOi8vY29pbnBlZGlhLm9yZy9uZXdzL3FjcC1jYXBpdGFsLWhpZ2hsaWdodHMtc2hpZnQtdG8tZG9nZS1hbmQtcGVwZS1lbmRvcnNlcy1ldGgtYWNjdW11bGF0aW9uL9IBZ2h0dHBzOi8vY29pbnBlZGlhLm9yZy9uZXdzL3FjcC1jYXBpdGFsLWhpZ2hsaWdodHMtc2hpZnQtdG8tZG9nZS1hbmQtcGVwZS1lbmRvcnNlcy1ldGgtYWNjdW11bGF0aW9uL2FtcC8?hl=en-US&amp;gl=US&amp;ceid=US%3Aen\" jsaction=\"click:kkIcoc;\" tabindex=\"0\" target=\"_blank\">Mt. Gox Bitcoin Dump Looms: Opportunity for Altcoins, Bloodbath for BTC?</a>,\n",
       " <a class=\"JtKRv\" data-n-tid=\"29\" href=\"./articles/CBMiP2h0dHBzOi8vd3d3LmZ0LmNvbS9jb250ZW50L2ZmODg1Y2I3LWJlYmUtNDdhNi04NGI2LTA4NzVlYTY2MTQyNNIBAA?hl=en-US&amp;gl=US&amp;ceid=US%3Aen\" jsaction=\"click:kkIcoc;\" tabindex=\"0\" target=\"_blank\">European bitcoin ETPs suffer mounting outflows</a>,\n",
       " <a class=\"JtKRv\" data-n-tid=\"29\" href=\"./articles/CBMiVWh0dHBzOi8vd3d3LmNuYmMuY29tLzIwMjQvMDUvMjkvYml0Y29pbi1hbHRjb2lucy1tZW1lLWNvaW4tZGlmZmVyZW5jZXMtZXhwbGFpbmVkLmh0bWzSAVlodHRwczovL3d3dy5jbmJjLmNvbS9hbXAvMjAyNC8wNS8yOS9iaXRjb2luLWFsdGNvaW5zLW1lbWUtY29pbi1kaWZmZXJlbmNlcy1leHBsYWluZWQuaHRtbA?hl=en-US&amp;gl=US&amp;ceid=US%3Aen\" jsaction=\"click:kkIcoc;\" tabindex=\"0\" target=\"_blank\">This type of coin is 'among the riskiest of cryptocurrencies,' investing expert says—here's what to know</a>,\n",
       " <a class=\"JtKRv\" data-n-tid=\"29\" href=\"./articles/CBMikQFodHRwczovL3d3dy5meHN0cmVldC5jb20vY3J5cHRvY3VycmVuY2llcy9uZXdzL3RvcC0zLXByaWNlLXByZWRpY3Rpb24tYml0Y29pbi1ldGhlcmV1bS1yaXBwbGUtZmFjaW5nLWNvcnJlY3Rpb24tYWZ0ZXItZXRmcy1sZWQtcmFsbHktMjAyNDA1MzAwNzU10gGVAWh0dHBzOi8vd3d3LmZ4c3RyZWV0LmNvbS9hbXAvY3J5cHRvY3VycmVuY2llcy9uZXdzL3RvcC0zLXByaWNlLXByZWRpY3Rpb24tYml0Y29pbi1ldGhlcmV1bS1yaXBwbGUtZmFjaW5nLWNvcnJlY3Rpb24tYWZ0ZXItZXRmcy1sZWQtcmFsbHktMjAyNDA1MzAwNzU1?hl=en-US&amp;gl=US&amp;ceid=US%3Aen\" jsaction=\"click:kkIcoc;\" tabindex=\"0\" target=\"_blank\">Top 3 Price Prediction Bitcoin, Ethereum, Ripple: Facing correction after ETFs led rally</a>,\n",
       " <a class=\"JtKRv\" data-n-tid=\"29\" href=\"./articles/CBMic2h0dHBzOi8vd3d3LmZvcmJlcy5jb20vc2l0ZXMvZGlnaXRhbC1hc3NldHMvMjAyNC8wNS8yOS9uZXctYml0Y29pbi1taW5pbmctZmlybS1zZXRzLXVwLWhlYWRxdWFydGVycy1pbi1lbC1zYWx2YWRvci_SAQA?hl=en-US&amp;gl=US&amp;ceid=US%3Aen\" jsaction=\"click:kkIcoc;\" tabindex=\"0\" target=\"_blank\">El Salvador Attracts A New Bitcoin Mining Company To The Country</a>,\n",
       " <a class=\"JtKRv\" data-n-tid=\"29\" href=\"./articles/CBMiXWh0dHBzOi8vd3d3LmZvb2wuY29tL2ludmVzdGluZy8yMDI0LzA1LzI5L3ByZWRpY3Rpb24tYml0Y29pbi1oYWx2aW5nLXdpbGwtc2VuZC10aGVzZS1zb2FyaW5nL9IBAA?hl=en-US&amp;gl=US&amp;ceid=US%3Aen\" jsaction=\"click:kkIcoc;\" tabindex=\"0\" target=\"_blank\">Prediction: The Bitcoin Halving Will Send These Cryptocurrencies Soaring</a>,\n",
       " <a class=\"JtKRv\" data-n-tid=\"29\" href=\"./articles/CBMiUWh0dHBzOi8vY3J5cHRvcG90YXRvLmNvbS9pbmZsYXRpb24tdGFuZ28tYml0Y29pbnMtYnVsbGlzaC1kYW5jZS13aXRoLXVzLWNwaS1kYXRhL9IBVWh0dHBzOi8vY3J5cHRvcG90YXRvLmNvbS9pbmZsYXRpb24tdGFuZ28tYml0Y29pbnMtYnVsbGlzaC1kYW5jZS13aXRoLXVzLWNwaS1kYXRhLz9hbXA?hl=en-US&amp;gl=US&amp;ceid=US%3Aen\" jsaction=\"click:kkIcoc;\" tabindex=\"0\" target=\"_blank\">Inflation Tango: Bitcoin’s Bullish Dance with US CPI Data</a>,\n",
       " <a class=\"JtKRv\" data-n-tid=\"29\" href=\"./articles/CBMiZmh0dHBzOi8vYml0Y29pbm1hZ2F6aW5lLmNvbS9idXNpbmVzcy9ibGFja3JvY2tzLTIwLWJpbGxpb24taWJpdC1iZWNvbWVzLXRoZS13b3JsZHMtbGFyZ2VzdC1iaXRjb2luLWV0ZtIBAA?hl=en-US&amp;gl=US&amp;ceid=US%3Aen\" jsaction=\"click:kkIcoc;\" tabindex=\"0\" target=\"_blank\">BlackRock's $20 Billion IBIT Becomes The World's Largest Bitcoin ETF</a>,\n",
       " <a class=\"JtKRv\" data-n-tid=\"29\" href=\"./articles/CBMijAFodHRwczovL2RhaWx5aG9kbC5jb20vMjAyNC8wNS8zMC80MS1vZi12b3RlcnMtbG9va2luZy1hdC1iaXRjb2luLWFuZC1jcnlwdG8tZHVlLXRvLXdlYWtlbmluZy1kb2xsYXItYW5kLXBvbGl0aWNhbC10ZW5zaW9ucy1ncmF5c2NhbGUtc3VydmV5L9IBkAFodHRwczovL2RhaWx5aG9kbC5jb20vMjAyNC8wNS8zMC80MS1vZi12b3RlcnMtbG9va2luZy1hdC1iaXRjb2luLWFuZC1jcnlwdG8tZHVlLXRvLXdlYWtlbmluZy1kb2xsYXItYW5kLXBvbGl0aWNhbC10ZW5zaW9ucy1ncmF5c2NhbGUtc3VydmV5L2FtcC8?hl=en-US&amp;gl=US&amp;ceid=US%3Aen\" jsaction=\"click:kkIcoc;\" tabindex=\"0\" target=\"_blank\">41% of Voters Looking at Bitcoin and Crypto Due to Weakening Dollar and Political Tensions: Grayscale Survey</a>,\n",
       " <a class=\"JtKRv\" data-n-tid=\"29\" href=\"./articles/CBMiXGh0dHBzOi8vYml0Y29pbm1hZ2F6aW5lLmNvbS9idXNpbmVzcy9iaXRjb2luLWV0cHMtYmVnaW4tdHJhZGluZy1vbi10aGUtbG9uZG9uLXN0b2NrLWV4Y2hhbmdl0gEA?hl=en-US&amp;gl=US&amp;ceid=US%3Aen\" jsaction=\"click:kkIcoc;\" tabindex=\"0\" target=\"_blank\">Bitcoin ETPs Begin Trading on the London Stock Exchange</a>,\n",
       " <a class=\"JtKRv\" data-n-tid=\"29\" href=\"./articles/CBMiUGh0dHBzOi8vY29pbnRlbGVncmFwaC5jb20vbmV3cy9iaXRjb2luLXRyYWRlcnMtdXMtbWFjcm8tZGF0YS1idGMtcHJpY2Utc3R1Y2stNjdr0gEA?hl=en-US&amp;gl=US&amp;ceid=US%3Aen\" jsaction=\"click:kkIcoc;\" tabindex=\"0\" target=\"_blank\">Bitcoin traders brace for US macro data with BTC price stuck at $67K</a>,\n",
       " <a class=\"JtKRv\" data-n-tid=\"29\" href=\"./articles/CBMifmh0dHBzOi8vd3d3LmZvcmJlcy5jb20vc2l0ZXMvZGlnaXRhbC1hc3NldHMvMjAyNC8wNS8yOS9iaXRjb2luLW1pbmVyLW1hcmF0aG9uLXBhcnRuZXItd2l0aC1rZW55YS1vbi1yZW5ld2FibGUtZW5lcmd5LXByb2plY3RzL9IBAA?hl=en-US&amp;gl=US&amp;ceid=US%3Aen\" jsaction=\"click:kkIcoc;\" tabindex=\"0\" target=\"_blank\">Bitcoin Miner Marathon Partner With Kenya On Renewable Energy Projects</a>,\n",
       " <a class=\"JtKRv\" data-n-tid=\"29\" href=\"./articles/CBMiamh0dHBzOi8vbmV3cy5iaXRjb2luLmNvbS9iaXRjb2luLWJhc2VkLWRvZy10b2tlbi1jbGltYnMtdG8tOXRoLWxhcmdlc3QtbWVtZS1jb2luLXNlZXMtMjE2LXJpc2UtaW4tMzAtZGF5cy_SAQA?hl=en-US&amp;gl=US&amp;ceid=US%3Aen\" jsaction=\"click:kkIcoc;\" tabindex=\"0\" target=\"_blank\">Bitcoin-Based DOG Token Climbs to 9th Largest Meme Coin, Sees 216% Rise in 30 Days – Markets and Prices Bitcoin ...</a>,\n",
       " <a class=\"JtKRv\" data-n-tid=\"29\" href=\"./articles/CBMiSWh0dHBzOi8vZmluYW5jZS55YWhvby5jb20vbmV3cy9tdC1nb3gtdHJhbnNmZXJzLTliLWJpdGNvaW4tMDYwMTM1ODUwLmh0bWzSAQA?hl=en-US&amp;gl=US&amp;ceid=US%3Aen\" jsaction=\"click:kkIcoc;\" tabindex=\"0\" target=\"_blank\">Mt.Gox Transfers $9B Bitcoin to Single Address as Part of Repayment Plans</a>,\n",
       " <a class=\"JtKRv\" data-n-tid=\"29\" href=\"./articles/CBMiX2h0dHBzOi8vZGVjcnlwdC5jby8yMzMwMjkvYml0Y29pbi1zdGFydHVwLWJhYnlsb24tcmFpc2VzLTcwLW1pbGxpb24tYnRjLXN0YWtpbmctZXRoZXJldW0tc29sYW5h0gFlaHR0cHM6Ly9kZWNyeXB0LmNvLzIzMzAyOS9iaXRjb2luLXN0YXJ0dXAtYmFieWxvbi1yYWlzZXMtNzAtbWlsbGlvbi1idGMtc3Rha2luZy1ldGhlcmV1bS1zb2xhbmE_YW1wPTE?hl=en-US&amp;gl=US&amp;ceid=US%3Aen\" jsaction=\"click:kkIcoc;\" tabindex=\"0\" target=\"_blank\">Bitcoin Startup Babylon Raises $70 Million to Bring BTC Staking to Ethereum and Solana</a>,\n",
       " <a class=\"JtKRv\" data-n-tid=\"29\" href=\"./articles/CBMiM2h0dHBzOi8vd3d3LmJhbmtyYXRlLmNvbS9pbnZlc3Rpbmcvd2hhdC1pcy1iaXRjb2luL9IBAA?hl=en-US&amp;gl=US&amp;ceid=US%3Aen\" jsaction=\"click:kkIcoc;\" tabindex=\"0\" target=\"_blank\">What Is Bitcoin?</a>,\n",
       " <a class=\"JtKRv\" data-n-tid=\"29\" href=\"./articles/CBMic2h0dHBzOi8vYXNpYS5uaWtrZWkuY29tL1Nwb3RsaWdodC9DcnlwdG9jdXJyZW5jaWVzL0phcGFuLXMtcGF0aC10by1iaXRjb2luLWxpbmtlZC1FVEYtdHJhZGluZy1wb2NrZWQtd2l0aC1vYnN0YWNsZXPSAQA?hl=en-US&amp;gl=US&amp;ceid=US%3Aen\" jsaction=\"click:kkIcoc;\" tabindex=\"0\" target=\"_blank\">Japan's path to bitcoin-linked ETF trading pocked with obstacles</a>,\n",
       " <a class=\"JtKRv\" data-n-tid=\"29\" href=\"./articles/CBMiZ2h0dHBzOi8vd3d3Lm1hcmtldHdhdGNoLmNvbS9zdG9yeS9ibGFja3JvY2tzLWJpdGNvaW4tZXRmLW9uLXZlcmdlLW9mLWVjbGlwc2luZy1ncmF5c2NhbGVzLWZ1bmQtNGM5MGU0OTnSAWtodHRwczovL3d3dy5tYXJrZXR3YXRjaC5jb20vYW1wL3N0b3J5L2JsYWNrcm9ja3MtYml0Y29pbi1ldGYtb24tdmVyZ2Utb2YtZWNsaXBzaW5nLWdyYXlzY2FsZXMtZnVuZC00YzkwZTQ5OQ?hl=en-US&amp;gl=US&amp;ceid=US%3Aen\" jsaction=\"click:kkIcoc;\" tabindex=\"0\" target=\"_blank\">BlackRock’s bitcoin ETF on verge of eclipsing Grayscale’s fund</a>,\n",
       " <a class=\"JtKRv\" data-n-tid=\"29\" href=\"./articles/CBMifmh0dHBzOi8vd3d3LmludmVzdGluZy5jb20vbmV3cy9jcnlwdG9jdXJyZW5jeS1uZXdzL2JpdGNvaW4tcHJpY2UtdG9kYXktc3RlYWR5LWF0LTY4ay1hbWlkLXJhdGUtZmVhcnMtbXQtZ294LXJpc2stZWFzZXMtMzQ2MDE2NtIBAA?hl=en-US&amp;gl=US&amp;ceid=US%3Aen\" jsaction=\"click:kkIcoc;\" tabindex=\"0\" target=\"_blank\">Bitcoin price today: flat at $67.7k amid rate fears; MT Gox risk eases By Investing.com</a>,\n",
       " <a class=\"JtKRv\" data-n-tid=\"29\" href=\"./articles/CBMiiwFodHRwczovL2RhaWx5aG9kbC5jb20vMjAyNC8wNS8zMC9hbmFseXN0LXdoby1uYWlsZWQtMjAxOC1iaXRjb2luLWJvdHRvbS1zYXlzLWZsb2tpLXByaW1lZC10by1oaXQtZXNjYXBlLXZlbG9jaXR5LXNvb24taGVyZS1hcmUtaGlzLXRhcmdldHMv0gGPAWh0dHBzOi8vZGFpbHlob2RsLmNvbS8yMDI0LzA1LzMwL2FuYWx5c3Qtd2hvLW5haWxlZC0yMDE4LWJpdGNvaW4tYm90dG9tLXNheXMtZmxva2ktcHJpbWVkLXRvLWhpdC1lc2NhcGUtdmVsb2NpdHktc29vbi1oZXJlLWFyZS1oaXMtdGFyZ2V0cy9hbXAv?hl=en-US&amp;gl=US&amp;ceid=US%3Aen\" jsaction=\"click:kkIcoc;\" tabindex=\"0\" target=\"_blank\">Analyst Who Nailed 2018 Bitcoin Bottom Says FLOKI Primed To Hit ‘Escape Velocity’ Soon – Here Are His Targets</a>,\n",
       " <a class=\"JtKRv\" data-n-tid=\"29\" href=\"./articles/CBMiSWh0dHBzOi8vZGVjcnlwdC5jby8yMzMwMjcvYml0Y29pbi1tZW1lLWNvaW5zLXN1cmdlLWNhbG1zLWZlYXJzLXJ1bmVzLWRlYWTSAU9odHRwczovL2RlY3J5cHQuY28vMjMzMDI3L2JpdGNvaW4tbWVtZS1jb2lucy1zdXJnZS1jYWxtcy1mZWFycy1ydW5lcy1kZWFkP2FtcD0x?hl=en-US&amp;gl=US&amp;ceid=US%3Aen\" jsaction=\"click:kkIcoc;\" tabindex=\"0\" target=\"_blank\">Bitcoin Meme Coins Surge as DOG's 85% Jump Calms Fears That 'Runes Are Dead'</a>,\n",
       " <a class=\"JtKRv\" data-n-tid=\"29\" href=\"./articles/CBMiPGh0dHBzOi8vcXouY29tL2JpdGNvaW4tbXQtZ294LXRyYW5zZmVycy05LWJpbGxpb24tMTg1MTUwMzM4NtIBAA?hl=en-US&amp;gl=US&amp;ceid=US%3Aen\" jsaction=\"click:kkIcoc;\" tabindex=\"0\" target=\"_blank\">Bitcoin falls below $68,000 after Mt.Gox transfers $9 billion</a>,\n",
       " <a class=\"JtKRv\" data-n-tid=\"29\" href=\"./articles/CBMibWh0dHBzOi8vd3d3LnRoZWJsb2NrLmNvL3Bvc3QvMjk2OTIyL210LWdveC1tb3Zlcy1hdC1sZWFzdC0yLTktYmlsbGlvbi1pbi1iaXRjb2luLWZvci1maXJzdC10aW1lLWluLWZpdmUteWVhcnPSAXFodHRwczovL3d3dy50aGVibG9jay5jby9hbXAvcG9zdC8yOTY5MjIvbXQtZ294LW1vdmVzLWF0LWxlYXN0LTItOS1iaWxsaW9uLWluLWJpdGNvaW4tZm9yLWZpcnN0LXRpbWUtaW4tZml2ZS15ZWFycw?hl=en-US&amp;gl=US&amp;ceid=US%3Aen\" jsaction=\"click:kkIcoc;\" tabindex=\"0\" target=\"_blank\">Mt. Gox moves at least $2.9 billion in bitcoin for first time in five years</a>,\n",
       " <a class=\"JtKRv\" data-n-tid=\"29\" href=\"./articles/CBMiZWh0dHBzOi8vY29pbnBlZGlhLm9yZy9uZXdzLzExLXllYXItb2xkLXJvYm9mb3JtLWZsYXctaGVscHMtcmVzZWFyY2hlcnMtY3JhY2stMy1taWxsaW9uLWNyeXB0by13YWxsZXQv0gFpaHR0cHM6Ly9jb2lucGVkaWEub3JnL25ld3MvMTEteWVhci1vbGQtcm9ib2Zvcm0tZmxhdy1oZWxwcy1yZXNlYXJjaGVycy1jcmFjay0zLW1pbGxpb24tY3J5cHRvLXdhbGxldC9hbXAv?hl=en-US&amp;gl=US&amp;ceid=US%3Aen\" jsaction=\"click:kkIcoc;\" tabindex=\"0\" target=\"_blank\">$3 Million in Lost Bitcoin RECOVERED! Researchers Hack 11-Year-Old Crypto Wallet</a>,\n",
       " <a class=\"JtKRv\" data-n-tid=\"29\" href=\"./articles/CBMiYGh0dHBzOi8vY3J5cHRvcG90YXRvLmNvbS9wZXBlLXBlcGUtZHVtcHMtMTQtYWZ0ZXItcmVjZW50LWF0aC1iaXRjb2luLWJ0Yy1sb3Nlcy02OGstbWFya2V0LXdhdGNoL9IBZGh0dHBzOi8vY3J5cHRvcG90YXRvLmNvbS9wZXBlLXBlcGUtZHVtcHMtMTQtYWZ0ZXItcmVjZW50LWF0aC1iaXRjb2luLWJ0Yy1sb3Nlcy02OGstbWFya2V0LXdhdGNoLz9hbXA?hl=en-US&amp;gl=US&amp;ceid=US%3Aen\" jsaction=\"click:kkIcoc;\" tabindex=\"0\" target=\"_blank\">Pepe (PEPE) Dumps 14% After Recent ATH, Bitcoin (BTC) Loses $68K (Market Watch)</a>,\n",
       " <a class=\"JtKRv\" data-n-tid=\"29\" href=\"./articles/CBMiWGh0dHBzOi8vY3J5cHRvLm5ld3MvZmVkcy1jaGFpbmFseXNpcy1yZXZlYWwtMTY5bS1pbi1iaXRjb2luLWNvbnRyb2xsZWQtYnktOTExLXM1LWJvdG5ldC_SAQA?hl=en-US&amp;gl=US&amp;ceid=US%3Aen\" jsaction=\"click:kkIcoc;\" tabindex=\"0\" target=\"_blank\">Feds, Chainalysis reveal $169m in Bitcoin controlled by 911 S5 botnet</a>,\n",
       " <a class=\"JtKRv\" data-n-tid=\"29\" href=\"./articles/CBMihAFodHRwczovL3d3dy5jb2luZGVzay5jb20vbWFya2V0cy8yMDI0LzA1LzMwL2JpdGNvaW4tdHJhZGVycy13YXJuLW9mLXB1bGxiYWNrLWFzLXVzLWluZmxhdGlvbi1kYXRhLWxvb21zLWRvZ2Vjb2luLWxlYWRzLW1ham9ycy1zbGlkZS_SAYgBaHR0cHM6Ly93d3cuY29pbmRlc2suY29tL21hcmtldHMvMjAyNC8wNS8zMC9iaXRjb2luLXRyYWRlcnMtd2Fybi1vZi1wdWxsYmFjay1hcy11cy1pbmZsYXRpb24tZGF0YS1sb29tcy1kb2dlY29pbi1sZWFkcy1tYWpvcnMtc2xpZGUvYW1wLw?hl=en-US&amp;gl=US&amp;ceid=US%3Aen\" jsaction=\"click:kkIcoc;\" tabindex=\"0\" target=\"_blank\">Bitcoin Traders Warn of Pullback as U.S. Inflation Data Looms; Dogecoin Leads Majors Slide</a>,\n",
       " <a class=\"JtKRv\" data-n-tid=\"29\" href=\"./articles/CBMiRmh0dHBzOi8vY29pbmdhcGUuY29tL2JpdGNvaW4tcHJpY2Utc29hcnMtdXMtZ2RwLWRhdGEtYm9vc3RzLXNlbnRpbWVudC_SAUpodHRwczovL2NvaW5nYXBlLmNvbS9iaXRjb2luLXByaWNlLXNvYXJzLXVzLWdkcC1kYXRhLWJvb3N0cy1zZW50aW1lbnQvYW1wLw?hl=en-US&amp;gl=US&amp;ceid=US%3Aen\" jsaction=\"click:kkIcoc;\" tabindex=\"0\" target=\"_blank\">Breaking: Bitcoin Price Soars After US GDP &amp; Job Data</a>,\n",
       " <a class=\"JtKRv\" data-n-tid=\"29\" href=\"./articles/CBMib2h0dHBzOi8vd3d3Lm1hcmtldHdhdGNoLmNvbS9zdG9yeS9iaXRjb2luLWJvb3N0ZXJzLWZlYXItY3J5cHRvLXdvcmxkLWlzLWdldHRpbmctcnVnLXB1bGxlZC1ieS1jb25ncmVzcy04MmZkMTdiNdIBc2h0dHBzOi8vd3d3Lm1hcmtldHdhdGNoLmNvbS9hbXAvc3RvcnkvYml0Y29pbi1ib29zdGVycy1mZWFyLWNyeXB0by13b3JsZC1pcy1nZXR0aW5nLXJ1Zy1wdWxsZWQtYnktY29uZ3Jlc3MtODJmZDE3YjU?hl=en-US&amp;gl=US&amp;ceid=US%3Aen\" jsaction=\"click:kkIcoc;\" tabindex=\"0\" target=\"_blank\">Bitcoin boosters fear crypto world is getting ‘rug pulled’ by Congress</a>,\n",
       " <a class=\"JtKRv\" data-n-tid=\"29\" href=\"./articles/CBMiTmh0dHBzOi8vd3d3Lndwci5vcmcvbmV3cy93aXNjb25zaW4taW52ZXN0LWJpdGNvaW4tZWZ0cy11dy13aGl0ZXdhdGVyLXByb2Zlc3NvctIBAA?hl=en-US&amp;gl=US&amp;ceid=US%3Aen\" jsaction=\"click:kkIcoc;\" tabindex=\"0\" target=\"_blank\">State is 'underinvested' in bitcoin EFTs despite recent purchase, says UW-Whitewater professor</a>,\n",
       " <a class=\"JtKRv\" data-n-tid=\"29\" href=\"./articles/CBMigwFodHRwczovL3d3dy5pbnZlc3RpbmcuY29tL25ld3MvY3J5cHRvY3VycmVuY3ktbmV3cy9iaXRjb2luLXByaWNlLXRvZGF5LWZsYXQtYXQtNjhrLWFzLWluZmxhdGlvbi1yYXRlLWppdHRlcnMtZGVudC1zZW50aW1lbnQtMzQ2MjQzMNIBAA?hl=en-US&amp;gl=US&amp;ceid=US%3Aen\" jsaction=\"click:kkIcoc;\" tabindex=\"0\" target=\"_blank\">Bitcoin price today: steady at $68k as inflation, rate jitters weigh on sentiment By Investing.com</a>,\n",
       " <a class=\"JtKRv\" data-n-tid=\"29\" href=\"./articles/CBMib2h0dHBzOi8vd3d3LmJsb29tYmVyZy5jb20vbmV3cy9hcnRpY2xlcy8yMDI0LTA1LTI5L3Jpc2t5LW5ldy1leHBlcmltZW50cy1hdHRyYWN0LWJpbGxpb25zLW9mLWRvbGxhcnMtaW4tYml0Y29pbtIBAA?hl=en-US&amp;gl=US&amp;ceid=US%3Aen\" jsaction=\"click:kkIcoc;\" tabindex=\"0\" target=\"_blank\">Risky New Experiments Attract Billions of Dollars in Bitcoin</a>,\n",
       " <a class=\"JtKRv\" data-n-tid=\"29\" href=\"./articles/CBMiaGh0dHBzOi8vd3d3LmNvaW5kZXNrLmNvbS9idXNpbmVzcy8yMDI0LzA1LzMwL2JpdGNvaW4tc3Rha2luZy1wcm9qZWN0LWJhYnlsb24tcmFpc2VzLTcwbS1sZWQtYnktcGFyYWRpZ20v0gEA?hl=en-US&amp;gl=US&amp;ceid=US%3Aen\" jsaction=\"click:kkIcoc;\" tabindex=\"0\" target=\"_blank\">Bitcoin Staking Project Babylon Raises $70M Led by Paradigm</a>,\n",
       " <a class=\"JtKRv\" data-n-tid=\"29\" href=\"./articles/CBMiSmh0dHBzOi8vd3d3LnRoZWJsb2NrLmNvL3Bvc3QvMjk3NTQ1L2JsYWNrcm9jay1pYml0LXNwb3QtYml0Y29pbi1ldGYtaW5mbG930gFOaHR0cHM6Ly93d3cudGhlYmxvY2suY28vYW1wL3Bvc3QvMjk3NTQ1L2JsYWNrcm9jay1pYml0LXNwb3QtYml0Y29pbi1ldGYtaW5mbG93?hl=en-US&amp;gl=US&amp;ceid=US%3Aen\" jsaction=\"click:kkIcoc;\" tabindex=\"0\" target=\"_blank\">BlackRock’s IBIT continues to lead net inflows in spot bitcoin ETFs</a>,\n",
       " <a class=\"JtKRv\" data-n-tid=\"29\" href=\"./articles/CBMifWh0dHBzOi8vbmV3cy5iaXRjb2luLmNvbS9ob25nLWtvbmdzLWdyYWNlLXBlcmlvZC1mb3ItY3J5cHRvLWV4Y2hhbmdlcy1lbmRpbmctdHJhZGluZy1wbGF0Zm9ybXMtbXVzdC1vYnRhaW4tbGljZW5zZS1ieS1qdW5lLTEv0gEA?hl=en-US&amp;gl=US&amp;ceid=US%3Aen\" jsaction=\"click:kkIcoc;\" tabindex=\"0\" target=\"_blank\">Hong Kong's Grace Period for Crypto Exchanges Ending — Trading Platforms Must Obtain License by June 1 ...</a>,\n",
       " <a class=\"JtKRv\" data-n-tid=\"29\" href=\"./articles/CBMiRWh0dHBzOi8vZGVjcnlwdC5jby8yMzI5ODUvamFjay1kb3JzZXktYml0Y29pbi1taW5lci1vY2Vhbi1lbC1zYWx2YWRvctIBS2h0dHBzOi8vZGVjcnlwdC5jby8yMzI5ODUvamFjay1kb3JzZXktYml0Y29pbi1taW5lci1vY2Vhbi1lbC1zYWx2YWRvcj9hbXA9MQ?hl=en-US&amp;gl=US&amp;ceid=US%3Aen\" jsaction=\"click:kkIcoc;\" tabindex=\"0\" target=\"_blank\">Jack Dorsey Backed Bitcoin Miner OCEAN Opens El Salvador Hub</a>,\n",
       " <a class=\"JtKRv\" data-n-tid=\"29\" href=\"./articles/CBMiS2h0dHBzOi8vd3d3Lm5ld3NidGMuY29tL25ld3MvYml0Y29pbi9rZXktYml0Y29pbi1sZXZlbC1tYXNzaXZlLXN1cmdlLTkxNTAwL9IBT2h0dHBzOi8vd3d3Lm5ld3NidGMuY29tL25ld3MvYml0Y29pbi9rZXktYml0Y29pbi1sZXZlbC1tYXNzaXZlLXN1cmdlLTkxNTAwL2FtcC8?hl=en-US&amp;gl=US&amp;ceid=US%3Aen\" jsaction=\"click:kkIcoc;\" tabindex=\"0\" target=\"_blank\">Eye On $91,500: Key Bitcoin Level Could Trigger Massive Surge, Analyst Warns</a>,\n",
       " <a class=\"JtKRv\" data-n-tid=\"29\" href=\"./articles/CBMiM2h0dHBzOi8vdS50b2RheS9oZXJlcy13aGVuLWJpdGNvaW4tYnRjLXdpbGwtZXhwbG9kZdIBN2h0dHBzOi8vdS50b2RheS9oZXJlcy13aGVuLWJpdGNvaW4tYnRjLXdpbGwtZXhwbG9kZT9hbXA?hl=en-US&amp;gl=US&amp;ceid=US%3Aen\" jsaction=\"click:kkIcoc;\" tabindex=\"0\" target=\"_blank\">Here's When Bitcoin (BTC) Will Explode</a>,\n",
       " <a class=\"JtKRv\" data-n-tid=\"29\" href=\"./articles/CBMiW2h0dHBzOi8vd3d3LnVuaWxhZC5jb20vbmV3cy9tb25leS9qb2UtZ3JhbmQtaGFja2VyLWJpdGNvaW4teW91dHViZS1yb2JvZm9ybS03ODYxOTgtMjAyNDA1MzDSAQA?hl=en-US&amp;gl=US&amp;ceid=US%3Aen\" jsaction=\"click:kkIcoc;\" tabindex=\"0\" target=\"_blank\">Hackers who finally unlocked $3 million Bitcoin wallet after 11 years explain how they did</a>,\n",
       " <a class=\"JtKRv\" data-n-tid=\"29\" href=\"./articles/CBMiWmh0dHBzOi8vYml0Y29pbm1hZ2F6aW5lLmNvbS9jdWx0dXJlL2JpdGNvaW4tYS1uZXctaG9wZS1mb3ItaW5ub3ZhdG9ycy1pbi1jb3JydXB0LWVjb25vbWllc9IBAA?hl=en-US&amp;gl=US&amp;ceid=US%3Aen\" jsaction=\"click:kkIcoc;\" tabindex=\"0\" target=\"_blank\">Bitcoin: A New Hope for Innovators in Corrupt Economies</a>,\n",
       " <a class=\"JtKRv\" data-n-tid=\"29\" href=\"./articles/CBMiWWh0dHBzOi8vd3d3LmZvcmJlcy5jb20vc2l0ZXMvZGlnaXRhbC1hc3NldHMvMjAyNC8wNS8yOS9ldGhlci1hbmQtYml0Y29pbi10aGUtbmV4dC1sZWctdXAv0gEA?hl=en-US&amp;gl=US&amp;ceid=US%3Aen\" jsaction=\"click:kkIcoc;\" tabindex=\"0\" target=\"_blank\">Ether And Bitcoin: The Next Leg Up</a>,\n",
       " <a class=\"JtKRv\" data-n-tid=\"29\" href=\"./articles/CBMiNWh0dHBzOi8vd3d3LmludmVzdG9wZWRpYS5jb20vdGVybXMvYi9iaXRjb2luLWNhc2guYXNw0gEA?hl=en-US&amp;gl=US&amp;ceid=US%3Aen\" jsaction=\"click:kkIcoc;\" tabindex=\"0\" target=\"_blank\">What Is Bitcoin Cash (BCH), and How Does It Work?</a>,\n",
       " <a class=\"JtKRv\" data-n-tid=\"29\" href=\"./articles/CBMiWWh0dHBzOi8vYml0Y29pbm1hZ2F6aW5lLmNvbS9idXNpbmVzcy9ueXNlLXRvLWxhdW5jaC1wcm9kdWN0cy10cmFja2luZy1zcG90LWJpdGNvaW4tcHJpY2Vz0gEA?hl=en-US&amp;gl=US&amp;ceid=US%3Aen\" jsaction=\"click:kkIcoc;\" tabindex=\"0\" target=\"_blank\">NYSE To Launch Products Tracking Spot Bitcoin Prices</a>,\n",
       " <a class=\"JtKRv\" data-n-tid=\"29\" href=\"./articles/CBMicGh0dHBzOi8vY29pbnBlZGlhLm9yZy9wcmljZS1hbmFseXNpcy9iaXRjb2luLWNvbnNvbGlkYXRpb24tY29udGludWVzLWlzLXRoZS1idGMtcHJpY2UtcHJlcGFyaW5nLWZvci1hLWh1Z2UtbW92ZS_SAXRodHRwczovL2NvaW5wZWRpYS5vcmcvcHJpY2UtYW5hbHlzaXMvYml0Y29pbi1jb25zb2xpZGF0aW9uLWNvbnRpbnVlcy1pcy10aGUtYnRjLXByaWNlLXByZXBhcmluZy1mb3ItYS1odWdlLW1vdmUvYW1wLw?hl=en-US&amp;gl=US&amp;ceid=US%3Aen\" jsaction=\"click:kkIcoc;\" tabindex=\"0\" target=\"_blank\">Bitcoin Consolidation Continues: Is the BTC Price Preparing for a Huge Move?</a>,\n",
       " <a class=\"JtKRv\" data-n-tid=\"29\" href=\"./articles/CBMiUGh0dHBzOi8vY29pbnRlbGVncmFwaC5jb20vbmV3cy9ibGFja3JvY2staWJpdC1vdmVydGFrZXMtZ2J0Yy1sYXJnZXN0LWJpdGNvaW4tZXRm0gEA?hl=en-US&amp;gl=US&amp;ceid=US%3Aen\" jsaction=\"click:kkIcoc;\" tabindex=\"0\" target=\"_blank\">BlackRock's IBIT overtakes GBTC as the world's largest Bitcoin ETF</a>,\n",
       " <a class=\"JtKRv\" data-n-tid=\"29\" href=\"./articles/CBMib2h0dHBzOi8vY3J5cHRvcG90YXRvLmNvbS9iaXRjb2luLWJ0Yy1wcmljZS1haGVhZC1vZi1iaWctbW92ZS1yaXBwbGUteHJwLXByZWRpY3Rpb25zLWFuZC1tb3JlLWJpdHMtcmVjYXAtbWF5LTMwL9IBc2h0dHBzOi8vY3J5cHRvcG90YXRvLmNvbS9iaXRjb2luLWJ0Yy1wcmljZS1haGVhZC1vZi1iaWctbW92ZS1yaXBwbGUteHJwLXByZWRpY3Rpb25zLWFuZC1tb3JlLWJpdHMtcmVjYXAtbWF5LTMwLz9hbXA?hl=en-US&amp;gl=US&amp;ceid=US%3Aen\" jsaction=\"click:kkIcoc;\" tabindex=\"0\" target=\"_blank\">Bitcoin (BTC) Price Ahead of Big Move, Ripple (XRP) Predictions, and More: Bits Recap May 30</a>,\n",
       " <a class=\"JtKRv\" data-n-tid=\"29\" href=\"./articles/CBMicWh0dHBzOi8vbmV3cy5iaXRjb2luLmNvbS90cnVtcC1pbnF1aXJlZC1pZi1iaXRjb2luLWNvdWxkLWFpZC1pbi1zb2x2aW5nLXRoZS0zNS10cmlsbGlvbi11cy1uYXRpb25hbC1kZWJ0LXByb2JsZW0v0gEA?hl=en-US&amp;gl=US&amp;ceid=US%3Aen\" jsaction=\"click:kkIcoc;\" tabindex=\"0\" target=\"_blank\">Trump Inquired if Bitcoin Could Aid in Solving the $35 Trillion US National Debt Problem – News Bytes Bitcoin News</a>,\n",
       " <a class=\"JtKRv\" data-n-tid=\"29\" href=\"./articles/CBMiWGh0dHBzOi8vYml0Y29pbm1hZ2F6aW5lLmNvbS9idXNpbmVzcy9mb2xkLXdpbGwtYmUteW91ci1iaXRjb2luLWJhbmstd2l0aC1jZW8td2lsbC1yZWV2ZXPSAQA?hl=en-US&amp;gl=US&amp;ceid=US%3Aen\" jsaction=\"click:kkIcoc;\" tabindex=\"0\" target=\"_blank\">Fold Will Be Your Bitcoin Bank With CEO Will Reeves</a>,\n",
       " <a class=\"JtKRv\" data-n-tid=\"29\" href=\"./articles/CBMiggFodHRwczovL2JpdGNvaW5tYWdhemluZS5jb20vYnVzaW5lc3MvaGVhbHRoY2FyZS1jb21wYW55LXNlbWxlci1zY2llbnRpZmljLWJ1eXMtNDAtbWlsbGlvbi1iaXRjb2luLWFkb3B0cy1hcy10cmVhc3VyeS1yZXNlcnZlLWFzc2V00gEA?hl=en-US&amp;gl=US&amp;ceid=US%3Aen\" jsaction=\"click:kkIcoc;\" tabindex=\"0\" target=\"_blank\">Healthcare Company Semler Scientific Buys $40 Million Bitcoin, Adopts As Treasury Reserve Asset</a>,\n",
       " <a class=\"JtKRv\" data-n-tid=\"29\" href=\"./articles/CBMiVGh0dHBzOi8vY29pbnRlbGVncmFwaC5jb20vbmV3cy9idWxsaXNoLWJpdGNvaW4tb3B0aW9ucy1kb21pbmF0ZS1tYXktNi1iaWxsaW9uLWV4cGlyedIBAA?hl=en-US&amp;gl=US&amp;ceid=US%3Aen\" jsaction=\"click:kkIcoc;\" tabindex=\"0\" target=\"_blank\">Bullish Bitcoin options dominate May's $6.5 billion expiry</a>,\n",
       " <a class=\"JtKRv\" data-n-tid=\"29\" href=\"./articles/CBMihQFodHRwczovL2NyeXB0b3NsYXRlLmNvbS9pbnNpZ2h0cy9iaXRjb2luLWFkZHJlc3Nlcy13aXRoLXBvc2l0aXZlLWJhbGFuY2VzLXN1cnBhc3MtNTItNS1taWxsaW9uLW1hcmtpbmctc2lnbmlmaWNhbnQtZ3Jvd3RoLXNpbmNlLTIwMjAv0gEA?hl=en-US&amp;gl=US&amp;ceid=US%3Aen\" jsaction=\"click:kkIcoc;\" tabindex=\"0\" target=\"_blank\">Bitcoin addresses with positive balances surpass 52.5 million amid strong growth since 2020</a>,\n",
       " <a class=\"JtKRv\" data-n-tid=\"29\" href=\"./articles/CBMiaWh0dHBzOi8vbmV3cy5iaXRjb2luLmNvbS9iaXRjb2luLXRlY2huaWNhbC1hbmFseXNpcy1idGMtc2hvd3MtY29uc29saWRhdGlvbi1waGFzZS1hbWlkLXJlY2VudC12b2xhdGlsaXR5L9IBAA?hl=en-US&amp;gl=US&amp;ceid=US%3Aen\" jsaction=\"click:kkIcoc;\" tabindex=\"0\" target=\"_blank\">Bitcoin Technical Analysis: BTC Shows Consolidation Phase Amid Recent Volatility – Markets and Prices Bitcoin News</a>,\n",
       " <a class=\"JtKRv\" data-n-tid=\"29\" href=\"./articles/CBMigAFodHRwczovL3d3dy5uZXdzYnRjLmNvbS9iaXRjb2luLW5ld3MvbXQtZ294LWJpdGNvaW4tdHJhbnNmZXItY3J5cHRvcXVhbnQtYW5hbHl6ZXMtcG90ZW50aWFsLW1hcmtldC1lZmZlY3RzLW9mLXRoZS05LTRiLW1vdmVtZW50L9IBhAFodHRwczovL3d3dy5uZXdzYnRjLmNvbS9iaXRjb2luLW5ld3MvbXQtZ294LWJpdGNvaW4tdHJhbnNmZXItY3J5cHRvcXVhbnQtYW5hbHl6ZXMtcG90ZW50aWFsLW1hcmtldC1lZmZlY3RzLW9mLXRoZS05LTRiLW1vdmVtZW50L2FtcC8?hl=en-US&amp;gl=US&amp;ceid=US%3Aen\" jsaction=\"click:kkIcoc;\" tabindex=\"0\" target=\"_blank\">Mt. Gox Bitcoin Transfer: CryptoQuant Analyzes Potential Market Effects Of The $9.4B Movement</a>,\n",
       " <a class=\"JtKRv\" data-n-tid=\"29\" href=\"./articles/CBMidGh0dHBzOi8vd3d3LnRoZWJsb2NrLmNvL3Bvc3QvMjk3MDc2L2V0aGVyLXdpbGwtY29udGludWUtdG8tb3V0cGVyZm9ybS1iaXRjb2luLWluLW5lYXItdGVybS1zYXlzLWNyeXB0by1hc3NldC1tYW5hZ2Vy0gF4aHR0cHM6Ly93d3cudGhlYmxvY2suY28vYW1wL3Bvc3QvMjk3MDc2L2V0aGVyLXdpbGwtY29udGludWUtdG8tb3V0cGVyZm9ybS1iaXRjb2luLWluLW5lYXItdGVybS1zYXlzLWNyeXB0by1hc3NldC1tYW5hZ2Vy?hl=en-US&amp;gl=US&amp;ceid=US%3Aen\" jsaction=\"click:kkIcoc;\" tabindex=\"0\" target=\"_blank\">Ether will continue to outperform bitcoin in near term, says crypto asset manager</a>,\n",
       " <a class=\"JtKRv\" data-n-tid=\"29\" href=\"./articles/CBMiQWh0dHBzOi8vd3d3Lm5ld3NidGMuY29tL2FuYWx5c2lzL2J0Yy9iaXRjb2luLXByaWNlLXN0cnVnZ2xlcy02N2sv0gFFaHR0cHM6Ly93d3cubmV3c2J0Yy5jb20vYW5hbHlzaXMvYnRjL2JpdGNvaW4tcHJpY2Utc3RydWdnbGVzLTY3ay9hbXAv?hl=en-US&amp;gl=US&amp;ceid=US%3Aen\" jsaction=\"click:kkIcoc;\" tabindex=\"0\" target=\"_blank\">Bitcoin Price Struggles: Can the Leading Cryptocurrency Start Fresh Increase?</a>,\n",
       " <a class=\"JtKRv\" data-n-tid=\"29\" href=\"./articles/CBMiTGh0dHBzOi8vYml0Y29pbm1hZ2F6aW5lLmNvbS90ZWNobmljYWwvYnVpbGRpbmctYml0Y29pbi1lZHVjYXRpb24tbGlzYS1uZWlndXTSAQA?hl=en-US&amp;gl=US&amp;ceid=US%3Aen\" jsaction=\"click:kkIcoc;\" tabindex=\"0\" target=\"_blank\">Building the Future of Bitcoin Education</a>,\n",
       " <a class=\"JtKRv\" data-n-tid=\"29\" href=\"./articles/CBMiiQFodHRwczovL3d3dy5jbmJjLmNvbS92aWRlby8yMDI0LzA1LzI5L2JpdGNvaW4tZHJvcHMtdG8tNjcwMDAtbGV2ZWwtYW5kLWdlbWluaS1yZXR1cm5zLW1vcmUtdGhhbi0yLWJpbGxpb24tdG8tdXNlcnMtY25iYy1jcnlwdG8td29ybGQuaHRtbNIBAA?hl=en-US&amp;gl=US&amp;ceid=US%3Aen\" jsaction=\"click:kkIcoc;\" tabindex=\"0\" target=\"_blank\">Bitcoin drops to $67,000 level, and Gemini returns more than $2 billion to users</a>,\n",
       " <a class=\"JtKRv\" data-n-tid=\"29\" href=\"./articles/CBMiXmh0dHBzOi8vY29pbnBlZGlhLm9yZy9uZXdzL2JpdGNvaW5zLTkzLWRheS1jb25zb2xpZGF0aW9uLWFyb3VuZC1hdGgtaXMtYS1tYXJrZXQtc3Rvcm0tYnJld2luZy_SAWJodHRwczovL2NvaW5wZWRpYS5vcmcvbmV3cy9iaXRjb2lucy05My1kYXktY29uc29saWRhdGlvbi1hcm91bmQtYXRoLWlzLWEtbWFya2V0LXN0b3JtLWJyZXdpbmcvYW1wLw?hl=en-US&amp;gl=US&amp;ceid=US%3Aen\" jsaction=\"click:kkIcoc;\" tabindex=\"0\" target=\"_blank\">Bitcoin Price Stalls Near ATH: What’s Next – Breakout or Breakdown?</a>,\n",
       " <a class=\"JtKRv\" data-n-tid=\"29\" href=\"./articles/CBMic2h0dHBzOi8vbmV3cy5iaXRjb2luLmNvbS9kb25hbGQtdHJ1bXAtcGxlZGdlcy10by1zdG9wLWJpZGVucy1hbnRpLWNyeXB0by1hZ2VuZGEtcHJvdGVjdC1iaXRjb2luLWZyZWUtcm9zcy11bGJyaWNodC_SAQA?hl=en-US&amp;gl=US&amp;ceid=US%3Aen\" jsaction=\"click:kkIcoc;\" tabindex=\"0\" target=\"_blank\">Donald Trump Pledges to Stop Biden's Anti-Crypto Agenda, Protect Bitcoin, Free Ross Ulbricht – Featured Bitcoin News</a>,\n",
       " <a class=\"JtKRv\" data-n-tid=\"29\" href=\"./articles/CBMiZGh0dHBzOi8vY29pbnBlZGlhLm9yZy9jcnlwdG8tbGl2ZS1uZXdzL2JpdGNvaW4tdG8tcmVhY2gtMS1taWxsaW9uLXNhbXNvbi1tb3ctcHJlZGljdHMtbWFzc2l2ZS1zdXJnZS_SAWhodHRwczovL2NvaW5wZWRpYS5vcmcvY3J5cHRvLWxpdmUtbmV3cy9iaXRjb2luLXRvLXJlYWNoLTEtbWlsbGlvbi1zYW1zb24tbW93LXByZWRpY3RzLW1hc3NpdmUtc3VyZ2UvYW1wLw?hl=en-US&amp;gl=US&amp;ceid=US%3Aen\" jsaction=\"click:kkIcoc;\" tabindex=\"0\" target=\"_blank\">Bitcoin to Reach $1 Million: Samson Mow Predicts Massive Surge</a>]"
      ]
     },
     "execution_count": 95,
     "metadata": {},
     "output_type": "execute_result"
    }
   ],
   "source": [
    "headlines"
   ]
  },
  {
   "cell_type": "code",
   "execution_count": 107,
   "metadata": {},
   "outputs": [
    {
     "name": "stdout",
     "output_type": "stream",
     "text": [
      "Traders say Bitcoin price fights “last resistance” at $69K before new all-time highs\n",
      "Bitcoin price today: steady at $68k as inflation, rate jitters weigh on sentiment By Investing.com\n",
      "Goldman Sachs Issues 'Astonishing' Bitcoin And Ethereum ETF Prediction After Price 'Turning Point'\n",
      "Elon Musk, Donald Trump Discuss Bitcoin (BTC), Crypto Policy Ahead of Election\n",
      "Is The MEV Monster Under Bitcoin's Bed?\n",
      "Bitcoin, Ether Prices Ease as SHIB Drives Gains in Meme Tokens\n",
      "Paradigm leads $70 million raise for Bitcoin staking protocol Babylon\n",
      "BlackRock's $20 Billion IBIT Fund Is World's Biggest Bitcoin (BTC) ETF\n",
      "BlackRock’s IBIT continues to lead net inflows in spot bitcoin ETFs\n",
      "BlackRock’s bitcoin ETF on verge of eclipsing Grayscale’s fund\n",
      "Researchers 'hack time' to recover $3 million bitcoin wallet\n",
      "Researchers find lost password to crypto wallet holding 43.6 BTC: Wired\n",
      "Hackers finally unlock $3 million Bitcoin wallet after man forgot password for 11 years\n",
      "Prediction: The Bitcoin Halving Could Be a Millionaire Maker\n",
      "Mt Gox distributions may not be all doom and gloom for bitcoin\n",
      "Mt. Gox moves at least $2.9 billion in bitcoin for first time in five years\n",
      "Bitcoin Retreats as Traders Mull Risk of Sales Linked to Mt. Gox\n",
      "Semler Scientific® Announces Bitcoin Treasury Strategy\n",
      "Is Semler Scientific Adopting MicroStrategy's Bitcoin Treasury Playbook?\n",
      "Healthcare tech company shares surge 27% after announcing plans to buy bitcoin with cash reserves\n",
      "Bitcoin in 42-day 'boredom zone' — traders debate next move\n",
      "BlackRock's ETF becomes largest bitcoin fund in world, Bloomberg News reports\n",
      "This guy got $3 million in Bitcoin back after he lost an 11-year-old password\n",
      "Med tech stock Semler Scientific takes bitcoin play from MicroStrategy's book, surges 37%\n",
      "Do Exchange-Traded Products Improve Bitcoin Trading? - Liberty Street Economics\n",
      "Prediction: Bitcoin Will Reach $80,000 in 2024\n",
      "World's Largest Bitcoin Conference Launches CLE Program in Nashville\n",
      "Bitcoin needs '3.3% or lower' CPI print to reach new ATH\n",
      "What Is Bitcoin And How Does It Work?\n",
      "Goldman Sachs: Bitcoin ETFs Are an 'Astonishing Success'\n",
      "Trump Interested in Using Bitcoin to Solve the US National Debt Problem – Economics Bitcoin News\n",
      "Bitcoin blockchain size 2009-2024\n",
      "First Mover Americas: Bitcoin Falls Below $68K After $9B Mt. Gox Transfer\n",
      "Bitcoin price falls below $68,000 following transfer worth $9.6 billion from Mt. Gox cold wallet\n",
      "10 Best Cryptocurrencies of May 2024 – Forbes Advisor\n",
      "Bitcoin price aims for $69K as 'hot' US macro data pressures dollar\n",
      "Janet Yellen Issues Serious $34 Trillion Warning As Bitcoin Predicted To Surge To $1 Million Price\n",
      "Luxor Bitcoin Hashrate Futures Now Live On Bitnomial After Regulatory Approval\n",
      "Jack Dorsey-backed Bitcoin mining pool opens headquarters in El Salvador\n",
      "Ether Spot ETFs to See Much Lower Demand Than Bitcoin Versions, JPMorgan Says\n",
      "Mastercard Crypto Credential Launches with \"First Peer-to-Peer Pilot Transactions\"\n",
      "Bitcoin Inflation Now 75% Less Than Current US Rate Post-Halving\n",
      "BlackRock Now Runs the World's Largest Bitcoin Fund\n",
      "Mt. Gox Bitcoin Dump Looms: Opportunity for Altcoins, Bloodbath for BTC?\n",
      "European bitcoin ETPs suffer mounting outflows\n",
      "This type of coin is 'among the riskiest of cryptocurrencies,' investing expert says—here's what to know\n",
      "Top 3 Price Prediction Bitcoin, Ethereum, Ripple: Facing correction after ETFs led rally\n",
      "El Salvador Attracts A New Bitcoin Mining Company To The Country\n",
      "Prediction: The Bitcoin Halving Will Send These Cryptocurrencies Soaring\n",
      "BlackRock's $20 Billion IBIT Becomes The World's Largest Bitcoin ETF\n",
      "Bitcoin ETPs Begin Trading on the London Stock Exchange\n",
      "Inflation Tango: Bitcoin’s Bullish Dance with US CPI Data\n",
      "41% of Voters Looking at Bitcoin and Crypto Due to Weakening Dollar and Political Tensions: Grayscale Survey\n",
      "Bitcoin traders brace for US macro data with BTC price stuck at $67K\n",
      "Bitcoin Miner Marathon Partner With Kenya On Renewable Energy Projects\n",
      "Mt.Gox Transfers $9B Bitcoin to Single Address as Part of Repayment Plans\n",
      "Bitcoin-Based DOG Token Climbs to 9th Largest Meme Coin, Sees 216% Rise in 30 Days – Markets and Prices Bitcoin ...\n",
      "What Is Bitcoin?\n",
      "Japan's path to bitcoin-linked ETF trading pocked with obstacles\n",
      "Bitcoin ETFs boost TradFi Investments: Binance France president\n",
      "Bitcoin price today: flat at $67.7k amid rate fears; MT Gox risk eases By Investing.com\n",
      "Analyst Who Nailed 2018 Bitcoin Bottom Says FLOKI Primed To Hit ‘Escape Velocity’ Soon – Here Are His Targets\n",
      "Bitcoin Startup Babylon Raises $70 Million to Bring BTC Staking to Ethereum and Solana\n",
      "Bitcoin Meme Coins Surge as DOG's 85% Jump Calms Fears That 'Runes Are Dead'\n",
      "Bitcoin falls below $68,000 after Mt.Gox transfers $9 billion\n",
      "$3 Million in Lost Bitcoin RECOVERED! Researchers Hack 11-Year-Old Crypto Wallet\n",
      "Pepe (PEPE) Dumps 14% After Recent ATH, Bitcoin (BTC) Loses $68K (Market Watch)\n",
      "Feds, Chainalysis reveal $169m in Bitcoin controlled by 911 S5 botnet\n",
      "Bitcoin Traders Warn of Pullback as U.S. Inflation Data Looms; Dogecoin Leads Majors Slide\n",
      "Breaking: Bitcoin Price Soars After US GDP & Job Data\n",
      "Bitcoin boosters fear crypto world is getting ‘rug pulled’ by Congress\n",
      "State is 'underinvested' in bitcoin EFTs despite recent purchase, says UW-Whitewater professor\n",
      "Eye On $91,500: Key Bitcoin Level Could Trigger Massive Surge, Analyst Warns\n",
      "Risky New Experiments Attract Billions of Dollars in Bitcoin\n",
      "Bitcoin Staking Project Babylon Raises $70M Led by Paradigm\n",
      "Jack Dorsey Backed Bitcoin Miner OCEAN Opens El Salvador Hub\n",
      "Hong Kong's Grace Period for Crypto Exchanges Ending — Trading Platforms Must Obtain License by June 1 ...\n",
      "Cryptocurrency Market News: Ether Fumbles After ETF Nod, Bitcoin Briefly Slides Below $68K\n",
      "Here's When Bitcoin (BTC) Will Explode\n",
      "Bitcoin Price Prediction: 4 Catalysts That Could Spur Next Crypto Rally\n",
      "Hackers who finally unlocked $3 million Bitcoin wallet after 11 years explain how they did\n",
      "Bitcoin: A New Hope for Innovators in Corrupt Economies\n",
      "Ether And Bitcoin: The Next Leg Up\n",
      "What Is Bitcoin Cash (BCH), and How Does It Work?\n",
      "NYSE To Launch Products Tracking Spot Bitcoin Prices\n",
      "Bitcoin Consolidation Continues: Is the BTC Price Preparing for a Huge Move?\n",
      "BlackRock's IBIT overtakes GBTC as the world's largest Bitcoin ETF\n",
      "Bitcoin (BTC) Price Ahead of Big Move, Ripple (XRP) Predictions, and More: Bits Recap May 30\n",
      "Trump Inquired if Bitcoin Could Aid in Solving the $35 Trillion US National Debt Problem – News Bytes Bitcoin News\n",
      "Healthcare Company Semler Scientific Buys $40 Million Bitcoin, Adopts As Treasury Reserve Asset\n",
      "Fold Will Be Your Bitcoin Bank With CEO Will Reeves\n",
      "Bullish Bitcoin options dominate May's $6.5 billion expiry\n",
      "Bitcoin addresses with positive balances surpass 52.5 million amid strong growth since 2020\n",
      "Bitcoin Technical Analysis: BTC Shows Consolidation Phase Amid Recent Volatility – Markets and Prices Bitcoin News\n",
      "Ether will continue to outperform bitcoin in near term, says crypto asset manager\n",
      "Mt. Gox Bitcoin Transfer: CryptoQuant Analyzes Potential Market Effects Of The $9.4B Movement\n",
      "Bitcoin Price Struggles: Can the Leading Cryptocurrency Start Fresh Increase?\n",
      "Building the Future of Bitcoin Education\n",
      "Bitcoin drops to $67,000 level, and Gemini returns more than $2 billion to users\n",
      "Donald Trump Pledges to Stop Biden's Anti-Crypto Agenda, Protect Bitcoin, Free Ross Ulbricht – Featured Bitcoin News\n",
      "Bitcoin Price Stalls Near ATH: What’s Next – Breakout or Breakdown?\n"
     ]
    }
   ],
   "source": [
    "import requests\n",
    "from bs4 import BeautifulSoup\n",
    "\n",
    "# Define the URL of the Google News page\n",
    "url = \"https://news.google.com/search?q=bitcoin&hl=en-US&gl=US&ceid=US%3Aen\"\n",
    "\n",
    "# Fetch the HTML content of the page\n",
    "response = requests.get(url)\n",
    "html_content = response.content\n",
    "\n",
    "# Parse the HTML content with BeautifulSoup\n",
    "soup = BeautifulSoup(html_content, 'html.parser')\n",
    "\n",
    "headlines = soup.find_all('a', class_='JtKRv')\n",
    "\n",
    "# Print all the headlines\n",
    "for headline in headlines:\n",
    "    print(headline.text)\n",
    "\n",
    "# Optionally, extract URLs of the news articles\n",
    "#for headline in headlines:\n",
    "#    print(f\"https://news.google.com{headline['href'][1:]}\")"
   ]
  },
  {
   "cell_type": "code",
   "execution_count": 108,
   "metadata": {},
   "outputs": [
    {
     "name": "stdout",
     "output_type": "stream",
     "text": [
      "Traders say Bitcoin price fights “last resistance” at $69K before new all-time highs"
     ]
    }
   ],
   "source": [
    "from langchain_core.prompts.prompt import PromptTemplate\n",
    "\n",
    "llm = ChatOpenAI(api_key=os.getenv(\"OPENAI_API_KEY\"))\n",
    "\n",
    "template = \"\"\"\n",
    "You need to clean data. This is an example:\n",
    "This is an example of a news article:\n",
    "<a class=\"JtKRv\" data-n-tid=\"29\" href=\"./articles/CBMilgFodHRwczovL3d3dy5mb3JiZXMuY29tL3NpdGVzL2RpZ2l0YWwtYXNzZXRzLzIwMjQvMDUvMzAvZ29sZG1hbi1zYWNocy1pc3N1ZXMtYXN0b25pc2hpbmctYml0Y29pbi1hbmQtZXRoZXJldW0tZXRmLXByZWRpY3Rpb24tYWZ0ZXItcHJpY2UtdHVybmluZy1wb2ludC_SAQA?hl=en-US&amp;gl=US&amp;ceid=US%3Aen\" jsaction=\"click:kkIcoc;\" tabindex=\"0\" target=\"_blank\">Goldman Sachs Issues 'Astonishing' Bitcoin And Ethereum ETF Prediction After Price 'Turning Point'</a>\n",
    "This is how it should look like:\n",
    "Goldman Sachs Issues 'Astonishing' Bitcoin And Ethereum ETF Prediction After Price 'Turning Point'\n",
    "\n",
    "String to clean: {string}\n",
    "Cleaned string:\"\"\"\n",
    "prompt_custom = PromptTemplate.from_template(template)\n",
    "\n",
    "from langchain_core.runnables import RunnablePassthrough\n",
    "\n",
    "rag_chain = (\n",
    "    {\"string\": RunnablePassthrough()}\n",
    "    | prompt_custom\n",
    "    | llm\n",
    "    | StrOutputParser()\n",
    ")\n",
    "\n",
    "for chunk in rag_chain.stream(headlines[0]):\n",
    "    print(chunk, end=\"\", flush=True)\n"
   ]
  },
  {
   "cell_type": "code",
   "execution_count": 41,
   "metadata": {},
   "outputs": [
    {
     "name": "stdout",
     "output_type": "stream",
     "text": [
      "[Document(page_content=\"\\n\\n\\n\\n\\nLangSmith User Guide | 🦜️🛠️ LangSmith\\n\\n\\n\\n\\n\\n\\n\\nSkip to main contentLangSmith API DocsSearchGo to AppQuick StartUser GuideTracingEvaluationProduction Monitoring & AutomationsPrompt HubProxyPricingSelf-HostingCookbookThis is outdated documentation for 🦜️🛠️ LangSmith, which is no longer actively maintained.For up-to-date documentation, see the latest version.User GuideOn this pageLangSmith User GuideLangSmith is a platform for LLM application development, monitoring, and testing. In this guide, we’ll highlight the breadth of workflows LangSmith supports and how they fit into each stage of the application development lifecycle. We hope this will inform users how to best utilize this powerful platform or give them something to consider if they’re just starting their journey.Prototyping\\u200bPrototyping LLM applications often involves quick experimentation between prompts, model types, retrieval strategy and other parameters.\\nThe ability to rapidly understand how the model is performing — and debug where it is failing — is incredibly important for this phase.Debugging\\u200bWhen developing new LLM applications, we suggest having LangSmith tracing enabled by default.\\nOftentimes, it isn’t necessary to look at every single trace. However, when things go wrong (an unexpected end result, infinite agent loop, slower than expected execution, higher than expected token usage), it’s extremely helpful to debug by looking through the application traces. LangSmith gives clear visibility and debugging information at each step of an LLM sequence, making it much easier to identify and root-cause issues.\\nWe provide native rendering of chat messages, functions, and retrieve documents.Initial Test Set\\u200bWhile many developers still ship an initial version of their application based on “vibe checks”, we’ve seen an increasing number of engineering teams start to adopt a more test driven approach. LangSmith allows developers to create datasets, which are collections of inputs and reference outputs, and use these to run tests on their LLM applications.\\nThese test cases can be uploaded in bulk, created on the fly, or exported from application traces. LangSmith also makes it easy to run custom evaluations (both LLM and heuristic based) to score test results.Comparison View\\u200bWhen prototyping different versions of your applications and making changes, it’s important to see whether or not you’ve regressed with respect to your initial test cases.\\nOftentimes, changes in the prompt, retrieval strategy, or model choice can have huge implications in responses produced by your application.\\nIn order to get a sense for which variant is performing better, it’s useful to be able to view results for different configurations on the same datapoints side-by-side. We’ve invested heavily in a user-friendly comparison view for test runs to track and diagnose regressions in test scores across multiple revisions of your application.Playground\\u200bLangSmith provides a playground environment for rapid iteration and experimentation.\\nThis allows you to quickly test out different prompts and models. You can open the playground from any prompt or model run in your trace.\\nEvery playground run is logged in the system and can be used to create test cases or compare with other runs.Beta Testing\\u200bBeta testing allows developers to collect more data on how their LLM applications are performing in real-world scenarios. In this phase, it’s important to develop an understanding for the types of inputs the app is performing well or poorly on and how exactly it’s breaking down in those cases. Both feedback collection and run annotation are critical for this workflow. This will help in curation of test cases that can help track regressions/improvements and development of automatic evaluations.Capturing Feedback\\u200bWhen launching your application to an initial set of users, it’s important to gather human feedback on the responses it’s producing. This helps draw attention to the most interesting runs and highlight edge cases that are causing problematic responses. LangSmith allows you to attach feedback scores to logged traces (oftentimes, this is hooked up to a feedback button in your app), then filter on traces that have a specific feedback tag and score. A common workflow is to filter on traces that receive a poor user feedback score, then drill down into problematic points using the detailed trace view.Annotating Traces\\u200bLangSmith also supports sending runs to annotation queues, which allow annotators to closely inspect interesting traces and annotate them with respect to different criteria. Annotators can be PMs, engineers, or even subject matter experts. This allows users to catch regressions across important evaluation criteria.Adding Runs to a Dataset\\u200bAs your application progresses through the beta testing phase, it's essential to continue collecting data to refine and improve its performance. LangSmith enables you to add runs as examples to datasets (from both the project page and within an annotation queue), expanding your test coverage on real-world scenarios. This is a key benefit in having your logging system and your evaluation/testing system in the same platform.Production\\u200bClosely inspecting key data points, growing benchmarking datasets, annotating traces, and drilling down into important data in trace view are workflows you’ll also want to do once your app hits production.However, especially at the production stage, it’s crucial to get a high-level overview of application performance with respect to latency, cost, and feedback scores. This ensures that it's delivering desirable results at scale.Online evaluations and automations allow you to process and score production traces in near real-time.Additionally, threads provide a seamless way to group traces from a single conversation, making it easier to track the performance of your application across multiple turns.Monitoring and A/B Testing\\u200bLangSmith provides monitoring charts that allow you to track key metrics over time. You can expand to view metrics for a given period and drill down into a specific data point to get a trace table for that time period — this is especially handy for debugging production issues.LangSmith also allows for tag and metadata grouping, which allows users to mark different versions of their applications with different identifiers and view how they are performing side-by-side within each chart. This is helpful for A/B testing changes in prompt, model, or retrieval strategy.Automations\\u200bAutomations are a powerful feature in LangSmith that allow you to perform actions on traces in near real-time. This can be used to automatically score traces, send them to annotation queues, or send them to datasets.To define an automation, simply provide a filter condition, a sampling rate, and an action to perform. Automations are particularly helpful for processing traces at production scale.Threads\\u200bMany LLM applications are multi-turn, meaning that they involve a series of interactions between the user and the application. LangSmith provides a threads view that groups traces from a single conversation together, making it easier to track the performance of and annotate your application across multiple turns.Was this page helpful?You can leave detailed feedback on GitHub.PreviousQuick StartNextOverviewPrototypingBeta TestingProductionCommunityDiscordTwitterGitHubDocs CodeLangSmith SDKPythonJS/TSMoreHomepageBlogLangChain Python DocsLangChain JS/TS DocsCopyright © 2024 LangChain, Inc.\\n\\n\\n\\n\", metadata={'source': 'https://docs.smith.langchain.com/user_guide', 'title': 'LangSmith User Guide | 🦜️🛠️ LangSmith', 'description': 'LangSmith is a platform for LLM application development, monitoring, and testing. In this guide, we’ll highlight the breadth of workflows LangSmith supports and how they fit into each stage of the application development lifecycle. We hope this will inform users how to best utilize this powerful platform or give them something to consider if they’re just starting their journey.', 'language': 'en'}), Document(page_content='\\n\\n\\n\\n\\nGet started with LangSmith | 🦜️🛠️ LangSmith\\n\\n\\n\\n\\n\\n\\n\\nSkip to main contentLangSmith API DocsSearchGo to AppQuick startTutorialsHow-to guidesConceptsReferencePricingSelf-hostingQuick startOn this pageGet started with LangSmithLangSmith is a platform for building production-grade LLM applications. It allows you to closely monitor and evaluate your application, so you can ship quickly and with confidence. Use of LangChain is not necessary - LangSmith works on its own!1. Install LangSmith\\u200bPythonTypeScriptpip install -U langsmithyarn add langchain langsmith2. Create an API key\\u200bTo create an API key head to the Settings page. Then click Create API Key.3. Set up your environment\\u200bShellexport LANGCHAIN_TRACING_V2=trueexport LANGCHAIN_API_KEY=<your-api-key># The below examples use the OpenAI API, though it\\'s not necessary in generalexport OPENAI_API_KEY=<your-openai-api-key>4. Log your first trace\\u200bWe provide multiple ways to log traces to LangSmith. Below, we\\'ll highlight\\nhow to use traceable. See more on the Annotate code for tracing page.PythonTypeScriptimport openaifrom langsmith.wrappers import wrap_openaifrom langsmith import traceable# Auto-trace LLM calls in-contextclient = wrap_openai(openai.Client())@traceable # Auto-trace this functiondef pipeline(user_input: str):    result = client.chat.completions.create(        messages=[{\"role\": \"user\", \"content\": user_input}],        model=\"gpt-3.5-turbo\"    )    return result.choices[0].message.contentpipeline(\"Hello, world!\")# Out:  Hello there! How can I assist you today?import { OpenAI } from \"openai\";import { traceable } from \"langsmith/traceable\";import { wrapOpenAI } from \"langsmith/wrappers\";// Auto-trace LLM calls in-contextconst client = wrapOpenAI(new OpenAI());// Auto-trace this functionconst pipeline = traceable(async (user_input) => {    const result = await client.chat.completions.create({        messages: [{ role: \"user\", content: user_input }],        model: \"gpt-3.5-turbo\",    });    return result.choices[0].message.content;});await pipeline(\"Hello, world!\")// Out: Hello there! How can I assist you today?View a sample output trace.Learn more about tracing in the how-to guides.5. Run your first evaluation\\u200bEvaluation requires a system to test, data to serve as test cases, and optionally evaluators to grade the results. Here we use a built-in accuracy evaluator.PythonTypeScriptfrom langsmith import Clientfrom langsmith.evaluation import evaluateclient = Client()# Define dataset: these are your test casesdataset_name = \"Sample Dataset\"dataset = client.create_dataset(dataset_name, description=\"A sample dataset in LangSmith.\")client.create_examples(    inputs=[        {\"postfix\": \"to LangSmith\"},        {\"postfix\": \"to Evaluations in LangSmith\"},    ],    outputs=[        {\"output\": \"Welcome to LangSmith\"},        {\"output\": \"Welcome to Evaluations in LangSmith\"},    ],    dataset_id=dataset.id,)# Define your evaluatordef exact_match(run, example):    return {\"score\": run.outputs[\"output\"] == example.outputs[\"output\"]}experiment_results = evaluate(    lambda input: \"Welcome \" + input[\\'postfix\\'], # Your AI system goes here    data=dataset_name, # The data to predict and grade over    evaluators=[exact_match], # The evaluators to score the results    experiment_prefix=\"sample-experiment\", # The name of the experiment    metadata={      \"version\": \"1.0.0\",      \"revision_id\": \"beta\"    },)import { Client, Run, Example } from \"langsmith\";import { evaluate } from \"langsmith/evaluation\";import { EvaluationResult } from \"langsmith/evaluation\";const client = new Client();// Define dataset: these are your test casesconst datasetName = \"Sample Dataset\";const dataset = await client.createDataset(datasetName, {  description: \"A sample dataset in LangSmith.\",});await client.createExamples({  inputs: [    { postfix: \"to LangSmith\" },    { postfix: \"to Evaluations in LangSmith\" },  ],  outputs: [    { output: \"Welcome to LangSmith\" },    { output: \"Welcome to Evaluations in LangSmith\" },  ],  datasetId: dataset.id,});// Define your evaluatorconst exactMatch = async (  run: Run,  example: Example): Promise<EvaluationResult> => {  return {    key: \"exact_match\",    score: run.outputs?.output === example?.outputs?.output,  };};await evaluate(  (input: { postfix: string }) => ({ output: `Welcome ${input.postfix}` }),  {    data: datasetName,    evaluators: [exactMatch],    metadata: {      version: \"1.0.0\",      revision_id: \"beta\",    },  });Learn more about evaluation in the how-to guides.Was this page helpful?You can leave detailed feedback on GitHub.NextTutorials1. Install LangSmith2. Create an API key3. Set up your environment4. Log your first trace5. Run your first evaluationCommunityDiscordTwitterGitHubDocs CodeLangSmith SDKPythonJS/TSMoreHomepageBlogLangChain Python DocsLangChain JS/TS DocsCopyright © 2024 LangChain, Inc.\\n\\n\\n\\n', metadata={'source': 'https://docs.smith.langchain.com', 'title': 'Get started with LangSmith | 🦜️🛠️ LangSmith', 'description': 'LangSmith is a platform for building production-grade LLM applications. It allows you to closely monitor and evaluate your application, so you can ship quickly and with confidence. Use of LangChain is not necessary - LangSmith works on its own!', 'language': 'en'})]\n"
     ]
    }
   ],
   "source": [
    "# Multiple URLs\n",
    "website_urls = [\n",
    "    \"https://docs.smith.langchain.com/user_guide\",\n",
    "    \"https://docs.smith.langchain.com\",\n",
    "]\n",
    "\n",
    "# Initialize an empty list to store all documents\n",
    "all_documents = []\n",
    "\n",
    "# Loop through website URLs and use WebBaseLoader for each\n",
    "for url in website_urls:\n",
    "  loader = WebBaseLoader(url)\n",
    "  website_documents = loader.load()\n",
    "  all_documents.extend(website_documents)\n",
    "\n",
    "# Process the all_documents list further (e.g., vectorization)\n",
    "\n",
    "print(all_documents)"
   ]
  },
  {
   "cell_type": "code",
   "execution_count": 42,
   "metadata": {},
   "outputs": [],
   "source": [
    "# 3.2 Load openAI embedding model to get the embeddings of the documents\n",
    "from langchain_openai import OpenAIEmbeddings\n",
    "embeddings = OpenAIEmbeddings()"
   ]
  },
  {
   "cell_type": "code",
   "execution_count": 43,
   "metadata": {},
   "outputs": [],
   "source": [
    "# 3.3 Add vector store\n",
    "from langchain_community.vectorstores import FAISS\n",
    "from langchain_text_splitters import RecursiveCharacterTextSplitter\n",
    "\n",
    "\n",
    "text_splitter = RecursiveCharacterTextSplitter()\n",
    "documents = text_splitter.split_documents(all_documents)\n",
    "vector_store = FAISS.from_documents(documents, embeddings)"
   ]
  },
  {
   "cell_type": "code",
   "execution_count": 44,
   "metadata": {},
   "outputs": [
    {
     "name": "stdout",
     "output_type": "stream",
     "text": [
      "<faiss.swigfaiss.IndexFlatL2; proxy of <Swig Object of type 'faiss::IndexFlatL2 *' at 0x7fc2726fb360> >\n",
      "Vector 0: [-0.0080638   0.01916084  0.01222096 ... -0.00213274  0.02612103\n",
      " -0.01153036]\n",
      "Vector 1: [-0.02374188  0.01507666  0.00888921 ...  0.01401275  0.00637293\n",
      " -0.01765243]\n",
      "Vector 2: [-0.01742077  0.01093862  0.01232167 ...  0.00759277 -0.00432376\n",
      " -0.01816119]\n",
      "Vector 3: [-0.021696    0.01003824  0.01190209 ... -0.00271375 -0.0079929\n",
      " -0.03096637]\n",
      "Vector 4: [ 0.00756025  0.01780557  0.01517474 ...  0.00688559  0.0135542\n",
      " -0.00869937]\n",
      "Vector 5: [ 0.00599423  0.00548193  0.00797372 ...  0.01548741  0.00085122\n",
      " -0.02121678]\n",
      "Vector 6: [-0.00539542  0.00660179  0.00760884 ... -0.00329915 -0.01941373\n",
      " -0.05169536]\n"
     ]
    }
   ],
   "source": [
    "# Retrieve vectors from the vector store\n",
    "\n",
    "# This is the underlying FAISS index\n",
    "faiss_index = vector_store.index\n",
    "print(faiss_index)\n",
    "\n",
    "# 0 is the starting index and faiss_index.ntotal is the ending index\n",
    "vectors = faiss_index.reconstruct_n(0, faiss_index.ntotal)\n",
    "for i, vector in enumerate(vectors):\n",
    "    print(f\"Vector {i}: {vector}\")"
   ]
  },
  {
   "cell_type": "code",
   "execution_count": 88,
   "metadata": {},
   "outputs": [
    {
     "name": "stdout",
     "output_type": "stream",
     "text": [
      "input_variables=['context', 'question'] template='Use the following pieces of context to answer the question at the end.\\nIf you don\\'t know the answer, just say that you don\\'t know. Use three sentences maximum and keep the answer as concise as possible.\\nAlways say \"thanks for asking!\" at the end of the answer.\\n{context}\\nQuestion: {question}\\nHelpful Answer:'\n"
     ]
    }
   ],
   "source": [
    "from langchain import hub\n",
    "\n",
    "#We can use PromptTemplate to add more instructions to our input for the LLM, (instructions, context from retriever and the question user wants to ask)\n",
    "from langchain_core.prompts.prompt import PromptTemplate\n",
    "\n",
    "template = \"\"\"Use the following pieces of context to answer the question at the end.\n",
    "If you don't know the answer, just say that you don't know. Use three sentences maximum and keep the answer as concise as possible.\n",
    "Always say \"thanks for asking!\" at the end of the answer.\n",
    "{context}\n",
    "Question: {question}\n",
    "Helpful Answer:\"\"\"\n",
    "prompt_custom = PromptTemplate.from_template(template)\n",
    "\n",
    "print(prompt_custom)"
   ]
  },
  {
   "cell_type": "code",
   "execution_count": 73,
   "metadata": {},
   "outputs": [
    {
     "name": "stdout",
     "output_type": "stream",
     "text": [
      "Task Decomposition is the process of breaking down a task into smaller, more manageable subtasks. It helps in organizing and tracking the performance of an application across multiple interactions. This approach can assist in identifying areas for improvement and enhancing overall efficiency."
     ]
    }
   ],
   "source": [
    "retriever = vector_store.as_retriever()\n",
    "\n",
    "from langchain_core.output_parsers import StrOutputParser\n",
    "from langchain_core.runnables import RunnablePassthrough\n",
    "\n",
    "\n",
    "def format_docs(docs):\n",
    "    return \"\\n\\n\".join(doc.page_content for doc in docs)\n",
    "\n",
    "\n",
    "rag_chain = (\n",
    "    {\"context\": retriever | format_docs, \"question\": RunnablePassthrough()}\n",
    "    | prompt\n",
    "    | llm\n",
    "    | StrOutputParser()\n",
    ")\n",
    "\n",
    "#print(rag_chain)\n",
    "\n",
    "for chunk in rag_chain.stream(\"What is Task Decomposition?\"):\n",
    "    print(chunk, end=\"\", flush=True)\n",
    "\n"
   ]
  },
  {
   "cell_type": "code",
   "execution_count": null,
   "metadata": {},
   "outputs": [],
   "source": []
  }
 ],
 "metadata": {
  "kernelspec": {
   "display_name": "openai",
   "language": "python",
   "name": "python3"
  },
  "language_info": {
   "codemirror_mode": {
    "name": "ipython",
    "version": 3
   },
   "file_extension": ".py",
   "mimetype": "text/x-python",
   "name": "python",
   "nbconvert_exporter": "python",
   "pygments_lexer": "ipython3",
   "version": "3.9.18"
  }
 },
 "nbformat": 4,
 "nbformat_minor": 2
}
