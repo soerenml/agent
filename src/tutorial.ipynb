{
 "cells": [
  {
   "cell_type": "markdown",
   "metadata": {},
   "source": [
    "# Langchain tutorial"
   ]
  },
  {
   "cell_type": "code",
   "execution_count": 143,
   "metadata": {},
   "outputs": [],
   "source": [
    "import os\n",
    "from dotenv import load_dotenv\n",
    "\n",
    "# Load the environment variables\n",
    "load_dotenv()\n",
    "\n",
    "from langchain_openai import ChatOpenAI\n",
    "llm = ChatOpenAI(api_key=os.getenv(\"OPENAI_API_KEY\"))"
   ]
  },
  {
   "cell_type": "markdown",
   "metadata": {},
   "source": [
    "## 1 - Most basic model query"
   ]
  },
  {
   "cell_type": "code",
   "execution_count": 144,
   "metadata": {},
   "outputs": [
    {
     "data": {
      "text/plain": [
       "AIMessage(content='Langsmith can help with testing in the following ways:\\n\\n1. Test Automation: Langsmith can be used to automate the testing process, making it faster and more efficient. It can be used to write test scripts, execute tests, and generate test reports.\\n\\n2. Test Data Generation: Langsmith can be used to generate test data that can be used to test the application under different scenarios and conditions.\\n\\n3. Performance Testing: Langsmith can be used to simulate load on the application and perform performance testing to identify bottlenecks and optimize the application.\\n\\n4. Integration Testing: Langsmith can be used to test the integration of different modules or components of the application to ensure they work together seamlessly.\\n\\n5. Regression Testing: Langsmith can be used to automate regression testing, ensuring that new code changes do not break existing functionality.\\n\\nOverall, Langsmith can help streamline the testing process, improve test coverage, and ensure the quality of the application.')"
      ]
     },
     "execution_count": 144,
     "metadata": {},
     "output_type": "execute_result"
    }
   ],
   "source": [
    "# 1 - Invoke the model\n",
    "llm.invoke(\"how can langsmith help with testing?\")"
   ]
  },
  {
   "cell_type": "markdown",
   "metadata": {},
   "source": [
    "## 2 - Prompt templates"
   ]
  },
  {
   "cell_type": "code",
   "execution_count": 148,
   "metadata": {},
   "outputs": [],
   "source": [
    "# 2.1 - Use a prompt template\n",
    "from langchain_core.prompts import ChatPromptTemplate\n",
    "prompt = ChatPromptTemplate.from_messages([\n",
    "    (\"system\", \"You are a world class technical documentation writer.\"),\n",
    "    (\"user\", \"{input}\")\n",
    "])"
   ]
  },
  {
   "cell_type": "code",
   "execution_count": 149,
   "metadata": {},
   "outputs": [],
   "source": [
    "# 2.2 - (Optional) Output parser\n",
    "from langchain_core.output_parsers import StrOutputParser\n",
    "output_parser = StrOutputParser()"
   ]
  },
  {
   "cell_type": "code",
   "execution_count": 150,
   "metadata": {},
   "outputs": [
    {
     "data": {
      "text/plain": [
       "'Langsmith is a powerful tool that can significantly aid in the testing process. Here are some ways in which Langsmith can help with testing:\\n\\n1. Automated Testing: Langsmith can be used to automate various testing tasks such as running test scripts, comparing actual results with expected results, and generating test reports. This can help in increasing the efficiency of the testing process and reducing the manual effort required.\\n\\n2. Language Support: Langsmith supports multiple programming languages, which makes it suitable for testing a wide range of applications developed in different languages. This ensures that testing can be carried out effectively regardless of the technology stack used in the application.\\n\\n3. Integration with Testing Frameworks: Langsmith can be integrated with popular testing frameworks such as JUnit, Selenium, and TestNG. This allows testers to leverage the features of these frameworks along with the capabilities of Langsmith to create comprehensive and effective test suites.\\n\\n4. Performance Testing: Langsmith can be used for performance testing to analyze the performance of an application under different load conditions. Testers can simulate various user scenarios and measure the response time and throughput of the application to identify performance bottlenecks.\\n\\n5. Continuous Testing: Langsmith can be integrated with continuous integration and continuous delivery (CI/CD) pipelines to enable automated testing at each stage of the development process. This ensures that any issues are identified early and can be fixed before they impact the overall quality of the application.\\n\\nOverall, Langsmith can help in improving the quality, efficiency, and reliability of testing activities, making it an invaluable tool for testing teams.'"
      ]
     },
     "execution_count": 150,
     "metadata": {},
     "output_type": "execute_result"
    }
   ],
   "source": [
    "chain = prompt | llm | output_parser\n",
    "chain.invoke({\"input\": \"how can langsmith help with testing?\"})"
   ]
  },
  {
   "cell_type": "markdown",
   "metadata": {},
   "source": [
    "## 3 - Retrieval chains"
   ]
  },
  {
   "cell_type": "code",
   "execution_count": 151,
   "metadata": {},
   "outputs": [
    {
     "data": {
      "text/plain": [
       "['BlackRock’s bitcoin ETF on verge of eclipsing Grayscale’s fund',\n",
       " \"Bitcoin ETFs are an 'astonishing success,' Goldman Sachs executive says\",\n",
       " \"Goldman Sachs Issues 'Astonishing' Bitcoin And Ethereum ETF Prediction After Price 'Turning Point'\",\n",
       " \"Bitcoin Halving Post Mortem: Insights from Hashrate Index's Q1-2024 Report\",\n",
       " 'Bitcoin Could Skyrocket to ‘Unprecedented Heights’ if This Happens, According to Glassnode Co-Founders',\n",
       " 'Researchers find lost password to crypto wallet holding 43.6 BTC: Wired',\n",
       " \"Researchers 'hack time' to recover $3 million bitcoin wallet\",\n",
       " 'This guy got $3 million in Bitcoin back after he lost an 11-year-old password',\n",
       " 'How 1,500 new Bitcoin millionaires per day deal with getting rich',\n",
       " \"Companies in Two Capital Markets Reportedly in Negotiations to Implement Microstrategy's Bitcoin Business Model ...\",\n",
       " \"Traders say Bitcoin price fights 'last resistance' at $69K before new all-time highs\",\n",
       " 'Janet Yellen Issues Serious $34 Trillion Warning As Bitcoin Predicted To Surge To $1 Million Price',\n",
       " 'Elon Musk, Donald Trump Discuss Bitcoin (BTC), Crypto Policy Ahead of Election',\n",
       " 'Semler Scientific® Announces Bitcoin Treasury Strategy',\n",
       " \"Med tech stock Semler Scientific takes bitcoin play from MicroStrategy's book, surges 37%\",\n",
       " \"Is Semler Scientific Adopting MicroStrategy's Bitcoin Treasury Playbook?\",\n",
       " 'Bitcoin Staking Project Babylon Raises $70M Led by Paradigm',\n",
       " 'Paradigm leads $70 million raise for Bitcoin staking protocol Babylon',\n",
       " 'Babylon Bitcoin Project Raises $70 Million in Paradigm-Led Funding Round',\n",
       " 'How Researchers Cracked an 11-Year-Old Password to a $3 Million Crypto Wallet',\n",
       " 'How Bitcoin Hackers Recovered $3 Million From Wallet Locked In 2013',\n",
       " \"BlackRock's ETF becomes largest bitcoin fund in world, Bloomberg News reports\",\n",
       " 'Do Exchange-Traded Products Improve Bitcoin Trading? - Liberty Street Economics',\n",
       " 'How Will Crypto Markets React to Massive $4.7B Bitcoin Options Expiry Today?',\n",
       " 'Could BlackRock Change The Issuance Schedule Of Bitcoin?',\n",
       " 'University of Austin And Unchained To Raise $5 Million For Bitcoin Endowment',\n",
       " \"BlackRock's IBIT becomes largest spot bitcoin ETF, surpassing Grayscale's GBTC\",\n",
       " 'Bitcoin Retreats as Traders Mull Risk of Sales Linked to Mt. Gox',\n",
       " 'El Salvador Attracts A New Bitcoin Mining Company To The Country',\n",
       " 'What Is Bitcoin And How Does It Work?',\n",
       " \"BlackRock's $20 Billion IBIT Fund Is World's Biggest Bitcoin (BTC) ETF\",\n",
       " 'Prediction: Bitcoin Will Reach $80,000 in 2024',\n",
       " 'Bitcoin and Ether ETF Markets Expected to Grow to $450B: Bernstein',\n",
       " \"Franklin Templeton's Jenny Johnson on Bitcoin ETFs, RWA Tokenization and Blockchain's Potential for TradFi\",\n",
       " 'Bitcoin blockchain size 2009-2024',\n",
       " '10 Best Cryptocurrencies of May 2024',\n",
       " 'Bitcoin price falls below $68,000 following transfer worth $9.6 billion from Mt. Gox cold wallet',\n",
       " 'First Mover Americas: Bitcoin Falls Below $68K After $9B Mt. Gox Transfer',\n",
       " 'NYSE Plans Bitcoin Options, Bringing Another TradFi Giant Into Crypto',\n",
       " 'Mt Gox distributions may not be all doom and gloom for bitcoin',\n",
       " \"The 2024 Bitcoin Halving Is Still Playing Out. Here's What to Expect Next.\",\n",
       " \"Is The MEV Monster Under Bitcoin's Bed?\",\n",
       " \"World's Largest Bitcoin Conference Launches CLE Program in Nashville\",\n",
       " 'Medical Device Maker Semler Scientific Stock Rises 25% After $40M Bitcoin Investment',\n",
       " 'Ether Spot ETFs to See Much Lower Demand Than Bitcoin Versions, JPMorgan Says',\n",
       " 'Mastercard Crypto Credential Launches with \"First Peer-to-Peer Pilot Transactions\"',\n",
       " \"This type of coin is 'among the riskiest of cryptocurrencies,' investing expert says—here's what to know\",\n",
       " 'Bitcoin market split as buying and selling volumes remain the same',\n",
       " 'Bitcoin firm, Texas university partner for $5M endowment fund',\n",
       " \"BlackRock's $20 Billion IBIT Becomes The World's Largest Bitcoin ETF\",\n",
       " \"Bitcoin in 42-day 'boredom zone' — traders debate next move\",\n",
       " 'Bitcoin Finds A New Consolidation Phase: Here’s What to Expect from BTC Price Rally In H2 2024',\n",
       " 'What Is Bitcoin?',\n",
       " 'Bitcoin faces Mt Gox uncertainty while ether awaits ETF inflows, notes QCP Capital',\n",
       " 'Prediction: The Bitcoin Halving Will Send These Cryptocurrencies Soaring',\n",
       " 'Bitcoin ETPs Begin Trading on the London Stock Exchange',\n",
       " 'Bitcoin price today: flat at $67.7k amid rate fears; MT Gox risk eases By Investing.com',\n",
       " \"Blackrock's IBIT and Fidelity's FBTC Drive $28M Inflows for US Bitcoin ETFs – Finance Bitcoin News\",\n",
       " 'Mt Gox not dumping Bitcoin just yet, Hong Kong boots out crypto exchanges: Asia Express',\n",
       " \"Goldman Sachs: Bitcoin ETFs Are an 'Astonishing Success'\",\n",
       " 'Bitcoin falls below $68,000 after Mt.Gox transfers $9 billion',\n",
       " 'This is How Bitcoin is Mirroring the 2015-2017 Bull Market',\n",
       " 'Babylon secures $70 million to turn Bitcoin into PoS security backbone',\n",
       " \"Bitcoin needs '3.3% or lower' CPI print to reach new ATH\",\n",
       " 'This CEO Is Looking For The Next Generation Of Bitcoin Fund Managers',\n",
       " 'Robert F. Kennedy Jr. ‘Delighted’ Trump Is Now Pro Bitcoin',\n",
       " 'Bitcoin boosters fear crypto world is getting ‘rug pulled’ by Congress',\n",
       " 'Risky New Experiments Attract Billions of Dollars in Bitcoin',\n",
       " \"BlackRock Now Runs the World's Largest Bitcoin Fund\",\n",
       " 'Hackers finally unlock $3 million Bitcoin wallet after man forgot password for 11 years',\n",
       " 'ETH/BTC Price Set Up for A 22% Run As Blackrock’s BTC ETF Hits $20 Billion',\n",
       " 'Hackers Recover $3,000,000 in Lost Bitcoin From 11-Year Old Wallet After Owner Lost Password: Report',\n",
       " 'Trump Interested in Using Bitcoin to Solve the US National Debt Problem – Economics Bitcoin News',\n",
       " 'Crypto Prices Today May 31: Bitcoin Tops $68.5K, ETH Below $3,800 While NOT Pumps Non-Stop',\n",
       " 'What Is Bitcoin Cash (BCH), and How Does It Work?',\n",
       " 'Researchers cracked open $1.6 million Bitcoin wallet after 20-character password was lost — well worth the six months ...',\n",
       " 'Bitcoin drops to $67,000 level, and Gemini returns more than $2 billion to users',\n",
       " 'Mt. Gox Bitcoin Dump Looms: Opportunity for Altcoins, Bloodbath for BTC?',\n",
       " \"Binance: Bitcoin has a scalability issue, but there's hope in solutions\",\n",
       " '$1,000,000 Bitcoin Price Is Possible Within the Next 18 Months, Says Strike CEO Jack Mallers – Here’s Why',\n",
       " '41% of Voters Looking at Bitcoin and Crypto Due to Weakening Dollar and Political Tensions: Grayscale Survey',\n",
       " \"JPMorgan warns of 'negative' initial market reaction to spot ethereum ETFs\",\n",
       " 'Bitcoin on Cusp of Entering Parabolic Phase of the Cycle, Says Crypto Analyst – Here’s the Timeline',\n",
       " 'Bitcoin: A New Hope for Innovators in Corrupt Economies',\n",
       " \"Here's What XRP Price Could be if Bitcoin Hits $155,000\",\n",
       " \"State is 'underinvested' in bitcoin EFTs despite recent purchase, says UW-Whitewater professor\",\n",
       " 'Bitcoin, Ether Prices Ease as SHIB Drives Gains in Meme Tokens',\n",
       " \"Cardano (ADA) Is In Catastrophic State, Bitcoin (BTC) Future to Surprise You, Solana (SOL) Can Still Be Saved: Here's How\",\n",
       " 'Fold Will Be Your Bitcoin Bank With CEO Will Reeves',\n",
       " \"Bitcoin price aims for $69K as 'hot' US macro data pressures dollar\",\n",
       " 'Healthcare Company Semler Scientific Buys $40 Million Bitcoin, Adopts As Treasury Reserve Asset',\n",
       " 'Trump Inquired if Bitcoin Could Aid in Solving the $35 Trillion US National Debt Problem – News Bytes Bitcoin News',\n",
       " 'NYSE To Launch Products Tracking Spot Bitcoin Prices',\n",
       " 'Healthcare tech company shares surge 27% after announcing plans to buy bitcoin with cash reserves',\n",
       " 'Ether And Bitcoin: The Next Leg Up',\n",
       " \"Bullish Bitcoin options dominate May's $6.5 billion expiry\",\n",
       " 'Jack Dorsey-backed Bitcoin mining pool opens headquarters in El Salvador',\n",
       " 'Bitcoin Technical Analysis: BTC Shows Consolidation Phase Amid Recent Volatility – Markets and Prices Bitcoin News',\n",
       " \"BlackRock's IBIT overtakes GBTC as the world's largest Bitcoin ETF\",\n",
       " 'Ether will continue to outperform bitcoin in near term, says crypto asset manager']"
      ]
     },
     "execution_count": 151,
     "metadata": {},
     "output_type": "execute_result"
    }
   ],
   "source": [
    "# Scrape google news\n",
    "\n",
    "import requests\n",
    "from bs4 import BeautifulSoup\n",
    "\n",
    "# Define the URL of the Google News page\n",
    "url = \"https://news.google.com/search?q=bitcoin&hl=en-US&gl=US&ceid=US%3Aen\"\n",
    "\n",
    "# Fetch the HTML content of the page\n",
    "response = requests.get(url)\n",
    "html_content = response.content\n",
    "\n",
    "# Parse the HTML content with BeautifulSoup\n",
    "soup = BeautifulSoup(html_content, 'html.parser')\n",
    "\n",
    "headlines = soup.find_all('a', class_='JtKRv')\n",
    "\n",
    "# Print all the headlines\n",
    "all_headlines = []\n",
    "for headline in headlines:\n",
    "    all_headlines.append(headline.text)\n",
    "\n",
    "all_headlines\n",
    "# Optionally, extract URLs of the news articles\n",
    "#for headline in headlines:\n",
    "#    print(f\"https://news.google.com{headline['href'][1:]}\")"
   ]
  },
  {
   "cell_type": "code",
   "execution_count": 152,
   "metadata": {},
   "outputs": [],
   "source": [
    "from langchain_core.prompts.prompt import PromptTemplate\n",
    "\n",
    "template = \"\"\"\n",
    "You are the best financial analyst in the world. You were educated at Harvard and have been working in the industry for 20 years.\n",
    "These are the headlines of Google News articles about Bitcoin:\n",
    "Headlines: {string}\n",
    "Task: Provide me with an analysis how the bitcoin is going to move in the next three days.\"\"\"\n",
    "\n",
    "prompt_custom = PromptTemplate.from_template(template)\n",
    "\n",
    "from langchain_core.runnables import RunnablePassthrough\n",
    "\n",
    "rag_chain = (\n",
    "    {\"string\": RunnablePassthrough()}\n",
    "    | prompt_custom\n",
    "    | llm\n",
    "    | StrOutputParser()\n",
    ")\n",
    "result_1 = rag_chain.invoke({\"string\": all_headlines})\n",
    "\n",
    "## If results should be streamed\n",
    "# for chunk in rag_chain.stream(all_headlines):\n",
    "#     print(chunk, end=\"\", flush=True)"
   ]
  },
  {
   "cell_type": "code",
   "execution_count": 133,
   "metadata": {},
   "outputs": [
    {
     "data": {
      "text/plain": [
       "\"Based on the headlines provided, it is clear that the Bitcoin market is currently experiencing a mix of positive and negative news. Traders are optimistic about new all-time highs, while concerns about inflation, rate jitters, and Mt. Gox transfers are weighing on sentiment. Additionally, there are discussions around the potential impact of macro data, ETF predictions, and staking protocols on the price of Bitcoin.\\n\\nTaking all these factors into consideration, it is likely that Bitcoin will continue to face volatility in the coming days. The resistance at $69K may be a key level to watch, as traders assess the market sentiment and news developments. The outcome of the U.S. inflation data, Mt. Gox transfers, and ETF predictions could have a significant impact on Bitcoin's price movement.\\n\\nOverall, it is important to monitor the market closely and stay informed about any new developments that could influence the price of Bitcoin. The next three days are likely to be crucial in determining the direction of Bitcoin's movement. Investors and traders should be prepared for potential fluctuations and adjust their strategies accordingly.\""
      ]
     },
     "execution_count": 133,
     "metadata": {},
     "output_type": "execute_result"
    }
   ],
   "source": [
    "result_1"
   ]
  },
  {
   "cell_type": "markdown",
   "metadata": {},
   "source": [
    "# Bitcoin"
   ]
  },
  {
   "cell_type": "code",
   "execution_count": 153,
   "metadata": {},
   "outputs": [
    {
     "name": "stderr",
     "output_type": "stream",
     "text": [
      "[*********************100%%**********************]  1 of 1 completed"
     ]
    },
    {
     "name": "stdout",
     "output_type": "stream",
     "text": [
      "                                   Open          High           Low  \\\n",
      "Datetime                                                              \n",
      "2024-05-28 09:00:00+00:00  68072.195312  68428.476562  67988.195312   \n",
      "2024-05-28 10:00:00+00:00  68291.921875  68801.835938  68231.195312   \n",
      "2024-05-28 11:00:00+00:00  68518.617188  68577.976562  68245.351562   \n",
      "2024-05-28 12:00:00+00:00  68326.664062  68479.226562  68191.281250   \n",
      "2024-05-28 13:00:00+00:00  68144.210938  68381.484375  67685.765625   \n",
      "\n",
      "                                  Close     Adj Close     Volume  \n",
      "Datetime                                                          \n",
      "2024-05-28 09:00:00+00:00  68308.812500  68308.812500          0  \n",
      "2024-05-28 10:00:00+00:00  68545.570312  68545.570312  889368576  \n",
      "2024-05-28 11:00:00+00:00  68293.687500  68293.687500  105232384  \n",
      "2024-05-28 12:00:00+00:00  68208.953125  68208.953125  208418816  \n",
      "2024-05-28 13:00:00+00:00  67685.765625  67685.765625  912472064  \n"
     ]
    },
    {
     "name": "stderr",
     "output_type": "stream",
     "text": [
      "\n"
     ]
    }
   ],
   "source": [
    "import yfinance as yf\n",
    "import pandas as pd\n",
    "from datetime import datetime, timedelta\n",
    "\n",
    "def download_bitcoin_data():\n",
    "    # Define the ticker symbol for Bitcoin\n",
    "    ticker_symbol = 'BTC-USD'\n",
    "\n",
    "    # Calculate the start and end dates\n",
    "    end_date = datetime.now()\n",
    "    start_date = end_date - timedelta(days=3)\n",
    "\n",
    "    # Download the data\n",
    "    bitcoin_data = yf.download(ticker_symbol, start=start_date, end=end_date, interval='1h')\n",
    "\n",
    "    return bitcoin_data\n",
    "\n",
    "bitcoin_data = download_bitcoin_data()\n",
    "\n",
    "# Display the first few rows of the dataframe\n",
    "print(bitcoin_data.head())"
   ]
  },
  {
   "cell_type": "code",
   "execution_count": 154,
   "metadata": {},
   "outputs": [],
   "source": [
    "template = \"\"\"\n",
    "You are the best chart analyst in the world. You were educated at Harvard and have been working in the industry for 20 years.\n",
    "These is the market data for bitcoin at an hourly interval for the past three days:\n",
    "Data: {string}\n",
    "Task: Provide me with an chart analysis how the bitcoin is going to move in the next three days.\"\"\"\n",
    "\n",
    "prompt_custom = PromptTemplate.from_template(template)\n",
    "\n",
    "rag_chain = (\n",
    "    {\"string\": RunnablePassthrough()}\n",
    "    | prompt_custom\n",
    "    | llm\n",
    "    | StrOutputParser()\n",
    ")\n",
    "result_2 = rag_chain.invoke({\"string\": bitcoin_data})\n",
    "\n",
    "# for chunk in rag_chain.stream(all_headlines):\n",
    "#     print(chunk, end=\"\", flush=True)"
   ]
  },
  {
   "cell_type": "code",
   "execution_count": 155,
   "metadata": {},
   "outputs": [
    {
     "data": {
      "text/plain": [
       "'Based on the provided market data for bitcoin at an hourly interval for the past three days, here is my chart analysis for how bitcoin is likely to move in the next three days:\\n\\n1. Overall Trend: Bitcoin has been experiencing fluctuations in price over the past three days, with some periods of volatility and consolidation. The overall trend has been slightly bearish, with prices showing a downward movement.\\n\\n2. Support and Resistance Levels: The support level for bitcoin appears to be around $67,000, as prices have tested this level multiple times without breaking below it. The resistance level is around $69,000, with prices struggling to break above this level.\\n\\n3. Moving Averages: The moving averages for bitcoin show a slight bearish crossover, with the short-term moving average crossing below the long-term moving average. This indicates a potential downside momentum in the short term.\\n\\n4. Volume Analysis: The trading volume for bitcoin has been fluctuating, with periods of high volume followed by low volume. This suggests that there is uncertainty in the market and that traders are unsure about the direction of the price movement.\\n\\nBased on the analysis, it is likely that bitcoin will continue to trade within the range of $67,000 to $69,000 in the next three days. However, if the support level at $67,000 is broken, we could see a further downside movement towards $65,000. On the other hand, if the resistance level at $69,000 is broken, we could see a bullish movement towards $71,000.\\n\\nPlease note that market conditions can change rapidly, so it is important to monitor the price action and news events that could impact the price of bitcoin.'"
      ]
     },
     "execution_count": 155,
     "metadata": {},
     "output_type": "execute_result"
    }
   ],
   "source": [
    "result_2"
   ]
  },
  {
   "cell_type": "markdown",
   "metadata": {},
   "source": [
    "# Manager"
   ]
  },
  {
   "cell_type": "code",
   "execution_count": 156,
   "metadata": {},
   "outputs": [],
   "source": [
    "template = \"\"\"\n",
    "You are the best financial analyst in the world. You were educated at Harvard and have been working in the industry for 60 years.\n",
    "You have been a math prodigy as a kid. You did research with Daniel Kahneman and won the Nobel Prize in Economics.\n",
    "Two of your analysts have come up with predictions for the Bitcoin price in the next three days.\n",
    "Analyst 1: {string_1}\n",
    "Analyst 2: {string_2}\n",
    "Task: You have to decide if we are going to buy or sell Bitcoin in the next three days.\"\"\"\n",
    "\n",
    "prompt_custom = PromptTemplate.from_template(template)\n",
    "\n",
    "rag_chain = (\n",
    "    {\"string_1\": RunnablePassthrough(), \"string_2\": RunnablePassthrough()}\n",
    "    | prompt_custom\n",
    "    | llm\n",
    "    | StrOutputParser()\n",
    ")\n",
    "result = rag_chain.invoke({\"string_1\": result_1, \"string_2\": result_2})\n",
    "\n",
    "# for chunk in rag_chain.stream(all_headlines):\n",
    "#     print(chunk, end=\"\", flush=True)"
   ]
  },
  {
   "cell_type": "code",
   "execution_count": 157,
   "metadata": {},
   "outputs": [
    {
     "data": {
      "text/plain": [
       "'Based on the analysis provided by both Analyst 1 and Analyst 2, it seems that there is a consensus that Bitcoin will likely continue to experience positive momentum in the next three days. The positive sentiment, activity surrounding Bitcoin, and potential increase in demand and price for Bitcoin suggest a bullish outlook.\\n\\nHowever, it is important to note that the cryptocurrency market is highly volatile and unpredictable, and external factors can impact the price of Bitcoin. Both analysts also highlighted the importance of closely monitoring market trends and news updates.\\n\\nGiven the analysis and the potential for Bitcoin to trade within the range of $67,000 to $69,000 in the next three days, it may be prudent to consider buying Bitcoin. However, it is essential to stay informed and be prepared to adjust the investment strategy based on changing market conditions.'"
      ]
     },
     "execution_count": 157,
     "metadata": {},
     "output_type": "execute_result"
    }
   ],
   "source": [
    "result"
   ]
  },
  {
   "cell_type": "code",
   "execution_count": 158,
   "metadata": {},
   "outputs": [
    {
     "name": "stdout",
     "output_type": "stream",
     "text": [
      "[Document(page_content=\"\\n\\n\\n\\n\\nLangSmith User Guide | 🦜️🛠️ LangSmith\\n\\n\\n\\n\\n\\n\\n\\nSkip to main contentLangSmith API DocsSearchGo to AppQuick StartUser GuideTracingEvaluationProduction Monitoring & AutomationsPrompt HubProxyPricingSelf-HostingCookbookThis is outdated documentation for 🦜️🛠️ LangSmith, which is no longer actively maintained.For up-to-date documentation, see the latest version.User GuideOn this pageLangSmith User GuideLangSmith is a platform for LLM application development, monitoring, and testing. In this guide, we’ll highlight the breadth of workflows LangSmith supports and how they fit into each stage of the application development lifecycle. We hope this will inform users how to best utilize this powerful platform or give them something to consider if they’re just starting their journey.Prototyping\\u200bPrototyping LLM applications often involves quick experimentation between prompts, model types, retrieval strategy and other parameters.\\nThe ability to rapidly understand how the model is performing — and debug where it is failing — is incredibly important for this phase.Debugging\\u200bWhen developing new LLM applications, we suggest having LangSmith tracing enabled by default.\\nOftentimes, it isn’t necessary to look at every single trace. However, when things go wrong (an unexpected end result, infinite agent loop, slower than expected execution, higher than expected token usage), it’s extremely helpful to debug by looking through the application traces. LangSmith gives clear visibility and debugging information at each step of an LLM sequence, making it much easier to identify and root-cause issues.\\nWe provide native rendering of chat messages, functions, and retrieve documents.Initial Test Set\\u200bWhile many developers still ship an initial version of their application based on “vibe checks”, we’ve seen an increasing number of engineering teams start to adopt a more test driven approach. LangSmith allows developers to create datasets, which are collections of inputs and reference outputs, and use these to run tests on their LLM applications.\\nThese test cases can be uploaded in bulk, created on the fly, or exported from application traces. LangSmith also makes it easy to run custom evaluations (both LLM and heuristic based) to score test results.Comparison View\\u200bWhen prototyping different versions of your applications and making changes, it’s important to see whether or not you’ve regressed with respect to your initial test cases.\\nOftentimes, changes in the prompt, retrieval strategy, or model choice can have huge implications in responses produced by your application.\\nIn order to get a sense for which variant is performing better, it’s useful to be able to view results for different configurations on the same datapoints side-by-side. We’ve invested heavily in a user-friendly comparison view for test runs to track and diagnose regressions in test scores across multiple revisions of your application.Playground\\u200bLangSmith provides a playground environment for rapid iteration and experimentation.\\nThis allows you to quickly test out different prompts and models. You can open the playground from any prompt or model run in your trace.\\nEvery playground run is logged in the system and can be used to create test cases or compare with other runs.Beta Testing\\u200bBeta testing allows developers to collect more data on how their LLM applications are performing in real-world scenarios. In this phase, it’s important to develop an understanding for the types of inputs the app is performing well or poorly on and how exactly it’s breaking down in those cases. Both feedback collection and run annotation are critical for this workflow. This will help in curation of test cases that can help track regressions/improvements and development of automatic evaluations.Capturing Feedback\\u200bWhen launching your application to an initial set of users, it’s important to gather human feedback on the responses it’s producing. This helps draw attention to the most interesting runs and highlight edge cases that are causing problematic responses. LangSmith allows you to attach feedback scores to logged traces (oftentimes, this is hooked up to a feedback button in your app), then filter on traces that have a specific feedback tag and score. A common workflow is to filter on traces that receive a poor user feedback score, then drill down into problematic points using the detailed trace view.Annotating Traces\\u200bLangSmith also supports sending runs to annotation queues, which allow annotators to closely inspect interesting traces and annotate them with respect to different criteria. Annotators can be PMs, engineers, or even subject matter experts. This allows users to catch regressions across important evaluation criteria.Adding Runs to a Dataset\\u200bAs your application progresses through the beta testing phase, it's essential to continue collecting data to refine and improve its performance. LangSmith enables you to add runs as examples to datasets (from both the project page and within an annotation queue), expanding your test coverage on real-world scenarios. This is a key benefit in having your logging system and your evaluation/testing system in the same platform.Production\\u200bClosely inspecting key data points, growing benchmarking datasets, annotating traces, and drilling down into important data in trace view are workflows you’ll also want to do once your app hits production.However, especially at the production stage, it’s crucial to get a high-level overview of application performance with respect to latency, cost, and feedback scores. This ensures that it's delivering desirable results at scale.Online evaluations and automations allow you to process and score production traces in near real-time.Additionally, threads provide a seamless way to group traces from a single conversation, making it easier to track the performance of your application across multiple turns.Monitoring and A/B Testing\\u200bLangSmith provides monitoring charts that allow you to track key metrics over time. You can expand to view metrics for a given period and drill down into a specific data point to get a trace table for that time period — this is especially handy for debugging production issues.LangSmith also allows for tag and metadata grouping, which allows users to mark different versions of their applications with different identifiers and view how they are performing side-by-side within each chart. This is helpful for A/B testing changes in prompt, model, or retrieval strategy.Automations\\u200bAutomations are a powerful feature in LangSmith that allow you to perform actions on traces in near real-time. This can be used to automatically score traces, send them to annotation queues, or send them to datasets.To define an automation, simply provide a filter condition, a sampling rate, and an action to perform. Automations are particularly helpful for processing traces at production scale.Threads\\u200bMany LLM applications are multi-turn, meaning that they involve a series of interactions between the user and the application. LangSmith provides a threads view that groups traces from a single conversation together, making it easier to track the performance of and annotate your application across multiple turns.Was this page helpful?You can leave detailed feedback on GitHub.PreviousQuick StartNextOverviewPrototypingBeta TestingProductionCommunityDiscordTwitterGitHubDocs CodeLangSmith SDKPythonJS/TSMoreHomepageBlogLangChain Python DocsLangChain JS/TS DocsCopyright © 2024 LangChain, Inc.\\n\\n\\n\\n\", metadata={'source': 'https://docs.smith.langchain.com/user_guide', 'title': 'LangSmith User Guide | 🦜️🛠️ LangSmith', 'description': 'LangSmith is a platform for LLM application development, monitoring, and testing. In this guide, we’ll highlight the breadth of workflows LangSmith supports and how they fit into each stage of the application development lifecycle. We hope this will inform users how to best utilize this powerful platform or give them something to consider if they’re just starting their journey.', 'language': 'en'}), Document(page_content='\\n\\n\\n\\n\\nGet started with LangSmith | 🦜️🛠️ LangSmith\\n\\n\\n\\n\\n\\n\\n\\nSkip to main contentLangSmith API DocsSearchGo to AppQuick startTutorialsHow-to guidesConceptsReferencePricingSelf-hostingQuick startOn this pageGet started with LangSmithLangSmith is a platform for building production-grade LLM applications. It allows you to closely monitor and evaluate your application, so you can ship quickly and with confidence. Use of LangChain is not necessary - LangSmith works on its own!1. Install LangSmith\\u200bPythonTypeScriptpip install -U langsmithyarn add langchain langsmith2. Create an API key\\u200bTo create an API key head to the Settings page. Then click Create API Key.3. Set up your environment\\u200bShellexport LANGCHAIN_TRACING_V2=trueexport LANGCHAIN_API_KEY=<your-api-key># The below examples use the OpenAI API, though it\\'s not necessary in generalexport OPENAI_API_KEY=<your-openai-api-key>4. Log your first trace\\u200bWe provide multiple ways to log traces to LangSmith. Below, we\\'ll highlight\\nhow to use traceable. See more on the Annotate code for tracing page.PythonTypeScriptimport openaifrom langsmith.wrappers import wrap_openaifrom langsmith import traceable# Auto-trace LLM calls in-contextclient = wrap_openai(openai.Client())@traceable # Auto-trace this functiondef pipeline(user_input: str):    result = client.chat.completions.create(        messages=[{\"role\": \"user\", \"content\": user_input}],        model=\"gpt-3.5-turbo\"    )    return result.choices[0].message.contentpipeline(\"Hello, world!\")# Out:  Hello there! How can I assist you today?import { OpenAI } from \"openai\";import { traceable } from \"langsmith/traceable\";import { wrapOpenAI } from \"langsmith/wrappers\";// Auto-trace LLM calls in-contextconst client = wrapOpenAI(new OpenAI());// Auto-trace this functionconst pipeline = traceable(async (user_input) => {    const result = await client.chat.completions.create({        messages: [{ role: \"user\", content: user_input }],        model: \"gpt-3.5-turbo\",    });    return result.choices[0].message.content;});await pipeline(\"Hello, world!\")// Out: Hello there! How can I assist you today?View a sample output trace.Learn more about tracing in the how-to guides.5. Run your first evaluation\\u200bEvaluation requires a system to test, data to serve as test cases, and optionally evaluators to grade the results. Here we use a built-in accuracy evaluator.PythonTypeScriptfrom langsmith import Clientfrom langsmith.evaluation import evaluateclient = Client()# Define dataset: these are your test casesdataset_name = \"Sample Dataset\"dataset = client.create_dataset(dataset_name, description=\"A sample dataset in LangSmith.\")client.create_examples(    inputs=[        {\"postfix\": \"to LangSmith\"},        {\"postfix\": \"to Evaluations in LangSmith\"},    ],    outputs=[        {\"output\": \"Welcome to LangSmith\"},        {\"output\": \"Welcome to Evaluations in LangSmith\"},    ],    dataset_id=dataset.id,)# Define your evaluatordef exact_match(run, example):    return {\"score\": run.outputs[\"output\"] == example.outputs[\"output\"]}experiment_results = evaluate(    lambda input: \"Welcome \" + input[\\'postfix\\'], # Your AI system goes here    data=dataset_name, # The data to predict and grade over    evaluators=[exact_match], # The evaluators to score the results    experiment_prefix=\"sample-experiment\", # The name of the experiment    metadata={      \"version\": \"1.0.0\",      \"revision_id\": \"beta\"    },)import { Client, Run, Example } from \"langsmith\";import { evaluate } from \"langsmith/evaluation\";import { EvaluationResult } from \"langsmith/evaluation\";const client = new Client();// Define dataset: these are your test casesconst datasetName = \"Sample Dataset\";const dataset = await client.createDataset(datasetName, {  description: \"A sample dataset in LangSmith.\",});await client.createExamples({  inputs: [    { postfix: \"to LangSmith\" },    { postfix: \"to Evaluations in LangSmith\" },  ],  outputs: [    { output: \"Welcome to LangSmith\" },    { output: \"Welcome to Evaluations in LangSmith\" },  ],  datasetId: dataset.id,});// Define your evaluatorconst exactMatch = async (  run: Run,  example: Example): Promise<EvaluationResult> => {  return {    key: \"exact_match\",    score: run.outputs?.output === example?.outputs?.output,  };};await evaluate(  (input: { postfix: string }) => ({ output: `Welcome ${input.postfix}` }),  {    data: datasetName,    evaluators: [exactMatch],    metadata: {      version: \"1.0.0\",      revision_id: \"beta\",    },  });Learn more about evaluation in the how-to guides.Was this page helpful?You can leave detailed feedback on GitHub.NextTutorials1. Install LangSmith2. Create an API key3. Set up your environment4. Log your first trace5. Run your first evaluationCommunityDiscordTwitterGitHubDocs CodeLangSmith SDKPythonJS/TSMoreHomepageBlogLangChain Python DocsLangChain JS/TS DocsCopyright © 2024 LangChain, Inc.\\n\\n\\n\\n', metadata={'source': 'https://docs.smith.langchain.com', 'title': 'Get started with LangSmith | 🦜️🛠️ LangSmith', 'description': 'LangSmith is a platform for building production-grade LLM applications. It allows you to closely monitor and evaluate your application, so you can ship quickly and with confidence. Use of LangChain is not necessary - LangSmith works on its own!', 'language': 'en'})]\n"
     ]
    }
   ],
   "source": [
    "from langchain_community.document_loaders import WebBaseLoader\n",
    "\n",
    "# Multiple URLs\n",
    "website_urls = [\n",
    "    \"https://docs.smith.langchain.com/user_guide\",\n",
    "    \"https://docs.smith.langchain.com\",\n",
    "]\n",
    "\n",
    "# Initialize an empty list to store all documents\n",
    "all_documents = []\n",
    "\n",
    "# Loop through website URLs and use WebBaseLoader for each\n",
    "for url in website_urls:\n",
    "  loader = WebBaseLoader(url)\n",
    "  website_documents = loader.load()\n",
    "  all_documents.extend(website_documents)\n",
    "\n",
    "# Process the all_documents list further (e.g., vectorization)\n",
    "\n",
    "print(all_documents)"
   ]
  },
  {
   "cell_type": "code",
   "execution_count": 159,
   "metadata": {},
   "outputs": [],
   "source": [
    "# 3.2 Load openAI embedding model to get the embeddings of the documents\n",
    "from langchain_openai import OpenAIEmbeddings\n",
    "embeddings = OpenAIEmbeddings()"
   ]
  },
  {
   "cell_type": "code",
   "execution_count": 160,
   "metadata": {},
   "outputs": [],
   "source": [
    "# 3.3 Add vector store\n",
    "from langchain_community.vectorstores import FAISS\n",
    "from langchain_text_splitters import RecursiveCharacterTextSplitter\n",
    "\n",
    "text_splitter = RecursiveCharacterTextSplitter()\n",
    "documents = text_splitter.split_documents(all_documents)\n",
    "vector_store = FAISS.from_documents(documents, embeddings)"
   ]
  },
  {
   "cell_type": "code",
   "execution_count": 161,
   "metadata": {},
   "outputs": [
    {
     "name": "stdout",
     "output_type": "stream",
     "text": [
      "<faiss.swigfaiss.IndexFlatL2; proxy of <Swig Object of type 'faiss::IndexFlatL2 *' at 0x7fc278914b70> >\n",
      "Vector 0: [-0.0080638   0.01916084  0.01222096 ... -0.00213274  0.02612103\n",
      " -0.01153036]\n",
      "Vector 1: [-0.02374188  0.01507666  0.00888921 ...  0.01401275  0.00637293\n",
      " -0.01765243]\n",
      "Vector 2: [-0.01742077  0.01093862  0.01232167 ...  0.00759277 -0.00432376\n",
      " -0.01816119]\n",
      "Vector 3: [-0.021696    0.01003824  0.01190209 ... -0.00271375 -0.0079929\n",
      " -0.03096637]\n",
      "Vector 4: [ 0.00756025  0.01780557  0.01517474 ...  0.00688559  0.0135542\n",
      " -0.00869937]\n",
      "Vector 5: [ 0.00599423  0.00548193  0.00797372 ...  0.01548741  0.00085122\n",
      " -0.02121678]\n",
      "Vector 6: [-0.00539542  0.00660179  0.00760884 ... -0.00329915 -0.01941373\n",
      " -0.05169536]\n"
     ]
    }
   ],
   "source": [
    "# Retrieve vectors from the vector store\n",
    "\n",
    "# This is the underlying FAISS index\n",
    "faiss_index = vector_store.index\n",
    "print(faiss_index)\n",
    "\n",
    "# 0 is the starting index and faiss_index.ntotal is the ending index\n",
    "vectors = faiss_index.reconstruct_n(0, faiss_index.ntotal)\n",
    "for i, vector in enumerate(vectors):\n",
    "    print(f\"Vector {i}: {vector}\")"
   ]
  },
  {
   "cell_type": "code",
   "execution_count": 162,
   "metadata": {},
   "outputs": [
    {
     "name": "stdout",
     "output_type": "stream",
     "text": [
      "input_variables=['context', 'question'] template='Use the following pieces of context to answer the question at the end.\\nIf you don\\'t know the answer, just say that you don\\'t know. Use three sentences maximum and keep the answer as concise as possible.\\nAlways say \"thanks for asking!\" at the end of the answer.\\n{context}\\nQuestion: {question}\\nHelpful Answer:'\n"
     ]
    }
   ],
   "source": [
    "from langchain import hub\n",
    "\n",
    "#We can use PromptTemplate to add more instructions to our input for the LLM, (instructions, context from retriever and the question user wants to ask)\n",
    "from langchain_core.prompts.prompt import PromptTemplate\n",
    "\n",
    "template = \"\"\"Use the following pieces of context to answer the question at the end.\n",
    "If you don't know the answer, just say that you don't know. Use three sentences maximum and keep the answer as concise as possible.\n",
    "Always say \"thanks for asking!\" at the end of the answer.\n",
    "{context}\n",
    "Question: {question}\n",
    "Helpful Answer:\"\"\"\n",
    "prompt_custom = PromptTemplate.from_template(template)\n",
    "\n",
    "print(prompt_custom)"
   ]
  },
  {
   "cell_type": "code",
   "execution_count": 164,
   "metadata": {},
   "outputs": [
    {
     "name": "stdout",
     "output_type": "stream",
     "text": [
      "Task decomposition is the process of breaking down a complex task into smaller, more manageable sub-tasks. This helps in understanding the task better, assigning work to different team members, and monitoring progress effectively. Thanks for asking!"
     ]
    }
   ],
   "source": [
    "retriever = vector_store.as_retriever()\n",
    "\n",
    "from langchain_core.output_parsers import StrOutputParser\n",
    "from langchain_core.runnables import RunnablePassthrough\n",
    "\n",
    "\n",
    "def format_docs(docs):\n",
    "    return \"\\n\\n\".join(doc.page_content for doc in docs)\n",
    "\n",
    "\n",
    "rag_chain = (\n",
    "    {\"context\": retriever | format_docs, \"question\": RunnablePassthrough()}\n",
    "    | prompt_custom\n",
    "    | llm\n",
    "    | StrOutputParser()\n",
    ")\n",
    "\n",
    "#print(rag_chain)\n",
    "\n",
    "for chunk in rag_chain.stream(\"What is Task Decomposition?\"):\n",
    "    print(chunk, end=\"\", flush=True)\n",
    "\n"
   ]
  },
  {
   "cell_type": "code",
   "execution_count": null,
   "metadata": {},
   "outputs": [],
   "source": []
  }
 ],
 "metadata": {
  "kernelspec": {
   "display_name": "openai",
   "language": "python",
   "name": "python3"
  },
  "language_info": {
   "codemirror_mode": {
    "name": "ipython",
    "version": 3
   },
   "file_extension": ".py",
   "mimetype": "text/x-python",
   "name": "python",
   "nbconvert_exporter": "python",
   "pygments_lexer": "ipython3",
   "version": "3.9.18"
  }
 },
 "nbformat": 4,
 "nbformat_minor": 2
}
